{
 "cells": [
  {
   "cell_type": "code",
   "metadata": {},
   "source": [
    "import pickle\n",
    "import matplotlib.pyplot as plt\n",
    "plt.rcParams.update({'font.size': 18})\n",
    "plt.rc('axes', axisbelow=True)\n",
    "\n",
    "from utils.visualization import plot_median_scores"
   ],
   "outputs": [],
   "execution_count": null
  },
  {
   "cell_type": "code",
   "metadata": {},
   "source": [
    "with open('../_results/vision-models/BEiT.pkl', 'rb') as file:\n",
    "    BEiT = pickle.load(file)\n",
    "with open('../_results/vision-models/DINO.pkl', 'rb') as file:\n",
    "    DINO = pickle.load(file)\n",
    "with open('../_results/vision-models/DIT.pkl', 'rb') as file:\n",
    "    DIT = pickle.load(file)\n",
    "with open('../_results/vision-models/GIT-images.pkl', 'rb') as file:\n",
    "    GIT_images = pickle.load(file)\n",
    "with open('attention-geometry/_results/vision-models/DEIT.pkl', 'rb') as file:\n",
    "    DEIT = pickle.load(file)\n",
    "with open('attention-geometry/_results/vision-models/DETR-Encoder.pkl', 'rb') as file:\n",
    "    DETR_enc = pickle.load(file)\n",
    "with open('attention-geometry/_results/vision-models/DINOv2.pkl', 'rb') as file:\n",
    "    DINOv2 = pickle.load(file)\n",
    "with open('attention-geometry/_results/vision-models/ViT-21k.pkl', 'rb') as file:\n",
    "    vit_21k = pickle.load(file)\n",
    "with open('attention-geometry/_results/vision-models/ViT.pkl', 'rb') as file:\n",
    "    vit = pickle.load(file)\n",
    "with open('attention-geometry/_results/vision-models/ViT-MAE.pkl', 'rb') as file:\n",
    "    vit_mae = pickle.load(file)\n",
    "\n",
    "with open('../_results/vision-models/iGPT.pkl', 'rb') as file:\n",
    "    iGPT = pickle.load(file)\n",
    "with open('attention-geometry/_results/vision-models/DETR-Decoder.pkl', 'rb') as file:\n",
    "    DETR_dec = pickle.load(file)\n",
    "with open('../_results/vision-models/mask2former-decoder.pkl', 'rb') as file:\n",
    "    m2f_decoder = pickle.load(file)"
   ],
   "outputs": [],
   "execution_count": null
  },
  {
   "cell_type": "code",
   "metadata": {},
   "source": [
    "plt.figure(figsize=(5,5))\n",
    "\n",
    "plot_median_scores(BEiT, color = 'navy')\n",
    "plot_median_scores(DINO, color = 'navy')\n",
    "plot_median_scores(DIT, color = 'navy')\n",
    "plot_median_scores(GIT_images, color = 'navy')\n",
    "plot_median_scores(DEIT, color = 'navy')\n",
    "plot_median_scores(DETR_enc, color = 'navy')\n",
    "plot_median_scores(DINOv2, color = 'navy')\n",
    "plot_median_scores(vit_21k, color = 'navy')\n",
    "plot_median_scores(vit, color = 'navy')\n",
    "plot_median_scores(vit_mae, color = 'navy')\n",
    "\n",
    "plot_median_scores(iGPT, color = 'purple')\n",
    "plot_median_scores(DETR_dec, color = 'purple')\n",
    "plot_median_scores(m2f_decoder, color = 'purple')\n",
    "\n",
    "plt.axhline(y=0,linestyle='dashed',color='k')\n",
    "plt.grid(color = 'gray', linestyle = '--', linewidth = 0.5)\n",
    "plt.xscale('log')\n",
    "plt.ylim(-1,1)\n",
    "plt.xlim(10e5, 10e11)\n",
    "plt.ylabel('symmetry score')\n",
    "plt.xlabel('# parameters')\n",
    "\n",
    "plt.savefig('figures/fig-symmetry-vision.pdf', format='pdf', dpi=300)"
   ],
   "outputs": [],
   "execution_count": null
  },
  {
   "cell_type": "code",
   "metadata": {},
   "source": [
    "plt.figure(figsize=(5,5))\n",
    "\n",
    "plot_median_scores(BEiT, color = 'navy', mode = 'directionality')\n",
    "plot_median_scores(DINO, color = 'navy', mode = 'directionality')\n",
    "plot_median_scores(DIT, color = 'navy', mode = 'directionality')\n",
    "plot_median_scores(GIT_images, color = 'navy', mode = 'directionality')\n",
    "plot_median_scores(DEIT, color = 'navy', mode = 'directionality')\n",
    "plot_median_scores(DETR_enc, color = 'navy', mode = 'directionality')\n",
    "plot_median_scores(DINOv2, color = 'navy', mode = 'directionality')\n",
    "plot_median_scores(vit_21k, color = 'navy', mode = 'directionality')\n",
    "plot_median_scores(vit, color = 'navy', mode = 'directionality')\n",
    "plot_median_scores(vit_mae, color = 'navy', mode = 'directionality')\n",
    "\n",
    "\n",
    "plot_median_scores(iGPT, color = 'purple', mode = 'directionality')\n",
    "plot_median_scores(DETR_dec, color = 'purple', mode = 'directionality')\n",
    "plot_median_scores(m2f_decoder, color = 'purple', mode = 'directionality')\n",
    "\n",
    "plt.axhline(y=0,linestyle='dashed',color='k')\n",
    "plt.grid(color = 'gray', linestyle = '--', linewidth = 0.5)\n",
    "plt.xscale('log')\n",
    "plt.ylim(-1,1)\n",
    "plt.xlim(10e5, 10e11)\n",
    "plt.ylabel('directionality score')\n",
    "plt.xlabel('# parameters')\n",
    "\n",
    "plt.savefig('figures/fig-directionality-vision.pdf', format='pdf', dpi=300)"
   ],
   "outputs": [],
   "execution_count": null
  },
  {
   "cell_type": "code",
   "metadata": {},
   "source": [],
   "outputs": [],
   "execution_count": null
  },
  {
   "cell_type": "code",
   "metadata": {},
   "source": [],
   "outputs": [],
   "execution_count": null
  },
  {
   "cell_type": "code",
   "metadata": {},
   "source": [],
   "outputs": [],
   "execution_count": null
  }
 ],
 "metadata": {
  "kernelspec": {
   "display_name": "attention-geometry",
   "language": "python",
   "name": "python3"
  },
  "language_info": {
   "codemirror_mode": {
    "name": "ipython",
    "version": 3
   },
   "file_extension": ".py",
   "mimetype": "text/x-python",
   "name": "python",
   "nbconvert_exporter": "python",
   "pygments_lexer": "ipython3",
   "version": "3.11.5"
  }
 },
 "nbformat": 4,
 "nbformat_minor": 2
}
