{
 "cells": [
  {
   "cell_type": "code",
   "execution_count": 1,
   "metadata": {},
   "outputs": [],
   "source": [
    "import numpy as np\n",
    "import matplotlib.pyplot as plt\n",
    "from matplotlib.colors import LinearSegmentedColormap\n",
    "plt.rcParams.update({'font.size': 14})\n",
    "plt.rc('axes', axisbelow=True)\n",
    "from utils.funs import get_nested_attr"
   ]
  },
  {
   "cell_type": "code",
   "execution_count": 2,
   "metadata": {},
   "outputs": [
    {
     "name": "stderr",
     "output_type": "stream",
     "text": [
      "/opt/homebrew/Caskroom/miniconda/base/envs/attention-geometry/lib/python3.11/site-packages/tqdm/auto.py:21: TqdmWarning: IProgress not found. Please update jupyter and ipywidgets. See https://ipywidgets.readthedocs.io/en/stable/user_install.html\n",
      "  from .autonotebook import tqdm as notebook_tqdm\n",
      "Loading checkpoint shards: 100%|██████████| 2/2 [00:21<00:00, 10.77s/it]\n"
     ]
    }
   ],
   "source": [
    "## LLAMA models\n",
    "from transformers import AutoModelForCausalLM\n",
    "\n",
    "path = [\"model.layers[\", \n",
    "        \"].self_attn.q_proj.weight\", \n",
    "        \"].self_attn.k_proj.weight\"]\n",
    "\n",
    "'LLAMA 2 7b (l = 32, d = 4096, h = 32 ; tot num parameters 7B)'\n",
    "dh = 128\n",
    "l = 32\n",
    "d = 4096\n",
    "h = d // dh\n",
    "model = AutoModelForCausalLM.from_pretrained(\"meta-llama/Llama-2-7b-hf\")\n",
    "\n",
    "M = []\n",
    "for layer in range(l):\n",
    "    Wq = get_nested_attr(model, path[0] + f\"{layer}\" + path[1]).T.detach()\n",
    "    Wk = get_nested_attr(model, path[0] + f\"{layer}\" + path[2]).T.detach()\n",
    "    M.append(Wq @ Wk.T)"
   ]
  },
  {
   "cell_type": "code",
   "execution_count": 9,
   "metadata": {},
   "outputs": [
    {
     "name": "stdout",
     "output_type": "stream",
     "text": [
      "score 0.10204081632653061\n",
      " columns : 54 , rows: 44\n"
     ]
    },
    {
     "data": {
      "text/plain": [
       "<matplotlib.lines.Line2D at 0x977d99dd0>"
      ]
     },
     "execution_count": 9,
     "metadata": {},
     "output_type": "execute_result"
    },
    {
     "data": {
      "image/png": "[encoded data removed]",
      "text/plain": [
       "<Figure size 640x480 with 1 Axes>"
      ]
     },
     "metadata": {},
     "output_type": "display_data"
    }
   ],
   "source": [
    "layer = 4\n",
    "\n",
    "column_norms = np.log(np.linalg.norm(M[layer], axis = 0))\n",
    "row_norms = np.log(np.linalg.norm(M[layer], axis = 1))\n",
    "column_mean = column_norms.mean()\n",
    "column_std = column_norms.std()\n",
    "column_median = np.mean(column_norms)\n",
    "row_mean = row_norms.mean()\n",
    "row_std = row_norms.std()\n",
    "row_median = np.median(row_norms)\n",
    "\n",
    "num_std = 3\n",
    "row_outliers = np.sum(row_norms > row_mean + num_std * row_std)\n",
    "column_outliers = np.sum(column_norms > column_mean + num_std * column_std)\n",
    "\n",
    "\n",
    "print(f\"score {(column_outliers - row_outliers) / (column_outliers + row_outliers)}\")\n",
    "print(f' columns : {column_outliers} , rows: {row_outliers}')\n",
    "plt.hist(column_norms, density = True, bins = 500, color = 'navy')\n",
    "plt.hist(row_norms, density = True, bins = 500, color = 'mediumvioletred')\n",
    "plt.axvline(x = column_mean, color = 'navy', linewidth = 2)\n",
    "plt.axvline(x = row_mean, color = 'mediumvioletred', linewidth = 2)"
   ]
  },
  {
   "cell_type": "code",
   "execution_count": 16,
   "metadata": {},
   "outputs": [],
   "source": [
    "scores = []\n",
    "num_std = 3\n",
    "for layer in range(l):\n",
    "    \n",
    "    column_norms = np.log(np.linalg.norm(M[layer], axis = 0))\n",
    "    row_norms = np.log(np.linalg.norm(M[layer], axis = 1))\n",
    "    column_mean = column_norms.mean()\n",
    "    column_std = column_norms.std()\n",
    "    column_median = np.mean(column_norms)\n",
    "    row_mean = row_norms.mean()\n",
    "    row_std = row_norms.std()\n",
    "    row_median = np.median(row_norms)\n",
    "\n",
    "    row_outliers = np.sum(row_norms > row_mean + num_std * row_std)\n",
    "    column_outliers = np.sum(column_norms > column_mean + num_std * column_std)\n",
    "\n",
    "    scores.append((column_outliers - row_outliers) / (column_outliers + row_outliers))"
   ]
  },
  {
   "cell_type": "code",
   "execution_count": 17,
   "metadata": {},
   "outputs": [
    {
     "data": {
      "text/plain": [
       "0.13205453392517438"
      ]
     },
     "execution_count": 17,
     "metadata": {},
     "output_type": "execute_result"
    }
   ],
   "source": [
    "np.median(scores)"
   ]
  },
  {
   "cell_type": "code",
   "execution_count": 18,
   "metadata": {},
   "outputs": [
    {
     "name": "stderr",
     "output_type": "stream",
     "text": [
      "Some weights of RobertaModel were not initialized from the model checkpoint at roberta-base and are newly initialized: ['roberta.pooler.dense.bias', 'roberta.pooler.dense.weight']\n",
      "You should probably TRAIN this model on a down-stream task to be able to use it for predictions and inference.\n"
     ]
    }
   ],
   "source": [
    "## ROBERTA models\n",
    "from transformers import RobertaModel\n",
    "\n",
    "path = [\"encoder.layer[\", \n",
    "        \"].attention.self.query.weight\", \n",
    "        \"].attention.self.key.weight\"]\n",
    "\n",
    "'ROBERTA base (l = 24, d = 1024, h = 16 ; 125M parameters)'\n",
    "dh = 64\n",
    "l = 12\n",
    "d = 768\n",
    "h = d // dh\n",
    "model = RobertaModel.from_pretrained('roberta-base')\n",
    "\n",
    "M = []\n",
    "for layer in range(l):\n",
    "    Wq = get_nested_attr(model, path[0] + f\"{layer}\" + path[1]).T.detach()\n",
    "    Wk = get_nested_attr(model, path[0] + f\"{layer}\" + path[2]).T.detach()\n",
    "    M.append(Wq @ Wk.T)"
   ]
  },
  {
   "cell_type": "code",
   "execution_count": 24,
   "metadata": {},
   "outputs": [
    {
     "name": "stdout",
     "output_type": "stream",
     "text": [
      "score -0.10344827586206896\n",
      " columns : 13 , rows: 16\n"
     ]
    },
    {
     "data": {
      "text/plain": [
       "<matplotlib.lines.Line2D at 0x28bd46a90>"
      ]
     },
     "execution_count": 24,
     "metadata": {},
     "output_type": "execute_result"
    },
    {
     "data": {
      "image/png": "[encoded data removed]",
      "text/plain": [
       "<Figure size 640x480 with 1 Axes>"
      ]
     },
     "metadata": {},
     "output_type": "display_data"
    }
   ],
   "source": [
    "layer = 1\n",
    "\n",
    "column_norms = np.log(np.linalg.norm(M[layer], axis = 0))\n",
    "row_norms = np.log(np.linalg.norm(M[layer], axis = 1))\n",
    "column_mean = column_norms.mean()\n",
    "column_std = column_norms.std()\n",
    "column_median = np.mean(column_norms)\n",
    "row_mean = row_norms.mean()\n",
    "row_std = row_norms.std()\n",
    "row_median = np.median(row_norms)\n",
    "\n",
    "num_std = 3\n",
    "row_outliers = np.sum(row_norms > row_mean + num_std * row_std)\n",
    "column_outliers = np.sum(column_norms > column_mean + num_std * column_std)\n",
    "\n",
    "\n",
    "print(f\"score {(column_outliers - row_outliers) / (column_outliers + row_outliers)}\")\n",
    "print(f' columns : {column_outliers} , rows: {row_outliers}')\n",
    "plt.hist(column_norms, density = True, bins = 500, color = 'navy')\n",
    "plt.hist(row_norms, density = True, bins = 500, color = 'mediumvioletred')\n",
    "plt.axvline(x = column_mean, color = 'navy', linewidth = 2)\n",
    "plt.axvline(x = row_mean, color = 'mediumvioletred', linewidth = 2)"
   ]
  },
  {
   "cell_type": "code",
   "execution_count": 25,
   "metadata": {},
   "outputs": [],
   "source": [
    "scores = []\n",
    "num_std = 3\n",
    "for layer in range(l):\n",
    "    \n",
    "    column_norms = np.log(np.linalg.norm(M[layer], axis = 0))\n",
    "    row_norms = np.log(np.linalg.norm(M[layer], axis = 1))\n",
    "    column_mean = column_norms.mean()\n",
    "    column_std = column_norms.std()\n",
    "    column_median = np.mean(column_norms)\n",
    "    row_mean = row_norms.mean()\n",
    "    row_std = row_norms.std()\n",
    "    row_median = np.median(row_norms)\n",
    "\n",
    "    row_outliers = np.sum(row_norms > row_mean + num_std * row_std)\n",
    "    column_outliers = np.sum(column_norms > column_mean + num_std * column_std)\n",
    "\n",
    "    scores.append((column_outliers - row_outliers) / (column_outliers + row_outliers))"
   ]
  },
  {
   "cell_type": "code",
   "execution_count": 26,
   "metadata": {},
   "outputs": [
    {
     "data": {
      "text/plain": [
       "0.07380952380952381"
      ]
     },
     "execution_count": 26,
     "metadata": {},
     "output_type": "execute_result"
    }
   ],
   "source": [
    "np.median(scores)"
   ]
  },
  {
   "cell_type": "code",
   "execution_count": 27,
   "metadata": {},
   "outputs": [],
   "source": [
    "## BERT models\n",
    "from transformers import AutoModel\n",
    "\n",
    "path = [\"encoder.layer[\", \n",
    "        \"].attention.self.query.weight\", \n",
    "        \"].attention.self.key.weight\"]\n",
    "\n",
    "'BERT tiny (l = 2, d = 128, h = 2 ; 4.40M parameters)'\n",
    "dh = 64\n",
    "l = 2\n",
    "d = 128\n",
    "h = d // dh\n",
    "model = AutoModel.from_pretrained(\"google/bert_uncased_L-2_H-128_A-2\")\n",
    "\n",
    "M = []\n",
    "for layer in range(l):\n",
    "    Wq = get_nested_attr(model, path[0] + f\"{layer}\" + path[1]).T.detach()\n",
    "    Wk = get_nested_attr(model, path[0] + f\"{layer}\" + path[2]).T.detach()\n",
    "    M.append(Wq @ Wk.T)"
   ]
  },
  {
   "cell_type": "code",
   "execution_count": 28,
   "metadata": {},
   "outputs": [
    {
     "name": "stderr",
     "output_type": "stream",
     "text": [
      "/var/folders/yy/3fh2plpd0txg1y9llct3rsv80000gn/T/ipykernel_17340/3680542551.py:17: RuntimeWarning: invalid value encountered in long_scalars\n",
      "  scores.append((column_outliers - row_outliers) / (column_outliers + row_outliers))\n"
     ]
    }
   ],
   "source": [
    "scores = []\n",
    "num_std = 3\n",
    "for layer in range(l):\n",
    "    \n",
    "    column_norms = np.log(np.linalg.norm(M[layer], axis = 0))\n",
    "    row_norms = np.log(np.linalg.norm(M[layer], axis = 1))\n",
    "    column_mean = column_norms.mean()\n",
    "    column_std = column_norms.std()\n",
    "    column_median = np.mean(column_norms)\n",
    "    row_mean = row_norms.mean()\n",
    "    row_std = row_norms.std()\n",
    "    row_median = np.median(row_norms)\n",
    "\n",
    "    row_outliers = np.sum(row_norms > row_mean + num_std * row_std)\n",
    "    column_outliers = np.sum(column_norms > column_mean + num_std * column_std)\n",
    "\n",
    "    scores.append((column_outliers - row_outliers) / (column_outliers + row_outliers))"
   ]
  },
  {
   "cell_type": "code",
   "execution_count": 29,
   "metadata": {},
   "outputs": [
    {
     "data": {
      "text/plain": [
       "[1.0, nan]"
      ]
     },
     "execution_count": 29,
     "metadata": {},
     "output_type": "execute_result"
    }
   ],
   "source": [
    "scores"
   ]
  },
  {
   "cell_type": "code",
   "execution_count": 12,
   "metadata": {},
   "outputs": [
    {
     "name": "stderr",
     "output_type": "stream",
     "text": [
      "/var/folders/yy/3fh2plpd0txg1y9llct3rsv80000gn/T/ipykernel_16690/102142322.py:17: RuntimeWarning: invalid value encountered in long_scalars\n",
      "  print(f\"score {(column_outliers - row_outliers) / (column_outliers + row_outliers)}\")\n"
     ]
    },
    {
     "name": "stdout",
     "output_type": "stream",
     "text": [
      "score nan\n",
      " columns : 0 , rows: 0\n"
     ]
    },
    {
     "data": {
      "text/plain": [
       "<matplotlib.lines.Line2D at 0x2b4754310>"
      ]
     },
     "execution_count": 12,
     "metadata": {},
     "output_type": "execute_result"
    },
    {
     "data": {
      "image/png": "[encoded data removed]",
      "text/plain": [
       "<Figure size 640x480 with 1 Axes>"
      ]
     },
     "metadata": {},
     "output_type": "display_data"
    }
   ],
   "source": [
    "layer = 1\n",
    "\n",
    "column_norms = np.linalg.norm(M[layer], axis = 0)\n",
    "row_norms = np.linalg.norm(M[layer], axis = 1)\n",
    "column_mean = column_norms.mean()\n",
    "column_std = column_norms.std()\n",
    "column_median = np.mean(column_norms)\n",
    "row_mean = row_norms.mean()\n",
    "row_std = row_norms.std()\n",
    "row_median = np.median(row_norms)\n",
    "\n",
    "num_std = 3\n",
    "row_outliers = np.sum(row_norms > row_mean + num_std * row_std)\n",
    "column_outliers = np.sum(column_norms > column_mean + num_std * column_std)\n",
    "\n",
    "\n",
    "print(f\"score {(column_outliers - row_outliers) / (column_outliers + row_outliers)}\")\n",
    "print(f' columns : {column_outliers} , rows: {row_outliers}')\n",
    "plt.hist(column_norms, density = True, bins = 500, color = 'navy')\n",
    "plt.hist(row_norms, density = True, bins = 500, color = 'mediumvioletred')\n",
    "plt.axvline(x = column_mean, color = 'navy', linewidth = 2)\n",
    "plt.axvline(x = row_mean, color = 'mediumvioletred', linewidth = 2)"
   ]
  },
  {
   "cell_type": "code",
   "execution_count": null,
   "metadata": {},
   "outputs": [
    {
     "name": "stderr",
     "output_type": "stream",
     "text": [
      "/opt/homebrew/Caskroom/miniconda/base/envs/attention-geometry/lib/python3.11/site-packages/torch/_utils.py:831: UserWarning: TypedStorage is deprecated. It will be removed in the future and UntypedStorage will be the only storage class. This should only matter to you if you are using storages directly.  To access UntypedStorage directly, use tensor.untyped_storage() instead of tensor.storage()\n",
      "  return self.fget.__get__(instance, owner)()\n"
     ]
    }
   ],
   "source": [
    "## TinyGPT models\n",
    "from transformers import AutoModelForCausalLM\n",
    "\n",
    "path = [\"transformer.h[\", \n",
    "        \"].attn.attention.q_proj.weight\", \n",
    "        \"].attn.attention.k_proj.weight\"]\n",
    "\n",
    "'TinyGPT 1m (l = 8, d = 64, h = 1 ; 1M parameters)'\n",
    "dh = 64\n",
    "l = 8\n",
    "d = 64\n",
    "h = d // dh\n",
    "model = AutoModelForCausalLM.from_pretrained(\"roneneldan/TinyStories-1M\")\n",
    "\n",
    "M = []\n",
    "for layer in range(l):\n",
    "    Wq = get_nested_attr(model, path[0] + f\"{layer}\" + path[1]).T.detach()\n",
    "    Wk = get_nested_attr(model, path[0] + f\"{layer}\" + path[2]).T.detach()\n",
    "    M.append(Wq @ Wk.T)"
   ]
  },
  {
   "cell_type": "code",
   "execution_count": 31,
   "metadata": {},
   "outputs": [
    {
     "name": "stderr",
     "output_type": "stream",
     "text": [
      "/var/folders/yy/3fh2plpd0txg1y9llct3rsv80000gn/T/ipykernel_17340/3680542551.py:17: RuntimeWarning: invalid value encountered in long_scalars\n",
      "  scores.append((column_outliers - row_outliers) / (column_outliers + row_outliers))\n"
     ]
    }
   ],
   "source": [
    "scores = []\n",
    "num_std = 3\n",
    "for layer in range(l):\n",
    "    \n",
    "    column_norms = np.log(np.linalg.norm(M[layer], axis = 0))\n",
    "    row_norms = np.log(np.linalg.norm(M[layer], axis = 1))\n",
    "    column_mean = column_norms.mean()\n",
    "    column_std = column_norms.std()\n",
    "    column_median = np.mean(column_norms)\n",
    "    row_mean = row_norms.mean()\n",
    "    row_std = row_norms.std()\n",
    "    row_median = np.median(row_norms)\n",
    "\n",
    "    row_outliers = np.sum(row_norms > row_mean + num_std * row_std)\n",
    "    column_outliers = np.sum(column_norms > column_mean + num_std * column_std)\n",
    "\n",
    "    scores.append((column_outliers - row_outliers) / (column_outliers + row_outliers))"
   ]
  },
  {
   "cell_type": "code",
   "execution_count": 32,
   "metadata": {},
   "outputs": [
    {
     "data": {
      "text/plain": [
       "[nan, nan, nan, nan, nan, nan, nan, nan]"
      ]
     },
     "execution_count": 32,
     "metadata": {},
     "output_type": "execute_result"
    }
   ],
   "source": [
    "scores"
   ]
  },
  {
   "cell_type": "code",
   "execution_count": 35,
   "metadata": {},
   "outputs": [
    {
     "name": "stdout",
     "output_type": "stream",
     "text": [
      "score 1.0\n",
      " columns : 1 , rows: 0\n"
     ]
    },
    {
     "data": {
      "text/plain": [
       "<matplotlib.lines.Line2D at 0x29d33f3d0>"
      ]
     },
     "execution_count": 35,
     "metadata": {},
     "output_type": "execute_result"
    },
    {
     "data": {
      "image/png": "[encoded data removed]",
      "text/plain": [
       "<Figure size 640x480 with 1 Axes>"
      ]
     },
     "metadata": {},
     "output_type": "display_data"
    }
   ],
   "source": [
    "layer = 6\n",
    "\n",
    "column_norms = np.log(np.linalg.norm(M[layer], axis = 0))\n",
    "row_norms = np.log(np.linalg.norm(M[layer], axis = 1))\n",
    "column_mean = column_norms.mean()\n",
    "column_std = column_norms.std()\n",
    "column_median = np.mean(column_norms)\n",
    "row_mean = row_norms.mean()\n",
    "row_std = row_norms.std()\n",
    "row_median = np.median(row_norms)\n",
    "\n",
    "num_std = 2\n",
    "row_outliers = np.sum(row_norms > row_mean + num_std * row_std)\n",
    "column_outliers = np.sum(column_norms > column_mean + num_std * column_std)\n",
    "\n",
    "\n",
    "print(f\"score {(column_outliers - row_outliers) / (column_outliers + row_outliers)}\")\n",
    "print(f' columns : {column_outliers} , rows: {row_outliers}')\n",
    "plt.hist(column_norms, density = True, bins = 500, color = 'navy')\n",
    "plt.hist(row_norms, density = True, bins = 500, color = 'mediumvioletred')\n",
    "plt.axvline(x = column_mean, color = 'navy', linewidth = 2)\n",
    "plt.axvline(x = row_mean, color = 'mediumvioletred', linewidth = 2)"
   ]
  },
  {
   "cell_type": "code",
   "execution_count": null,
   "metadata": {},
   "outputs": [],
   "source": []
  }
 ],
 "metadata": {
  "kernelspec": {
   "display_name": "attention-geometry",
   "language": "python",
   "name": "python3"
  },
  "language_info": {
   "codemirror_mode": {
    "name": "ipython",
    "version": 3
   },
   "file_extension": ".py",
   "mimetype": "text/x-python",
   "name": "python",
   "nbconvert_exporter": "python",
   "pygments_lexer": "ipython3",
   "version": "3.11.5"
  }
 },
 "nbformat": 4,
 "nbformat_minor": 2
}
