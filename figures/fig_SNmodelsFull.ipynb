{
 "cells": [
  {
   "cell_type": "code",
   "execution_count": 1,
   "metadata": {},
   "outputs": [
    {
     "name": "stderr",
     "output_type": "stream",
     "text": [
      "/opt/homebrew/Caskroom/miniconda/base/envs/attention-geometry/lib/python3.11/site-packages/tqdm/auto.py:21: TqdmWarning: IProgress not found. Please update jupyter and ipywidgets. See https://ipywidgets.readthedocs.io/en/stable/user_install.html\n",
      "  from .autonotebook import tqdm as notebook_tqdm\n"
     ]
    }
   ],
   "source": [
    "\"\"\"\n",
    "Analysis pipeline on BERT models\n",
    "\"\"\"\n",
    "\n",
    "import numpy as np\n",
    "import matplotlib.pyplot as plt\n",
    "\n",
    "from transformers import BertModel, AlbertModel, DistilBertModel, BartModel, OpenAIGPTModel, GPT2Model"
   ]
  },
  {
   "cell_type": "code",
   "execution_count": 31,
   "metadata": {},
   "outputs": [],
   "source": [
    "def get_matricesBERT(model):\n",
    "\n",
    "    layers = len(model.encoder.layer)    \n",
    "    M = []\n",
    "    for l in range(layers):\n",
    "        Wq = model.encoder.layer[l].attention.self.query.weight.detach().numpy()\n",
    "        Wk = model.encoder.layer[l].attention.self.key.weight.detach().numpy()\n",
    "        M.append(Wq@(Wk.T))        \n",
    "\n",
    "    return M\n",
    "\n",
    "def get_matricesALBERT(model):\n",
    "\n",
    "    layers = len(model.encoder.albert_layer_groups)    \n",
    "    M = []\n",
    "    for l in range(layers):\n",
    "        Wq = model.encoder.albert_layer_groups[l].albert_layers[0].attention.query.weight.detach().numpy()\n",
    "        Wk = model.encoder.albert_layer_groups[l].albert_layers[0].attention.key.weight.detach().numpy()\n",
    "        M.append(Wq@(Wk.T))        \n",
    "\n",
    "    return M\n",
    "\n",
    "def get_matricesDistillBERT(model):\n",
    "\n",
    "    layers = len(model.transformer.layer)\n",
    "    M = []\n",
    "    for l in range(layers):\n",
    "        Wq = model.transformer.layer[l].attention.q_lin.weight.detach().numpy()\n",
    "        Wk = model.transformer.layer[l].attention.k_lin.weight.detach().numpy()\n",
    "        M.append(Wq@(Wk.T))        \n",
    "\n",
    "    return M\n",
    "\n",
    "def get_matricesBART(model):\n",
    "\n",
    "    layers = len(model.encoder.layers)  \n",
    "    M = []\n",
    "    for l in range(layers):\n",
    "        Wq = model.encoder.layers[l].self_attn.q_proj.weight.detach().numpy()\n",
    "        Wk = model.encoder.layers[l].self_attn.k_proj.weight.detach().numpy()\n",
    "        M.append(Wq@(Wk.T))        \n",
    "\n",
    "    return M\n",
    "\n",
    "def get_matricesGPT(d,model):\n",
    "\n",
    "    layers = len(model.h)  \n",
    "    M = []\n",
    "    for l in range(layers):\n",
    "        Wq = model.h[l].attn.c_attn.weight[:,:d].detach().numpy()\n",
    "        Wk = model.h[l].attn.c_attn.weight[:,d:2*d].detach().numpy()\n",
    "        M.append(Wq@(Wk.T))        \n",
    "\n",
    "    return M\n",
    "\n",
    "def decomposition_SN(A):\n",
    "    \n",
    "    S = np.linalg.norm(.5 * ((A - A.T) - np.diag(np.diag((A - A.T)))), 'fro') / np.linalg.norm(A, 'fro')\n",
    "    N = np.linalg.norm(.5 * (A + A.T), 'fro') / np.linalg.norm(A, 'fro')\n",
    "\n",
    "    return S, N\n",
    "\n",
    "def decomposition_blocks(l,A):\n",
    "    S = np.zeros(l)\n",
    "    N = np.zeros(l)\n",
    "\n",
    "    for i, layer in enumerate(range(l)):\n",
    "        S[i], N[i] = decomposition_SN(A[layer])\n",
    "    return  S, N"
   ]
  },
  {
   "cell_type": "code",
   "execution_count": 32,
   "metadata": {},
   "outputs": [],
   "source": [
    "'BERT base model (l = 12, d = 768, h = 12 ; tot num parameters 110M)'\n",
    "\n",
    "l = 12\n",
    "d = 768\n",
    "h = 12\n",
    "dh = d // h\n",
    "\n",
    "model = BertModel.from_pretrained(\"bert-base-uncased\")\n",
    "M = get_matricesBERT(model)\n",
    "SBert_base, NBert_base = decomposition_blocks(l,M)"
   ]
  },
  {
   "cell_type": "code",
   "execution_count": 33,
   "metadata": {},
   "outputs": [],
   "source": [
    "'BERT base model (l = 12, d = 768, h = 12 ; tot num parameters 110M)'\n",
    "\n",
    "l = 12\n",
    "d = 768\n",
    "h = 12\n",
    "\n",
    "dh = d // h\n",
    "\n",
    "model = BertModel.from_pretrained(\"bert-base-chinese\")\n",
    "M = get_matricesBERT(model)\n",
    "SBert_baseChinese, NBert_baseChinese = decomposition_blocks(l,M)"
   ]
  },
  {
   "cell_type": "code",
   "execution_count": 34,
   "metadata": {},
   "outputs": [],
   "source": [
    "'BERT base model (l = 12, d = 768, h = 12 ; tot num parameters 110M)'\n",
    "\n",
    "l = 24\n",
    "d = 1024\n",
    "h = 16\n",
    "dh = d // h\n",
    "\n",
    "model = BertModel.from_pretrained(\"bert-large-uncased\")\n",
    "M = get_matricesBERT(model)\n",
    "SBert_large, NBert_large = decomposition_blocks(l,M)"
   ]
  },
  {
   "cell_type": "code",
   "execution_count": 35,
   "metadata": {},
   "outputs": [],
   "source": [
    "'BERT base model (l = 12, d = 768, h = 12 ; tot num parameters 110M)'\n",
    "\n",
    "l = 24\n",
    "d = 1024\n",
    "h = 16\n",
    "\n",
    "dh = d // h\n",
    "\n",
    "model = BertModel.from_pretrained(\"bert-large-uncased-whole-word-masking\")\n",
    "M = get_matricesBERT(model)\n",
    "SBert_largeMasking, NBert_largeMasking = decomposition_blocks(l,M)"
   ]
  },
  {
   "cell_type": "code",
   "execution_count": 36,
   "metadata": {},
   "outputs": [],
   "source": [
    "'GPT1'\n",
    "\n",
    "l = 12\n",
    "d = 768\n",
    "h = 12\n",
    "\n",
    "dh = d // h\n",
    "\n",
    "model = OpenAIGPTModel.from_pretrained(\"openai-gpt\")\n",
    "M = get_matricesGPT(d,model)\n",
    "SGPT, NGPT = decomposition_blocks(l,M)"
   ]
  },
  {
   "cell_type": "code",
   "execution_count": 37,
   "metadata": {},
   "outputs": [],
   "source": [
    "'GPT2'\n",
    "\n",
    "l = 12\n",
    "d = 768\n",
    "h = 12\n",
    "\n",
    "dh = d // h\n",
    "\n",
    "model = GPT2Model.from_pretrained('gpt2')\n",
    "M = get_matricesGPT(d,model)\n",
    "SGPT2, NGPT2 = decomposition_blocks(l,M)"
   ]
  },
  {
   "cell_type": "code",
   "execution_count": 38,
   "metadata": {},
   "outputs": [],
   "source": [
    "'ALBERT base model (l = 12, d = 768, h = 12 ; tot num parameters 110M)'\n",
    "\n",
    "l = 1\n",
    "d = 768\n",
    "h = 12\n",
    "\n",
    "dh = d // h\n",
    "\n",
    "model = AlbertModel.from_pretrained(\"albert-base-v2\")\n",
    "M = get_matricesALBERT(model)\n",
    "SALBERT_base, NALBERT_base = decomposition_blocks(l,M)"
   ]
  },
  {
   "cell_type": "code",
   "execution_count": 39,
   "metadata": {},
   "outputs": [],
   "source": [
    "'ALBERT large model (l = 12, d = 768, h = 12 ; tot num parameters 110M)'\n",
    "\n",
    "l = 1\n",
    "d = 1024\n",
    "h = 16\n",
    "\n",
    "dh = d // h\n",
    "\n",
    "model = AlbertModel.from_pretrained(\"albert-large-v2\")\n",
    "M = get_matricesALBERT(model)\n",
    "SALBERT_large, NALBERT_large = decomposition_blocks(l,M)"
   ]
  },
  {
   "cell_type": "code",
   "execution_count": 40,
   "metadata": {},
   "outputs": [],
   "source": [
    "'ALBERT xlarge model (l = 12, d = 768, h = 12 ; tot num parameters 110M)'\n",
    "\n",
    "l = 1\n",
    "d = 1024\n",
    "h = 16\n",
    "\n",
    "dh = d // h\n",
    "\n",
    "model = AlbertModel.from_pretrained(\"albert-xlarge-v2\")\n",
    "M = get_matricesALBERT(model)\n",
    "SALBERT_xlarge, NALBERT_xlarge = decomposition_blocks(l,M)"
   ]
  },
  {
   "cell_type": "code",
   "execution_count": 41,
   "metadata": {},
   "outputs": [],
   "source": [
    "'ALBERT xxlarge model (l = 12, d = 768, h = 12 ; tot num parameters 110M)'\n",
    "\n",
    "l = 1\n",
    "d = 1024\n",
    "h = 16\n",
    "\n",
    "dh = d // h\n",
    "\n",
    "model = AlbertModel.from_pretrained(\"albert-xxlarge-v2\")\n",
    "M = get_matricesALBERT(model)\n",
    "SALBERT_xxlarge, NALBERT_xxlarge = decomposition_blocks(l,M)"
   ]
  },
  {
   "cell_type": "code",
   "execution_count": 42,
   "metadata": {},
   "outputs": [],
   "source": [
    "'DistillBERT base model (l = 12, d = 768, h = 12 ; tot num parameters 110M)'\n",
    "\n",
    "l = 6\n",
    "d = 768\n",
    "h = 12\n",
    "\n",
    "dh = d // h\n",
    "\n",
    "model = DistilBertModel.from_pretrained(\"distilbert-base-uncased\")\n",
    "M = get_matricesDistillBERT(model)\n",
    "SDistillBERT, NDistillBERT = decomposition_blocks(l,M)"
   ]
  },
  {
   "cell_type": "code",
   "execution_count": 43,
   "metadata": {},
   "outputs": [],
   "source": [
    "'import BERT base model (l = 12, d = 768, h = 12 ; tot num parameters 110M)'\n",
    "\n",
    "l = 12\n",
    "d = 1024\n",
    "h = 16\n",
    "\n",
    "dh = d // h\n",
    "\n",
    "model = BartModel.from_pretrained(\"facebook/bart-large\")\n",
    "M = get_matricesBART(model)\n",
    "SBART, NBART = decomposition_blocks(l,M)"
   ]
  },
  {
   "cell_type": "code",
   "execution_count": 44,
   "metadata": {},
   "outputs": [
    {
     "data": {
      "text/plain": [
       "(0.0, 1.1)"
      ]
     },
     "execution_count": 44,
     "metadata": {},
     "output_type": "execute_result"
    },
    {
     "data": {
      "image/png": "[encoded data removed]",
      "text/plain": [
       "<Figure size 640x480 with 1 Axes>"
      ]
     },
     "metadata": {},
     "output_type": "display_data"
    }
   ],
   "source": [
    "plt.scatter(np.ones(SBert_base.size),SBert_base.flatten(),color='purple')\n",
    "plt.scatter(1.1*np.ones(SBert_base.size),NBert_base.flatten(),color='darkred')\n",
    "\n",
    "plt.scatter(2*np.ones(SBert_baseChinese.size),SBert_baseChinese.flatten(),color='purple')\n",
    "plt.scatter(2.1*np.ones(SBert_baseChinese.size),NBert_baseChinese.flatten(),color='darkred')\n",
    "\n",
    "plt.scatter(3*np.ones(SBert_large.size),SBert_large.flatten(),color='purple')\n",
    "plt.scatter(3.1*np.ones(SBert_large.size),NBert_large.flatten(),color='darkred')\n",
    "\n",
    "plt.scatter(4*np.ones(SBert_largeMasking.size),SBert_largeMasking.flatten(),color='purple')\n",
    "plt.scatter(4.1*np.ones(SBert_largeMasking.size),NBert_largeMasking.flatten(),color='darkred')\n",
    "\n",
    "plt.scatter(5*np.ones(SGPT.size),SGPT.flatten(),color='purple')\n",
    "plt.scatter(5.1*np.ones(SGPT.size),NGPT.flatten(),color='darkred')\n",
    "\n",
    "plt.scatter(6*np.ones(SGPT2.size),SGPT2.flatten(),color='purple')\n",
    "plt.scatter(6.1*np.ones(SGPT2.size),NGPT2.flatten(),color='darkred')\n",
    "\n",
    "plt.scatter(7*np.ones(SALBERT_base.size),SALBERT_base.flatten(),color='purple')\n",
    "plt.scatter(7.1*np.ones(SALBERT_base.size),NALBERT_base.flatten(),color='darkred')\n",
    "\n",
    "plt.scatter(8*np.ones(SALBERT_large.size),SALBERT_large.flatten(),color='purple')\n",
    "plt.scatter(8.1*np.ones(SALBERT_large.size),NALBERT_large.flatten(),color='darkred')\n",
    "\n",
    "plt.scatter(9*np.ones(SALBERT_xlarge.size),SALBERT_xlarge.flatten(),color='purple')\n",
    "plt.scatter(9.1*np.ones(SALBERT_xlarge.size),NALBERT_xlarge.flatten(),color='darkred')\n",
    "\n",
    "plt.scatter(9*np.ones(SALBERT_xxlarge.size),SALBERT_xxlarge.flatten(),color='purple')\n",
    "plt.scatter(9.1*np.ones(SALBERT_xxlarge.size),NALBERT_xxlarge.flatten(),color='darkred')\n",
    "\n",
    "plt.scatter(10*np.ones(SDistillBERT.size),SDistillBERT.flatten(),color='purple')\n",
    "plt.scatter(10.1*np.ones(SDistillBERT.size),NDistillBERT.flatten(),color='darkred')\n",
    "\n",
    "plt.scatter(11*np.ones(SBART.size),SBART.flatten(),color='purple')\n",
    "plt.scatter(11.1*np.ones(SBART.size),NBART.flatten(),color='darkred')\n",
    "\n",
    "plt.ylim(0,1.1)"
   ]
  },
  {
   "cell_type": "code",
   "execution_count": null,
   "metadata": {},
   "outputs": [],
   "source": [
    "np.diag()"
   ]
  }
 ],
 "metadata": {
  "kernelspec": {
   "display_name": "attention-geometry",
   "language": "python",
   "name": "python3"
  },
  "language_info": {
   "codemirror_mode": {
    "name": "ipython",
    "version": 3
   },
   "file_extension": ".py",
   "mimetype": "text/x-python",
   "name": "python",
   "nbconvert_exporter": "python",
   "pygments_lexer": "ipython3",
   "version": "3.11.5"
  }
 },
 "nbformat": 4,
 "nbformat_minor": 2
}
