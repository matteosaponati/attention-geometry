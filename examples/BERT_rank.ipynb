{
 "cells": [
  {
   "cell_type": "code",
   "execution_count": 73,
   "metadata": {},
   "outputs": [],
   "source": [
    "import pickle\n",
    "import os\n",
    "import numpy as np\n",
    "import matplotlib.pyplot as plt\n",
    "\n",
    "from transformers import AutoModel, AutoModelForCausalLM, AutoModelForMaskedLM, AutoModelForSeq2SeqLM\n",
    "from transformers import BertModel, AlbertModel, DistilBertModel, RobertaModel, OpenAIGPTModel, GPT2Model"
   ]
  },
  {
   "cell_type": "code",
   "execution_count": 74,
   "metadata": {},
   "outputs": [],
   "source": [
    "def rankscore(d,h,dh,Wq,Wk):\n",
    "\n",
    "    RankFull = np.linalg.matrix_rank(Wq @ Wk)\n",
    "    RankHeads = []\n",
    "\n",
    "    for j, head in enumerate(range(0, d, dh)):\n",
    "        M = Wq[:, head: head + dh] @ Wk[head : head + dh,:]\n",
    "        RankHeads.append(np.linalg.matrix_rank(M))\n",
    "\n",
    "    print(RankFull)\n",
    "    print(np.sum(RankHeads) - RankFull)\n",
    "    \n",
    "    return  RankFull, RankHeads"
   ]
  },
  {
   "cell_type": "code",
   "execution_count": 75,
   "metadata": {},
   "outputs": [],
   "source": [
    "def getscoresBERT(d,l,h,dh,model):\n",
    "\n",
    "    RankFullList = np.zeros(l)\n",
    "    RankHeadsList = np.zeros((l,h))\n",
    "    for layer in range(l):\n",
    "        \n",
    "        Wq = model.encoder.layer[layer].attention.self.query.weight.detach().numpy()\n",
    "        Wk = model.encoder.layer[layer].attention.self.key.weight.detach().numpy()\n",
    "\n",
    "        RankFull, RankHeads = rankscore(d,h,dh,Wq.T,Wk)\n",
    "        RankFullList[layer] = RankFull\n",
    "        RankHeadsList[layer,:] = RankHeads\n",
    "\n",
    "    return  RankFullList, RankHeadsList\n",
    "\n",
    "def getscoresALBERT(d,l,h,dh,model):\n",
    "\n",
    "    RankFullList = np.zeros(l)\n",
    "    RankHeadsList = np.zeros((l,h))\n",
    "    for layer in range(l):\n",
    "        \n",
    "        Wq = model.encoder.albert_layer_groups[layer].albert_layers[0].attention.query.weight.detach().numpy()\n",
    "        Wk = model.encoder.albert_layer_groups[layer].albert_layers[0].attention.key.weight.detach().numpy()\n",
    "\n",
    "        RankFull, RankHeads = rankscore(d,h,dh,Wq.T,Wk)\n",
    "        RankFullList[layer] = RankFull\n",
    "        RankHeadsList[layer,:] = RankHeads\n",
    "\n",
    "    return  RankFullList, RankHeadsList\n",
    "\n",
    "def getscoresGPT(d,l,h,dh,model):\n",
    "\n",
    "    RankFullList = np.zeros(l)\n",
    "    RankHeadsList = np.zeros((l,h))\n",
    "    for layer in range(l):\n",
    "        \n",
    "        Wq = model.h[layer].attn.c_attn.weight[:,:d].detach().numpy()\n",
    "        Wk = model.h[layer].attn.c_attn.weight[:,d:2*d].detach().numpy()\n",
    "\n",
    "        RankFull, RankHeads = rankscore(d,h,dh,Wq.T,Wk)\n",
    "        RankFullList[layer] = RankFull\n",
    "        RankHeadsList[layer,:] = RankHeads\n",
    "\n",
    "    return  RankFullList, RankHeadsList"
   ]
  },
  {
   "cell_type": "code",
   "execution_count": 76,
   "metadata": {},
   "outputs": [
    {
     "name": "stdout",
     "output_type": "stream",
     "text": [
      "128\n",
      "0\n",
      "121\n",
      "7\n"
     ]
    }
   ],
   "source": [
    "dh = 64\n",
    "l = 2\n",
    "d = 128\n",
    "h = d // dh\n",
    "model = AutoModel.from_pretrained(\"google/bert_uncased_L-2_H-128_A-2\")\n",
    "\n",
    "RankFull, RankHeads = getscoresBERT(d,l,h,dh,model)"
   ]
  },
  {
   "cell_type": "code",
   "execution_count": 69,
   "metadata": {},
   "outputs": [
    {
     "data": {
      "text/plain": [
       "array([128., 123.])"
      ]
     },
     "execution_count": 69,
     "metadata": {},
     "output_type": "execute_result"
    }
   ],
   "source": [
    "RankFull"
   ]
  },
  {
   "cell_type": "code",
   "execution_count": 70,
   "metadata": {},
   "outputs": [
    {
     "name": "stdout",
     "output_type": "stream",
     "text": [
      "746\n",
      "22\n",
      "746\n",
      "22\n",
      "733\n",
      "35\n",
      "749\n",
      "19\n"
     ]
    },
    {
     "ename": "KeyboardInterrupt",
     "evalue": "",
     "output_type": "error",
     "traceback": [
      "\u001b[0;31m---------------------------------------------------------------------------\u001b[0m",
      "\u001b[0;31mKeyboardInterrupt\u001b[0m                         Traceback (most recent call last)",
      "Cell \u001b[0;32mIn[70], line 6\u001b[0m\n\u001b[1;32m      3\u001b[0m h \u001b[38;5;241m=\u001b[39m d \u001b[38;5;241m/\u001b[39m\u001b[38;5;241m/\u001b[39m dh\n\u001b[1;32m      4\u001b[0m model \u001b[38;5;241m=\u001b[39m BertModel\u001b[38;5;241m.\u001b[39mfrom_pretrained(\u001b[38;5;124m\"\u001b[39m\u001b[38;5;124mbert-base-uncased\u001b[39m\u001b[38;5;124m\"\u001b[39m)\n\u001b[0;32m----> 6\u001b[0m RankFull, RankHeads \u001b[38;5;241m=\u001b[39m \u001b[43mgetscoresBERT\u001b[49m\u001b[43m(\u001b[49m\u001b[43md\u001b[49m\u001b[43m,\u001b[49m\u001b[43ml\u001b[49m\u001b[43m,\u001b[49m\u001b[43mh\u001b[49m\u001b[43m,\u001b[49m\u001b[43mdh\u001b[49m\u001b[43m,\u001b[49m\u001b[43mmodel\u001b[49m\u001b[43m)\u001b[49m\n",
      "Cell \u001b[0;32mIn[67], line 10\u001b[0m, in \u001b[0;36mgetscoresBERT\u001b[0;34m(d, l, h, dh, model)\u001b[0m\n\u001b[1;32m      7\u001b[0m Wq \u001b[38;5;241m=\u001b[39m model\u001b[38;5;241m.\u001b[39mencoder\u001b[38;5;241m.\u001b[39mlayer[layer]\u001b[38;5;241m.\u001b[39mattention\u001b[38;5;241m.\u001b[39mself\u001b[38;5;241m.\u001b[39mquery\u001b[38;5;241m.\u001b[39mweight\u001b[38;5;241m.\u001b[39mdetach()\u001b[38;5;241m.\u001b[39mnumpy()\n\u001b[1;32m      8\u001b[0m Wk \u001b[38;5;241m=\u001b[39m model\u001b[38;5;241m.\u001b[39mencoder\u001b[38;5;241m.\u001b[39mlayer[layer]\u001b[38;5;241m.\u001b[39mattention\u001b[38;5;241m.\u001b[39mself\u001b[38;5;241m.\u001b[39mkey\u001b[38;5;241m.\u001b[39mweight\u001b[38;5;241m.\u001b[39mdetach()\u001b[38;5;241m.\u001b[39mnumpy()\n\u001b[0;32m---> 10\u001b[0m RankFull, RankHeads \u001b[38;5;241m=\u001b[39m \u001b[43mrankscore\u001b[49m\u001b[43m(\u001b[49m\u001b[43md\u001b[49m\u001b[43m,\u001b[49m\u001b[43mh\u001b[49m\u001b[43m,\u001b[49m\u001b[43mdh\u001b[49m\u001b[43m,\u001b[49m\u001b[43mWq\u001b[49m\u001b[43m,\u001b[49m\u001b[43mWk\u001b[49m\u001b[38;5;241;43m.\u001b[39;49m\u001b[43mT\u001b[49m\u001b[43m)\u001b[49m\n\u001b[1;32m     11\u001b[0m RankFullList[layer] \u001b[38;5;241m=\u001b[39m RankFull\n\u001b[1;32m     12\u001b[0m RankHeadsList[layer,:] \u001b[38;5;241m=\u001b[39m RankHeads\n",
      "Cell \u001b[0;32mIn[66], line 3\u001b[0m, in \u001b[0;36mrankscore\u001b[0;34m(d, h, dh, Wq, Wk)\u001b[0m\n\u001b[1;32m      1\u001b[0m \u001b[38;5;28;01mdef\u001b[39;00m \u001b[38;5;21mrankscore\u001b[39m(d,h,dh,Wq,Wk):\n\u001b[0;32m----> 3\u001b[0m     RankFull \u001b[38;5;241m=\u001b[39m \u001b[43mnp\u001b[49m\u001b[38;5;241;43m.\u001b[39;49m\u001b[43mlinalg\u001b[49m\u001b[38;5;241;43m.\u001b[39;49m\u001b[43mmatrix_rank\u001b[49m\u001b[43m(\u001b[49m\u001b[43mWq\u001b[49m\u001b[43m \u001b[49m\u001b[38;5;241;43m@\u001b[39;49m\u001b[43m \u001b[49m\u001b[43mWk\u001b[49m\u001b[43m)\u001b[49m\n\u001b[1;32m      4\u001b[0m     RankHeads \u001b[38;5;241m=\u001b[39m []\n\u001b[1;32m      6\u001b[0m     \u001b[38;5;28;01mfor\u001b[39;00m j, head \u001b[38;5;129;01min\u001b[39;00m \u001b[38;5;28menumerate\u001b[39m(\u001b[38;5;28mrange\u001b[39m(\u001b[38;5;241m0\u001b[39m, d, dh)):\n",
      "File \u001b[0;32m<__array_function__ internals>:180\u001b[0m, in \u001b[0;36mmatrix_rank\u001b[0;34m(*args, **kwargs)\u001b[0m\n",
      "File \u001b[0;32m/opt/homebrew/Caskroom/miniconda/base/envs/attention-geometry/lib/python3.11/site-packages/numpy/linalg/linalg.py:1898\u001b[0m, in \u001b[0;36mmatrix_rank\u001b[0;34m(A, tol, hermitian)\u001b[0m\n\u001b[1;32m   1896\u001b[0m \u001b[38;5;28;01mif\u001b[39;00m A\u001b[38;5;241m.\u001b[39mndim \u001b[38;5;241m<\u001b[39m \u001b[38;5;241m2\u001b[39m:\n\u001b[1;32m   1897\u001b[0m     \u001b[38;5;28;01mreturn\u001b[39;00m \u001b[38;5;28mint\u001b[39m(\u001b[38;5;129;01mnot\u001b[39;00m \u001b[38;5;28mall\u001b[39m(A\u001b[38;5;241m==\u001b[39m\u001b[38;5;241m0\u001b[39m))\n\u001b[0;32m-> 1898\u001b[0m S \u001b[38;5;241m=\u001b[39m \u001b[43msvd\u001b[49m\u001b[43m(\u001b[49m\u001b[43mA\u001b[49m\u001b[43m,\u001b[49m\u001b[43m \u001b[49m\u001b[43mcompute_uv\u001b[49m\u001b[38;5;241;43m=\u001b[39;49m\u001b[38;5;28;43;01mFalse\u001b[39;49;00m\u001b[43m,\u001b[49m\u001b[43m \u001b[49m\u001b[43mhermitian\u001b[49m\u001b[38;5;241;43m=\u001b[39;49m\u001b[43mhermitian\u001b[49m\u001b[43m)\u001b[49m\n\u001b[1;32m   1899\u001b[0m \u001b[38;5;28;01mif\u001b[39;00m tol \u001b[38;5;129;01mis\u001b[39;00m \u001b[38;5;28;01mNone\u001b[39;00m:\n\u001b[1;32m   1900\u001b[0m     tol \u001b[38;5;241m=\u001b[39m S\u001b[38;5;241m.\u001b[39mmax(axis\u001b[38;5;241m=\u001b[39m\u001b[38;5;241m-\u001b[39m\u001b[38;5;241m1\u001b[39m, keepdims\u001b[38;5;241m=\u001b[39m\u001b[38;5;28;01mTrue\u001b[39;00m) \u001b[38;5;241m*\u001b[39m \u001b[38;5;28mmax\u001b[39m(A\u001b[38;5;241m.\u001b[39mshape[\u001b[38;5;241m-\u001b[39m\u001b[38;5;241m2\u001b[39m:]) \u001b[38;5;241m*\u001b[39m finfo(S\u001b[38;5;241m.\u001b[39mdtype)\u001b[38;5;241m.\u001b[39meps\n",
      "File \u001b[0;32m<__array_function__ internals>:180\u001b[0m, in \u001b[0;36msvd\u001b[0;34m(*args, **kwargs)\u001b[0m\n",
      "File \u001b[0;32m/opt/homebrew/Caskroom/miniconda/base/envs/attention-geometry/lib/python3.11/site-packages/numpy/linalg/linalg.py:1669\u001b[0m, in \u001b[0;36msvd\u001b[0;34m(a, full_matrices, compute_uv, hermitian)\u001b[0m\n\u001b[1;32m   1666\u001b[0m     gufunc \u001b[38;5;241m=\u001b[39m _umath_linalg\u001b[38;5;241m.\u001b[39msvd_n\n\u001b[1;32m   1668\u001b[0m signature \u001b[38;5;241m=\u001b[39m \u001b[38;5;124m'\u001b[39m\u001b[38;5;124mD->d\u001b[39m\u001b[38;5;124m'\u001b[39m \u001b[38;5;28;01mif\u001b[39;00m isComplexType(t) \u001b[38;5;28;01melse\u001b[39;00m \u001b[38;5;124m'\u001b[39m\u001b[38;5;124md->d\u001b[39m\u001b[38;5;124m'\u001b[39m\n\u001b[0;32m-> 1669\u001b[0m s \u001b[38;5;241m=\u001b[39m \u001b[43mgufunc\u001b[49m\u001b[43m(\u001b[49m\u001b[43ma\u001b[49m\u001b[43m,\u001b[49m\u001b[43m \u001b[49m\u001b[43msignature\u001b[49m\u001b[38;5;241;43m=\u001b[39;49m\u001b[43msignature\u001b[49m\u001b[43m,\u001b[49m\u001b[43m \u001b[49m\u001b[43mextobj\u001b[49m\u001b[38;5;241;43m=\u001b[39;49m\u001b[43mextobj\u001b[49m\u001b[43m)\u001b[49m\n\u001b[1;32m   1670\u001b[0m s \u001b[38;5;241m=\u001b[39m s\u001b[38;5;241m.\u001b[39mastype(_realType(result_t), copy\u001b[38;5;241m=\u001b[39m\u001b[38;5;28;01mFalse\u001b[39;00m)\n\u001b[1;32m   1671\u001b[0m \u001b[38;5;28;01mreturn\u001b[39;00m s\n",
      "\u001b[0;31mKeyboardInterrupt\u001b[0m: "
     ]
    }
   ],
   "source": [
    "l = 12\n",
    "d = 768\n",
    "h = d // dh\n",
    "model = BertModel.from_pretrained(\"bert-base-uncased\")\n",
    "\n",
    "RankFull, RankHeads = getscoresBERT(d,l,h,dh,model)"
   ]
  },
  {
   "cell_type": "code",
   "execution_count": 65,
   "metadata": {},
   "outputs": [
    {
     "data": {
      "text/plain": [
       "array([[64., 64., 64., 64., 64., 64., 64., 64., 64., 64., 64., 64.],\n",
       "       [64., 64., 64., 64., 64., 64., 64., 64., 64., 64., 64., 64.],\n",
       "       [64., 64., 64., 64., 64., 64., 64., 64., 64., 64., 64., 64.],\n",
       "       [64., 64., 64., 64., 64., 64., 64., 64., 64., 64., 64., 64.],\n",
       "       [64., 64., 64., 64., 64., 64., 64., 64., 64., 64., 64., 64.],\n",
       "       [64., 64., 64., 64., 64., 64., 64., 64., 64., 64., 64., 64.],\n",
       "       [64., 64., 64., 64., 64., 64., 64., 64., 64., 64., 64., 64.],\n",
       "       [64., 64., 64., 64., 64., 64., 64., 64., 64., 64., 64., 64.],\n",
       "       [64., 64., 64., 64., 64., 64., 64., 64., 64., 64., 64., 64.],\n",
       "       [64., 64., 64., 64., 64., 64., 64., 64., 64., 64., 64., 64.],\n",
       "       [64., 64., 64., 64., 64., 64., 64., 64., 64., 64., 64., 64.],\n",
       "       [64., 64., 64., 64., 64., 64., 64., 64., 64., 64., 64., 64.]])"
      ]
     },
     "execution_count": 65,
     "metadata": {},
     "output_type": "execute_result"
    }
   ],
   "source": [
    "RankHeads"
   ]
  },
  {
   "cell_type": "code",
   "execution_count": 48,
   "metadata": {},
   "outputs": [
    {
     "data": {
      "text/plain": [
       "[<matplotlib.lines.Line2D at 0x2c1c1b510>]"
      ]
     },
     "execution_count": 48,
     "metadata": {},
     "output_type": "execute_result"
    },
    {
     "data": {
      "image/png": "[encoded data removed]",
      "text/plain": [
       "<Figure size 640x480 with 1 Axes>"
      ]
     },
     "metadata": {},
     "output_type": "display_data"
    }
   ],
   "source": [
    "plt.plot((RankHeads.sum(axis=1) - RankFull))"
   ]
  },
  {
   "cell_type": "code",
   "execution_count": 50,
   "metadata": {},
   "outputs": [
    {
     "name": "stdout",
     "output_type": "stream",
     "text": [
      "707\n",
      "61\n"
     ]
    }
   ],
   "source": [
    "l = 1\n",
    "d = 768\n",
    "h = d // dh\n",
    "model = AlbertModel.from_pretrained(\"albert-base-v2\")\n",
    "RankFull, RankHeads = getscoresALBERT(d,l,h,dh,model)"
   ]
  },
  {
   "cell_type": "code",
   "execution_count": 53,
   "metadata": {},
   "outputs": [
    {
     "name": "stdout",
     "output_type": "stream",
     "text": [
      "504\n",
      "264\n",
      "754\n",
      "14\n",
      "753\n",
      "15\n",
      "750\n",
      "18\n",
      "744\n",
      "24\n",
      "746\n",
      "22\n",
      "745\n",
      "23\n",
      "748\n",
      "20\n",
      "748\n",
      "20\n",
      "748\n",
      "20\n",
      "755\n",
      "13\n",
      "754\n",
      "14\n"
     ]
    }
   ],
   "source": [
    "'GPT 1 (l = 12, d = 768, h = 12 ; 110M parameters)'\n",
    "l = 12\n",
    "d = 768\n",
    "h = d // dh\n",
    "model = OpenAIGPTModel.from_pretrained(\"openai-gpt\")\n",
    "RankFull, RankHeads = getscoresGPT(d,l,h,dh,model)"
   ]
  },
  {
   "cell_type": "code",
   "execution_count": 54,
   "metadata": {},
   "outputs": [
    {
     "data": {
      "text/plain": [
       "[<matplotlib.lines.Line2D at 0x2e7d2f0d0>]"
      ]
     },
     "execution_count": 54,
     "metadata": {},
     "output_type": "execute_result"
    },
    {
     "data": {
      "image/png": "[encoded data removed]",
      "text/plain": [
       "<Figure size 640x480 with 1 Axes>"
      ]
     },
     "metadata": {},
     "output_type": "display_data"
    }
   ],
   "source": [
    "plt.plot((RankHeads.sum(axis=1) - RankFull))"
   ]
  },
  {
   "cell_type": "code",
   "execution_count": 55,
   "metadata": {},
   "outputs": [
    {
     "name": "stdout",
     "output_type": "stream",
     "text": [
      "742\n",
      "26\n",
      "724\n",
      "44\n",
      "729\n",
      "39\n",
      "741\n",
      "27\n",
      "742\n",
      "26\n",
      "741\n",
      "27\n",
      "741\n",
      "27\n",
      "742\n",
      "26\n",
      "742\n",
      "26\n",
      "746\n",
      "22\n",
      "748\n",
      "20\n",
      "746\n",
      "22\n"
     ]
    }
   ],
   "source": [
    "l = 12\n",
    "d = 768\n",
    "h = d // dh\n",
    "model = GPT2Model.from_pretrained('gpt2')\n",
    "RankFull, RankHeads = getscoresGPT(d,l,h,dh,model)"
   ]
  },
  {
   "cell_type": "code",
   "execution_count": 56,
   "metadata": {},
   "outputs": [
    {
     "name": "stdout",
     "output_type": "stream",
     "text": [
      "1318\n",
      "282\n",
      "1491\n",
      "109\n",
      "1472\n",
      "128\n",
      "1491\n",
      "109\n",
      "1520\n",
      "80\n",
      "1535\n",
      "65\n",
      "1532\n",
      "68\n",
      "1533\n",
      "67\n",
      "1542\n",
      "58\n",
      "1544\n",
      "56\n",
      "1546\n",
      "54\n",
      "1539\n",
      "61\n",
      "1533\n",
      "67\n",
      "1535\n",
      "65\n",
      "1521\n",
      "79\n",
      "1536\n",
      "64\n",
      "1539\n",
      "61\n",
      "1524\n",
      "76\n",
      "1518\n",
      "82\n",
      "1526\n",
      "74\n",
      "1548\n",
      "52\n",
      "1543\n",
      "57\n",
      "1545\n",
      "55\n",
      "1550\n",
      "50\n",
      "1551\n",
      "49\n",
      "1549\n",
      "51\n",
      "1551\n",
      "49\n",
      "1553\n",
      "47\n",
      "1551\n",
      "49\n",
      "1555\n",
      "45\n",
      "1553\n",
      "47\n",
      "1553\n",
      "47\n"
     ]
    },
    {
     "ename": "KeyboardInterrupt",
     "evalue": "",
     "output_type": "error",
     "traceback": [
      "\u001b[0;31m---------------------------------------------------------------------------\u001b[0m",
      "\u001b[0;31mKeyboardInterrupt\u001b[0m                         Traceback (most recent call last)",
      "Cell \u001b[0;32mIn[56], line 5\u001b[0m\n\u001b[1;32m      3\u001b[0m h \u001b[38;5;241m=\u001b[39m d \u001b[38;5;241m/\u001b[39m\u001b[38;5;241m/\u001b[39m dh\n\u001b[1;32m      4\u001b[0m model \u001b[38;5;241m=\u001b[39m GPT2Model\u001b[38;5;241m.\u001b[39mfrom_pretrained(\u001b[38;5;124m'\u001b[39m\u001b[38;5;124mgpt2-xl\u001b[39m\u001b[38;5;124m'\u001b[39m)\n\u001b[0;32m----> 5\u001b[0m RankFull, RankHeads \u001b[38;5;241m=\u001b[39m \u001b[43mgetscoresGPT\u001b[49m\u001b[43m(\u001b[49m\u001b[43md\u001b[49m\u001b[43m,\u001b[49m\u001b[43ml\u001b[49m\u001b[43m,\u001b[49m\u001b[43mh\u001b[49m\u001b[43m,\u001b[49m\u001b[43mdh\u001b[49m\u001b[43m,\u001b[49m\u001b[43mmodel\u001b[49m\u001b[43m)\u001b[49m\n",
      "Cell \u001b[0;32mIn[52], line 40\u001b[0m, in \u001b[0;36mgetscoresGPT\u001b[0;34m(d, l, h, dh, model)\u001b[0m\n\u001b[1;32m     37\u001b[0m Wq \u001b[38;5;241m=\u001b[39m model\u001b[38;5;241m.\u001b[39mh[layer]\u001b[38;5;241m.\u001b[39mattn\u001b[38;5;241m.\u001b[39mc_attn\u001b[38;5;241m.\u001b[39mweight[:,:d]\u001b[38;5;241m.\u001b[39mdetach()\u001b[38;5;241m.\u001b[39mnumpy()\n\u001b[1;32m     38\u001b[0m Wk \u001b[38;5;241m=\u001b[39m model\u001b[38;5;241m.\u001b[39mh[layer]\u001b[38;5;241m.\u001b[39mattn\u001b[38;5;241m.\u001b[39mc_attn\u001b[38;5;241m.\u001b[39mweight[:,d:\u001b[38;5;241m2\u001b[39m\u001b[38;5;241m*\u001b[39md]\u001b[38;5;241m.\u001b[39mdetach()\u001b[38;5;241m.\u001b[39mnumpy()\n\u001b[0;32m---> 40\u001b[0m RankFull, RankHeads \u001b[38;5;241m=\u001b[39m \u001b[43mrankscore\u001b[49m\u001b[43m(\u001b[49m\u001b[43md\u001b[49m\u001b[43m,\u001b[49m\u001b[43mh\u001b[49m\u001b[43m,\u001b[49m\u001b[43mdh\u001b[49m\u001b[43m,\u001b[49m\u001b[43mWq\u001b[49m\u001b[38;5;241;43m.\u001b[39;49m\u001b[43mT\u001b[49m\u001b[43m,\u001b[49m\u001b[43mWk\u001b[49m\u001b[43m)\u001b[49m\n\u001b[1;32m     41\u001b[0m RankFullList[layer] \u001b[38;5;241m=\u001b[39m RankFull\n\u001b[1;32m     42\u001b[0m RankHeadsList[layer,:] \u001b[38;5;241m=\u001b[39m RankHeads\n",
      "Cell \u001b[0;32mIn[41], line 10\u001b[0m, in \u001b[0;36mrankscore\u001b[0;34m(d, h, dh, Wq, Wk)\u001b[0m\n\u001b[1;32m      8\u001b[0m     M \u001b[38;5;241m=\u001b[39m Wq[:, head: head \u001b[38;5;241m+\u001b[39m dh] \u001b[38;5;241m@\u001b[39m Wk[head : head \u001b[38;5;241m+\u001b[39m dh,:]\n\u001b[1;32m      9\u001b[0m     Mtot \u001b[38;5;241m=\u001b[39m Mtot \u001b[38;5;241m+\u001b[39m M\n\u001b[0;32m---> 10\u001b[0m     RankHeads\u001b[38;5;241m.\u001b[39mappend(\u001b[43mnp\u001b[49m\u001b[38;5;241;43m.\u001b[39;49m\u001b[43mlinalg\u001b[49m\u001b[38;5;241;43m.\u001b[39;49m\u001b[43mmatrix_rank\u001b[49m\u001b[43m(\u001b[49m\u001b[43mM\u001b[49m\u001b[43m)\u001b[49m)\n\u001b[1;32m     12\u001b[0m RankFull \u001b[38;5;241m=\u001b[39m np\u001b[38;5;241m.\u001b[39mlinalg\u001b[38;5;241m.\u001b[39mmatrix_rank(Mtot)\n\u001b[1;32m     13\u001b[0m \u001b[38;5;28mprint\u001b[39m(RankFull)\n",
      "File \u001b[0;32m<__array_function__ internals>:180\u001b[0m, in \u001b[0;36mmatrix_rank\u001b[0;34m(*args, **kwargs)\u001b[0m\n",
      "File \u001b[0;32m/opt/homebrew/Caskroom/miniconda/base/envs/attention-geometry/lib/python3.11/site-packages/numpy/linalg/linalg.py:1898\u001b[0m, in \u001b[0;36mmatrix_rank\u001b[0;34m(A, tol, hermitian)\u001b[0m\n\u001b[1;32m   1896\u001b[0m \u001b[38;5;28;01mif\u001b[39;00m A\u001b[38;5;241m.\u001b[39mndim \u001b[38;5;241m<\u001b[39m \u001b[38;5;241m2\u001b[39m:\n\u001b[1;32m   1897\u001b[0m     \u001b[38;5;28;01mreturn\u001b[39;00m \u001b[38;5;28mint\u001b[39m(\u001b[38;5;129;01mnot\u001b[39;00m \u001b[38;5;28mall\u001b[39m(A\u001b[38;5;241m==\u001b[39m\u001b[38;5;241m0\u001b[39m))\n\u001b[0;32m-> 1898\u001b[0m S \u001b[38;5;241m=\u001b[39m \u001b[43msvd\u001b[49m\u001b[43m(\u001b[49m\u001b[43mA\u001b[49m\u001b[43m,\u001b[49m\u001b[43m \u001b[49m\u001b[43mcompute_uv\u001b[49m\u001b[38;5;241;43m=\u001b[39;49m\u001b[38;5;28;43;01mFalse\u001b[39;49;00m\u001b[43m,\u001b[49m\u001b[43m \u001b[49m\u001b[43mhermitian\u001b[49m\u001b[38;5;241;43m=\u001b[39;49m\u001b[43mhermitian\u001b[49m\u001b[43m)\u001b[49m\n\u001b[1;32m   1899\u001b[0m \u001b[38;5;28;01mif\u001b[39;00m tol \u001b[38;5;129;01mis\u001b[39;00m \u001b[38;5;28;01mNone\u001b[39;00m:\n\u001b[1;32m   1900\u001b[0m     tol \u001b[38;5;241m=\u001b[39m S\u001b[38;5;241m.\u001b[39mmax(axis\u001b[38;5;241m=\u001b[39m\u001b[38;5;241m-\u001b[39m\u001b[38;5;241m1\u001b[39m, keepdims\u001b[38;5;241m=\u001b[39m\u001b[38;5;28;01mTrue\u001b[39;00m) \u001b[38;5;241m*\u001b[39m \u001b[38;5;28mmax\u001b[39m(A\u001b[38;5;241m.\u001b[39mshape[\u001b[38;5;241m-\u001b[39m\u001b[38;5;241m2\u001b[39m:]) \u001b[38;5;241m*\u001b[39m finfo(S\u001b[38;5;241m.\u001b[39mdtype)\u001b[38;5;241m.\u001b[39meps\n",
      "File \u001b[0;32m<__array_function__ internals>:180\u001b[0m, in \u001b[0;36msvd\u001b[0;34m(*args, **kwargs)\u001b[0m\n",
      "File \u001b[0;32m/opt/homebrew/Caskroom/miniconda/base/envs/attention-geometry/lib/python3.11/site-packages/numpy/linalg/linalg.py:1669\u001b[0m, in \u001b[0;36msvd\u001b[0;34m(a, full_matrices, compute_uv, hermitian)\u001b[0m\n\u001b[1;32m   1666\u001b[0m     gufunc \u001b[38;5;241m=\u001b[39m _umath_linalg\u001b[38;5;241m.\u001b[39msvd_n\n\u001b[1;32m   1668\u001b[0m signature \u001b[38;5;241m=\u001b[39m \u001b[38;5;124m'\u001b[39m\u001b[38;5;124mD->d\u001b[39m\u001b[38;5;124m'\u001b[39m \u001b[38;5;28;01mif\u001b[39;00m isComplexType(t) \u001b[38;5;28;01melse\u001b[39;00m \u001b[38;5;124m'\u001b[39m\u001b[38;5;124md->d\u001b[39m\u001b[38;5;124m'\u001b[39m\n\u001b[0;32m-> 1669\u001b[0m s \u001b[38;5;241m=\u001b[39m \u001b[43mgufunc\u001b[49m\u001b[43m(\u001b[49m\u001b[43ma\u001b[49m\u001b[43m,\u001b[49m\u001b[43m \u001b[49m\u001b[43msignature\u001b[49m\u001b[38;5;241;43m=\u001b[39;49m\u001b[43msignature\u001b[49m\u001b[43m,\u001b[49m\u001b[43m \u001b[49m\u001b[43mextobj\u001b[49m\u001b[38;5;241;43m=\u001b[39;49m\u001b[43mextobj\u001b[49m\u001b[43m)\u001b[49m\n\u001b[1;32m   1670\u001b[0m s \u001b[38;5;241m=\u001b[39m s\u001b[38;5;241m.\u001b[39mastype(_realType(result_t), copy\u001b[38;5;241m=\u001b[39m\u001b[38;5;28;01mFalse\u001b[39;00m)\n\u001b[1;32m   1671\u001b[0m \u001b[38;5;28;01mreturn\u001b[39;00m s\n",
      "\u001b[0;31mKeyboardInterrupt\u001b[0m: "
     ]
    }
   ],
   "source": [
    "l = 48\n",
    "d = 1600\n",
    "h = d // dh\n",
    "model = GPT2Model.from_pretrained('gpt2-xl')\n",
    "RankFull, RankHeads = getscoresGPT(d,l,h,dh,model)"
   ]
  },
  {
   "cell_type": "code",
   "execution_count": null,
   "metadata": {},
   "outputs": [],
   "source": []
  }
 ],
 "metadata": {
  "kernelspec": {
   "display_name": "attention-geometry",
   "language": "python",
   "name": "python3"
  },
  "language_info": {
   "codemirror_mode": {
    "name": "ipython",
    "version": 3
   },
   "file_extension": ".py",
   "mimetype": "text/x-python",
   "name": "python",
   "nbconvert_exporter": "python",
   "pygments_lexer": "ipython3",
   "version": "3.11.5"
  }
 },
 "nbformat": 4,
 "nbformat_minor": 2
}
