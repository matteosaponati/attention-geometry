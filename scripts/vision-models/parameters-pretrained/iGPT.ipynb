{
 "cells": [
  {
   "cell_type": "code",
   "execution_count": 5,
   "metadata": {},
   "outputs": [],
   "source": [
    "import pickle\n",
    "import os\n",
    "import numpy as np\n",
    "import matplotlib.pyplot as plt\n",
    "\n",
    "from utils.funs import count_parameters\n",
    "\n",
    "from transformers import ImageGPTForCausalImageModeling"
   ]
  },
  {
   "cell_type": "code",
   "execution_count": 6,
   "metadata": {},
   "outputs": [],
   "source": [
    "dir = '../../../_data/fig-parameters-vision-models/iGPT.pkl'\n",
    "\n",
    "if os.path.isfile(dir):\n",
    "    with open(dir, 'rb') as file:\n",
    "        models = pickle.load(file)\n",
    "else: models = {}"
   ]
  },
  {
   "cell_type": "code",
   "execution_count": 7,
   "metadata": {},
   "outputs": [],
   "source": [
    "'iGPT small (l = 24, d = 512, h = 8 ; 76M parameters)'\n",
    "\n",
    "model = ImageGPTForCausalImageModeling.from_pretrained('openai/imagegpt-small')\n",
    "models['iGPT-small'] = [count_parameters(model), count_parameters(model, Embedding_FLAG = True)]\n",
    "\n",
    "'iGPT medium (l = 36, d = 1024, h = 8 ; 455M parameters)'\n",
    "\n",
    "model = ImageGPTForCausalImageModeling.from_pretrained('openai/imagegpt-medium')\n",
    "models['iGPT-medium'] = [count_parameters(model), count_parameters(model, Embedding_FLAG = True)]\n",
    "\n",
    "'iGPT large (l = 48, d = 1536, h = 16 ; 1.36b parameters)'\n",
    "\n",
    "model = ImageGPTForCausalImageModeling.from_pretrained('openai/imagegpt-large')\n",
    "models['iGPT-large'] = [count_parameters(model), count_parameters(model, Embedding_FLAG = True)]"
   ]
  },
  {
   "cell_type": "code",
   "execution_count": 9,
   "metadata": {},
   "outputs": [],
   "source": [
    "'save'\n",
    "with open(dir, 'wb') as file:\n",
    "    pickle.dump(models, file)"
   ]
  },
  {
   "cell_type": "code",
   "execution_count": null,
   "metadata": {},
   "outputs": [],
   "source": []
  }
 ],
 "metadata": {
  "kernelspec": {
   "display_name": "attention-geometry",
   "language": "python",
   "name": "python3"
  },
  "language_info": {
   "codemirror_mode": {
    "name": "ipython",
    "version": 3
   },
   "file_extension": ".py",
   "mimetype": "text/x-python",
   "name": "python",
   "nbconvert_exporter": "python",
   "pygments_lexer": "ipython3",
   "version": "3.11.5"
  }
 },
 "nbformat": 4,
 "nbformat_minor": 2
}
