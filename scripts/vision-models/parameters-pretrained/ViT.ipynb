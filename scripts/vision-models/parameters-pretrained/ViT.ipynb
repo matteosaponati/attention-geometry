{
 "cells": [
  {
   "cell_type": "code",
   "execution_count": 2,
   "metadata": {},
   "outputs": [
    {
     "name": "stderr",
     "output_type": "stream",
     "text": [
      "/opt/homebrew/Caskroom/miniconda/base/envs/attention-geometry/lib/python3.11/site-packages/tqdm/auto.py:21: TqdmWarning: IProgress not found. Please update jupyter and ipywidgets. See https://ipywidgets.readthedocs.io/en/stable/user_install.html\n",
      "  from .autonotebook import tqdm as notebook_tqdm\n"
     ]
    }
   ],
   "source": [
    "import pickle\n",
    "import os\n",
    "import numpy as np\n",
    "import matplotlib.pyplot as plt\n",
    "\n",
    "from utils.funs import count_parameters\n",
    "\n",
    "from transformers import ViTModel, ViTForImageClassification"
   ]
  },
  {
   "cell_type": "code",
   "execution_count": 3,
   "metadata": {},
   "outputs": [],
   "source": [
    "dir = '../../../_data/fig-parameters-vision-models/ViT.pkl'\n",
    "\n",
    "if os.path.isfile(dir):\n",
    "    with open(dir, 'rb') as file:\n",
    "        models = pickle.load(file)\n",
    "else: models = {}"
   ]
  },
  {
   "cell_type": "code",
   "execution_count": 4,
   "metadata": {},
   "outputs": [
    {
     "name": "stderr",
     "output_type": "stream",
     "text": [
      "/opt/homebrew/Caskroom/miniconda/base/envs/attention-geometry/lib/python3.11/site-packages/torch/_utils.py:831: UserWarning: TypedStorage is deprecated. It will be removed in the future and UntypedStorage will be the only storage class. This should only matter to you if you are using storages directly.  To access UntypedStorage directly, use tensor.untyped_storage() instead of tensor.storage()\n",
      "  return self.fget.__get__(instance, owner)()\n"
     ]
    }
   ],
   "source": [
    "'ViT base (86M parameters)'\n",
    "model = ViTModel.from_pretrained('google/vit-base-patch16-224-in21k')\n",
    "models['ViT-base-16-224-pretrain'] = [count_parameters(model), count_parameters(model, Embedding_FLAG = True)]\n",
    "\n",
    "'ViT large (307M parameters)'\n",
    "model = ViTModel.from_pretrained('google/vit-large-patch16-224-in21k')\n",
    "models['ViT-large-16-224-pretrain'] = [count_parameters(model), count_parameters(model, Embedding_FLAG = True)]\n",
    "\n",
    "'ViT large (307M parameters)'\n",
    "model = ViTModel.from_pretrained('google/vit-large-patch32-224-in21k')\n",
    "models['ViT-large-32-224-pretrain'] = [count_parameters(model), count_parameters(model, Embedding_FLAG = True)]\n",
    "\n",
    "'ViT huge (632M parameters)'\n",
    "model = ViTModel.from_pretrained('google/vit-huge-patch14-224-in21k')\n",
    "models['ViT-large-14-224-pretrain'] = [count_parameters(model), count_parameters(model, Embedding_FLAG = True)]\n",
    "\n",
    "'ViT base (86M parameters)'\n",
    "model = ViTForImageClassification.from_pretrained('google/vit-base-patch16-224')\n",
    "models['ViTbase-16-224'] = [count_parameters(model), count_parameters(model, Embedding_FLAG = True)]\n",
    "\n",
    "'ViT base (86M parameters)'\n",
    "model = ViTForImageClassification.from_pretrained('google/vit-base-patch16-384')\n",
    "models['ViTbase-16-384'] = [count_parameters(model), count_parameters(model, Embedding_FLAG = True)]\n",
    "\n",
    "'ViT base (86M parameters)'\n",
    "model = ViTForImageClassification.from_pretrained('google/vit-base-patch32-384')\n",
    "models['ViTbase-32-384'] = [count_parameters(model), count_parameters(model, Embedding_FLAG = True)]\n",
    "\n",
    "'ViT large (307M parameters)'\n",
    "model = ViTForImageClassification.from_pretrained('google/vit-large-patch16-224')\n",
    "models['ViTlarge-16-224'] = [count_parameters(model), count_parameters(model, Embedding_FLAG = True)]\n",
    "\n",
    "'ViT large (307M parameters)'\n",
    "model = ViTForImageClassification.from_pretrained('google/vit-large-patch16-384')\n",
    "models['ViTlarge-16-384'] = [count_parameters(model), count_parameters(model, Embedding_FLAG = True)]\n",
    "\n",
    "'ViT large (307M parameters)'\n",
    "model = ViTForImageClassification.from_pretrained('google/vit-large-patch32-384')\n",
    "models['ViTlarge-32-384'] = [count_parameters(model), count_parameters(model, Embedding_FLAG = True)]"
   ]
  },
  {
   "cell_type": "code",
   "execution_count": 5,
   "metadata": {},
   "outputs": [],
   "source": [
    "'save'\n",
    "with open(dir, 'wb') as file:\n",
    "    pickle.dump(models, file)"
   ]
  },
  {
   "cell_type": "code",
   "execution_count": null,
   "metadata": {},
   "outputs": [],
   "source": []
  }
 ],
 "metadata": {
  "kernelspec": {
   "display_name": "attention-geometry",
   "language": "python",
   "name": "python3"
  },
  "language_info": {
   "codemirror_mode": {
    "name": "ipython",
    "version": 3
   },
   "file_extension": ".py",
   "mimetype": "text/x-python",
   "name": "python",
   "nbconvert_exporter": "python",
   "pygments_lexer": "ipython3",
   "version": "3.11.5"
  }
 },
 "nbformat": 4,
 "nbformat_minor": 2
}
