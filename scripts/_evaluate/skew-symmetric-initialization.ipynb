{
 "cells": [
  {
   "cell_type": "code",
   "execution_count": 1,
   "metadata": {},
   "outputs": [
    {
     "name": "stderr",
     "output_type": "stream",
     "text": [
      "/opt/homebrew/Caskroom/miniconda/base/envs/attention-geometry/lib/python3.11/site-packages/tqdm/auto.py:21: TqdmWarning: IProgress not found. Please update jupyter and ipywidgets. See https://ipywidgets.readthedocs.io/en/stable/user_install.html\n",
      "  from .autonotebook import tqdm as notebook_tqdm\n"
     ]
    }
   ],
   "source": [
    "import numpy as np\n",
    "import matplotlib.pyplot as plt\n",
    "import torch\n",
    "from transformers import BertModel\n",
    "\n",
    "from utils.regularizers import *"
   ]
  },
  {
   "cell_type": "code",
   "execution_count": 10,
   "metadata": {},
   "outputs": [
    {
     "name": "stdout",
     "output_type": "stream",
     "text": [
      "Wq (orthogonal matrix):\n",
      " [[-0.43476016 -0.39724226  0.32263535  0.74100514]\n",
      " [-0.37819614 -0.34490959 -0.858437   -0.03302968]\n",
      " [-0.79577179  0.18673693  0.29460762 -0.49505851]\n",
      " [-0.18627545  0.82967781 -0.26869814  0.45247927]]\n",
      "Wk:\n",
      " [[-0.01224729  0.44582636 -0.73823265  0.55324365]\n",
      " [-0.13487001  0.97781431 -0.33192696 -0.03971689]\n",
      " [-0.03123068 -0.36076954  0.39958714  0.15191116]\n",
      " [ 0.43583008  0.70114881  0.61213617 -0.74271538]]\n",
      "M:\n",
      " [[ 9.00141379e-17 -4.66314855e-01  3.98378648e-01 -8.20866638e-01]\n",
      " [ 4.66314855e-01 -1.07504082e-16 -2.11793766e-01 -9.07610898e-01]\n",
      " [-3.98378648e-01  2.11793766e-01  3.02577298e-17  3.32136651e-01]\n",
      " [ 8.20866638e-01  9.07610898e-01 -3.32136651e-01  5.22922159e-17]]\n",
      "M.T + M:\n",
      " [[ 1.80028276e-16  1.66533454e-16 -1.66533454e-16  0.00000000e+00]\n",
      " [ 1.66533454e-16 -2.15008165e-16  8.32667268e-17  0.00000000e+00]\n",
      " [-1.66533454e-16  8.32667268e-17  6.05154596e-17 -1.66533454e-16]\n",
      " [ 0.00000000e+00  0.00000000e+00 -1.66533454e-16  1.04584432e-16]]\n"
     ]
    }
   ],
   "source": [
    "n = 4 \n",
    "\n",
    "## initialize Wq as an orthogonal matrix (QR decomposition)\n",
    "Wq, _ = np.linalg.qr(np.random.rand(n, n))  \n",
    "\n",
    "## initialize a skew-symmetric matrix\n",
    "S = np.random.rand(n, n)\n",
    "S = S - S.T\n",
    "\n",
    "Wk = S @ Wq\n",
    "M = Wq @ Wk.T\n",
    "\n",
    "print(\"Wq:\\n\", Wq)\n",
    "print(\"Wk:\\n\", Wk)\n",
    "print(\"M:\\n\", M)\n",
    "print(\"M.T + M:\\n\", M.T + M)\n"
   ]
  },
  {
   "cell_type": "code",
   "execution_count": 16,
   "metadata": {},
   "outputs": [
    {
     "name": "stdout",
     "output_type": "stream",
     "text": [
      "Wq:\n",
      " [[0.91069962 0.34861717]\n",
      " [0.08239539 0.95749676]\n",
      " [0.47094519 0.17041381]\n",
      " [0.64504426 0.82436681]]\n",
      "Wk:\n",
      " [[ 0.12660719 -0.3307385 ]\n",
      " [ 0.34773381 -0.02992351]\n",
      " [ 0.06188913 -0.17103302]\n",
      " [ 0.29938504 -0.23426053]]\n",
      "M:\n",
      " [[ 1.49481878e-17  3.06249197e-01 -3.26263999e-03  1.90982601e-01]\n",
      " [-3.06249197e-01  2.72226007e-18 -1.58664184e-01 -1.99635751e-01]\n",
      " [ 3.26263999e-03  1.58664184e-01 -2.59802564e-18  1.01072716e-01]\n",
      " [-1.90982601e-01  1.99635751e-01 -1.01072716e-01  2.99529288e-18]]\n",
      "M.T + M:\n",
      " [[ 2.98963756e-17  0.00000000e+00  4.33680869e-18  2.77555756e-17]\n",
      " [ 0.00000000e+00  5.44452014e-18 -2.77555756e-17  0.00000000e+00]\n",
      " [ 4.33680869e-18 -2.77555756e-17 -5.19605128e-18 -1.38777878e-17]\n",
      " [ 2.77555756e-17  0.00000000e+00 -1.38777878e-17  5.99058577e-18]]\n"
     ]
    }
   ],
   "source": [
    "n = 4 \n",
    "m = 2\n",
    "\n",
    "## initialize Wq \n",
    "Wq = np.random.rand(n, m) \n",
    "\n",
    "## initialize a skew-symmetric matrix\n",
    "S = np.random.rand(m, m)\n",
    "S = S - S.T\n",
    "\n",
    "Wk = Wq @ S.T\n",
    "M = Wq @ Wk.T\n",
    "\n",
    "print(\"Wq:\\n\", Wq)\n",
    "print(\"Wk:\\n\", Wk)\n",
    "print(\"M:\\n\", M)\n",
    "print(\"M.T + M:\\n\", M.T + M)"
   ]
  },
  {
   "cell_type": "code",
   "execution_count": 12,
   "metadata": {},
   "outputs": [
    {
     "name": "stdout",
     "output_type": "stream",
     "text": [
      "Matrix A (n x m):\n",
      " [[0.37139719 0.7767818 ]\n",
      " [0.38608924 0.04250411]\n",
      " [0.02016199 0.65433717]]\n",
      "Matrix S (m x m, Skew-symmetric):\n",
      " [[ 0.         -0.58189764]\n",
      " [ 0.58189764  0.        ]]\n",
      "Matrix B (S * A):\n",
      " [[-0.4520075   0.21611515]\n",
      " [-0.02473304  0.22466442]\n",
      " [-0.38075726  0.01173221]]\n",
      "Matrix C (A * B^T):\n",
      " [[ 7.95191620e-18  1.65329450e-01 -1.32298804e-01]\n",
      " [-1.65329450e-01  2.38203145e-19 -1.46507612e-01]\n",
      " [ 1.32298804e-01  1.46507612e-01  1.30538278e-19]]\n",
      "C^T + C:\n",
      " [[1.59038324e-17 0.00000000e+00 0.00000000e+00]\n",
      " [0.00000000e+00 4.76406289e-19 0.00000000e+00]\n",
      " [0.00000000e+00 0.00000000e+00 2.61076557e-19]]\n"
     ]
    }
   ],
   "source": [
    "import numpy as np\n",
    "\n",
    "# Function to create a random skew-symmetric matrix\n",
    "def random_skew_symmetric(m):\n",
    "    M = np.random.rand(m, m)\n",
    "    return M - M.T\n",
    "\n",
    "# Dimensions\n",
    "n = 3  # Number of rows\n",
    "m = 2  # Number of columns\n",
    "\n",
    "# Step 1: Initialize matrix A (random n x m matrix)\n",
    "A = np.random.rand(n, m)\n",
    "\n",
    "# Step 2: Initialize a skew-symmetric matrix S of size m x m\n",
    "S = random_skew_symmetric(m)\n",
    "\n",
    "# Step 3: Calculate matrix B as S * A (S is m x m, A is n x m)\n",
    "B = np.dot(S, A.T).T  # We need to ensure B is n x m\n",
    "\n",
    "# Step 4: Calculate C as AB^T\n",
    "C = np.dot(A, B.T)\n",
    "\n",
    "# Check if C is skew-symmetric\n",
    "print(\"Matrix A (n x m):\\n\", A)\n",
    "print(\"Matrix S (m x m, Skew-symmetric):\\n\", S)\n",
    "print(\"Matrix B (S * A):\\n\", B)\n",
    "print(\"Matrix C (A * B^T):\\n\", C)\n",
    "print(\"C^T + C:\\n\", C.T + C)  # This should be close to zero matrix if C is skew-symmetric\n"
   ]
  },
  {
   "cell_type": "code",
   "execution_count": 2,
   "metadata": {},
   "outputs": [],
   "source": [
    "dh = 64\n",
    "l = 12\n",
    "d = 768\n",
    "h = d // dh\n",
    "\n",
    "'BERT base (l = 12, d = 768, h = 12 ; 110M parameters)'\n",
    "model = BertModel.from_pretrained(\"bert-base-uncased\")"
   ]
  },
  {
   "cell_type": "code",
   "execution_count": 3,
   "metadata": {},
   "outputs": [],
   "source": [
    "scores_heads = np.zeros((l,h))\n",
    "scores_full = np.zeros((l,h))"
   ]
  },
  {
   "cell_type": "code",
   "execution_count": 25,
   "metadata": {},
   "outputs": [],
   "source": [
    "layers = model.encoder.layer\n",
    "\n",
    "for i, layer in enumerate(layers):\n",
    "\n",
    "    self_attention = layer.attention.self\n",
    "    Wq = self_attention.query._parameters[\"weight\"].reshape(h, dh, d).detach()\n",
    "    Wq_t = Wq.transpose(-1,-2)\n",
    "    Wk = self_attention.key._parameters[\"weight\"].reshape(h, dh, d).detach()\n",
    "    Wk_t = Wk.transpose(-1,-2)\n",
    "\n",
    "    ## loop over heads\n",
    "    for j in range(h):\n",
    "\n",
    "        A = Wq[j,:] @ Wq_t[j,:]\n",
    "        B = Wk[j,:] @ Wk_t[j,:]\n",
    "        C = Wk[j,:] @ Wq_t[j,:]\n",
    "        S = .5 * (1 + (torch.einsum('ij,ji->', C, C)) / torch.einsum('ij,ji->', A, B))\n",
    "        scores_heads[i,j] = S\n",
    "\n",
    "    # einsum over heads\n",
    "    A = torch.matmul(Wq, Wq_t)\n",
    "    B = torch.matmul(Wk, Wk_t)\n",
    "    C = torch.matmul(Wk, Wq_t)\n",
    "    S = .5 * (1 + (torch.einsum('hij,hji->h', C, C)) / torch.einsum('hij,hji->h', A, B))\n",
    "    scores_full[i,:] = S    "
   ]
  },
  {
   "cell_type": "code",
   "execution_count": 27,
   "metadata": {},
   "outputs": [
    {
     "data": {
      "text/plain": [
       "True"
      ]
     },
     "execution_count": 27,
     "metadata": {},
     "output_type": "execute_result"
    }
   ],
   "source": [
    "np.allclose(scores_heads, scores_full)"
   ]
  },
  {
   "cell_type": "code",
   "execution_count": null,
   "metadata": {},
   "outputs": [],
   "source": []
  }
 ],
 "metadata": {
  "kernelspec": {
   "display_name": "attention-geometry",
   "language": "python",
   "name": "python3"
  },
  "language_info": {
   "codemirror_mode": {
    "name": "ipython",
    "version": 3
   },
   "file_extension": ".py",
   "mimetype": "text/x-python",
   "name": "python",
   "nbconvert_exporter": "python",
   "pygments_lexer": "ipython3",
   "version": "3.11.5"
  }
 },
 "nbformat": 4,
 "nbformat_minor": 2
}
