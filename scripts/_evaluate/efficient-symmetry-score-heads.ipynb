{
 "cells": [
  {
   "cell_type": "code",
   "execution_count": 1,
   "metadata": {},
   "outputs": [
    {
     "name": "stderr",
     "output_type": "stream",
     "text": [
      "/opt/homebrew/Caskroom/miniconda/base/envs/attention-geometry/lib/python3.11/site-packages/tqdm/auto.py:21: TqdmWarning: IProgress not found. Please update jupyter and ipywidgets. See https://ipywidgets.readthedocs.io/en/stable/user_install.html\n",
      "  from .autonotebook import tqdm as notebook_tqdm\n"
     ]
    }
   ],
   "source": [
    "import numpy as np\n",
    "import matplotlib.pyplot as plt\n",
    "import torch\n",
    "from transformers import BertModel\n",
    "\n",
    "from utils.regularizers import *"
   ]
  },
  {
   "cell_type": "code",
   "execution_count": 2,
   "metadata": {},
   "outputs": [],
   "source": [
    "dh = 64\n",
    "l = 12\n",
    "d = 768\n",
    "h = d // dh\n",
    "\n",
    "'BERT base (l = 12, d = 768, h = 12 ; 110M parameters)'\n",
    "model = BertModel.from_pretrained(\"bert-base-uncased\")"
   ]
  },
  {
   "cell_type": "code",
   "execution_count": 3,
   "metadata": {},
   "outputs": [],
   "source": [
    "scores_heads = np.zeros((l,h))\n",
    "scores_full = np.zeros((l,h))"
   ]
  },
  {
   "cell_type": "code",
   "execution_count": 25,
   "metadata": {},
   "outputs": [],
   "source": [
    "layers = model.encoder.layer\n",
    "\n",
    "for i, layer in enumerate(layers):\n",
    "\n",
    "    self_attention = layer.attention.self\n",
    "    Wq = self_attention.query._parameters[\"weight\"].reshape(h, dh, d).detach()\n",
    "    Wq_t = Wq.transpose(-1,-2)\n",
    "    Wk = self_attention.key._parameters[\"weight\"].reshape(h, dh, d).detach()\n",
    "    Wk_t = Wk.transpose(-1,-2)\n",
    "\n",
    "    ## loop over heads\n",
    "    for j in range(h):\n",
    "\n",
    "        A = Wq[j,:] @ Wq_t[j,:]\n",
    "        B = Wk[j,:] @ Wk_t[j,:]\n",
    "        C = Wk[j,:] @ Wq_t[j,:]\n",
    "        S = .5 * (1 + (torch.einsum('ij,ji->', C, C)) / torch.einsum('ij,ji->', A, B))\n",
    "        scores_heads[i,j] = S\n",
    "\n",
    "    # einsum over heads\n",
    "    A = torch.matmul(Wq, Wq_t)\n",
    "    B = torch.matmul(Wk, Wk_t)\n",
    "    C = torch.matmul(Wk, Wq_t)\n",
    "    S = .5 * (1 + (torch.einsum('hij,hji->h', C, C)) / torch.einsum('hij,hji->h', A, B))\n",
    "    scores_full[i,:] = S    "
   ]
  },
  {
   "cell_type": "code",
   "execution_count": 27,
   "metadata": {},
   "outputs": [
    {
     "data": {
      "text/plain": [
       "True"
      ]
     },
     "execution_count": 27,
     "metadata": {},
     "output_type": "execute_result"
    }
   ],
   "source": [
    "np.allclose(scores_heads, scores_full)"
   ]
  },
  {
   "cell_type": "code",
   "execution_count": null,
   "metadata": {},
   "outputs": [],
   "source": []
  }
 ],
 "metadata": {
  "kernelspec": {
   "display_name": "attention-geometry",
   "language": "python",
   "name": "python3"
  },
  "language_info": {
   "codemirror_mode": {
    "name": "ipython",
    "version": 3
   },
   "file_extension": ".py",
   "mimetype": "text/x-python",
   "name": "python",
   "nbconvert_exporter": "python",
   "pygments_lexer": "ipython3",
   "version": "3.11.5"
  }
 },
 "nbformat": 4,
 "nbformat_minor": 2
}
