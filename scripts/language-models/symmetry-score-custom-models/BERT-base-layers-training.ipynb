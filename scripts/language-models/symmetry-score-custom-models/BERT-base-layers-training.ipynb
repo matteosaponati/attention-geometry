{
 "cells": [
  {
   "cell_type": "code",
   "execution_count": 24,
   "metadata": {},
   "outputs": [],
   "source": [
    "import pickle\n",
    "import os\n",
    "import pandas as pd\n",
    "\n",
    "from utils.funs import get_symmetry_training"
   ]
  },
  {
   "cell_type": "code",
   "execution_count": 25,
   "metadata": {},
   "outputs": [],
   "source": [
    "dir = '../../../_data/fig-symmetry-training-layers/BERT-base-encoder-training.pkl'\n",
    "\n",
    "if os.path.isfile(dir):\n",
    "    with open(dir, 'rb') as file:\n",
    "        models = pickle.load(file)\n",
    "else: models = {}"
   ]
  },
  {
   "cell_type": "code",
   "execution_count": 26,
   "metadata": {},
   "outputs": [],
   "source": [
    "with open('../../../_data/fig-symmetry-training-layers/BERT-base-encoder-specs.pkl', 'rb') as file:\n",
    "    specs = pickle.load(file)"
   ]
  },
  {
   "cell_type": "code",
   "execution_count": 27,
   "metadata": {},
   "outputs": [],
   "source": [
    "data_path = '../../../_data/pascal-data/symmetric-attention-from-scratch-clean/'\n",
    "layers = 12\n",
    "heads = 12\n",
    "\n",
    "model = 'history_bert-encoder-jigsaw.csv'\n",
    "data = pd.read_csv(data_path + model, \n",
    "                       encoding='UTF-8', \n",
    "                       delimiter=',')  \n",
    "models['bert-encoder-jigsaw'] = get_symmetry_training(data, layers = layers, heads = heads, epochs = specs['bert-encoder-jigsaw'][0].size)\n",
    "\n",
    "model = 'history_bert-encoder-wikipedia.csv'\n",
    "data = pd.read_csv(data_path + model, \n",
    "                       encoding='UTF-8', \n",
    "                       delimiter=',')  \n",
    "models['bert-encoder-wikipedia'] = get_symmetry_training(data, layers = layers, heads = heads, epochs = specs['bert-encoder-wikipedia'][0].size)\n",
    "\n",
    "model = 'history_bert-encoder-red_pajama.csv'\n",
    "data = pd.read_csv(data_path + model, \n",
    "                       encoding='UTF-8', \n",
    "                       delimiter=',')  \n",
    "models['bert-encoder-red_pajama'] = get_symmetry_training(data, layers = layers, heads = heads, epochs = specs['bert-encoder-red_pajama'][0].size)"
   ]
  },
  {
   "cell_type": "code",
   "execution_count": 28,
   "metadata": {},
   "outputs": [],
   "source": [
    "'save'\n",
    "with open(dir, 'wb') as file:\n",
    "    pickle.dump(models, file)"
   ]
  },
  {
   "cell_type": "code",
   "execution_count": 29,
   "metadata": {},
   "outputs": [],
   "source": [
    "dir = '../../../_data/fig-symmetry-training-layers/BERT-base-decoder-training.pkl'\n",
    "\n",
    "if os.path.isfile(dir):\n",
    "    with open(dir, 'rb') as file:\n",
    "        models = pickle.load(file)\n",
    "else: models = {}"
   ]
  },
  {
   "cell_type": "code",
   "execution_count": 31,
   "metadata": {},
   "outputs": [],
   "source": [
    "with open('../../../_data/fig-symmetry-training-layers/BERT-base-decoder-specs.pkl', 'rb') as file:\n",
    "    specs = pickle.load(file)"
   ]
  },
  {
   "cell_type": "code",
   "execution_count": 32,
   "metadata": {},
   "outputs": [],
   "source": [
    "data_path = '../../../_data/pascal-data/symmetric-attention-from-scratch-clean/'\n",
    "layers = 12\n",
    "heads = 12\n",
    "\n",
    "model = 'history_bert-decoder-jigsaw.csv'\n",
    "data = pd.read_csv(data_path + model, \n",
    "                       encoding='UTF-8', \n",
    "                       delimiter=',')  \n",
    "models['bert-decoder-jigsaw'] = get_symmetry_training(data, layers = layers, heads = heads, epochs = specs['bert-decoder-jigsaw'][0].size)\n",
    "\n",
    "model = 'history_bert-decoder-wikipedia.csv'\n",
    "data = pd.read_csv(data_path + model, \n",
    "                       encoding='UTF-8', \n",
    "                       delimiter=',')  \n",
    "models['bert-decoder-wikipedia'] = get_symmetry_training(data, layers = layers, heads = heads, epochs = specs['bert-decoder-wikipedia'][0].size)\n",
    "\n",
    "model = 'history_bert-decoder-red_pajama.csv'\n",
    "data = pd.read_csv(data_path + model, \n",
    "                       encoding='UTF-8', \n",
    "                       delimiter=',')  \n",
    "models['bert-decoder-red_pajama'] = get_symmetry_training(data, layers = layers, heads = heads, epochs = specs['bert-decoder-red_pajama'][0].size)"
   ]
  },
  {
   "cell_type": "code",
   "execution_count": 33,
   "metadata": {},
   "outputs": [],
   "source": [
    "'save'\n",
    "with open(dir, 'wb') as file:\n",
    "    pickle.dump(models, file)"
   ]
  },
  {
   "cell_type": "code",
   "execution_count": null,
   "metadata": {},
   "outputs": [],
   "source": []
  }
 ],
 "metadata": {
  "kernelspec": {
   "display_name": "attention-geometry",
   "language": "python",
   "name": "python3"
  },
  "language_info": {
   "codemirror_mode": {
    "name": "ipython",
    "version": 3
   },
   "file_extension": ".py",
   "mimetype": "text/x-python",
   "name": "python",
   "nbconvert_exporter": "python",
   "pygments_lexer": "ipython3",
   "version": "3.11.5"
  }
 },
 "nbformat": 4,
 "nbformat_minor": 2
}
