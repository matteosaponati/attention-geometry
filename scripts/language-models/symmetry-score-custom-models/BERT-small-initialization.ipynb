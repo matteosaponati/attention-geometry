{
 "cells": [
  {
   "cell_type": "code",
   "execution_count": 1,
   "metadata": {},
   "outputs": [],
   "source": [
    "import pickle\n",
    "import os\n",
    "import pandas as pd\n",
    "\n",
    "from utils.funs import get_symmetry_layers_heads"
   ]
  },
  {
   "cell_type": "code",
   "execution_count": 8,
   "metadata": {},
   "outputs": [],
   "source": [
    "dir = '../../../_data/pascal-data/symmetry-scores/BERT-small-symmetry.pkl'\n",
    "\n",
    "if os.path.isfile(dir):\n",
    "    with open(dir, 'rb') as file:\n",
    "        models = pickle.load(file)\n",
    "else: models = {}"
   ]
  },
  {
   "cell_type": "code",
   "execution_count": 10,
   "metadata": {},
   "outputs": [
    {
     "data": {
      "text/plain": [
       "dict_keys(['bert-small-encoder-jigsaw', 'bert-small-encoder-wikipedia', 'bert-small-encoder-red_pajama', 'bert-small-decoder-jigsaw', 'bert-small-decoder-wikipedia', 'bert-small-decoder-red_pajama', 'bert-small-no_bias-encoder-jigsaw', 'bert-small-no_bias-encoder-wikipedia', 'bert-small-no_bias-encoder-red_pajama', 'bert-small-no_bias-decoder-jigsaw', 'bert-small-no_bias-decoder-wikipedia', 'bert-small-no_bias-decoder-red_pajama'])"
      ]
     },
     "execution_count": 10,
     "metadata": {},
     "output_type": "execute_result"
    }
   ],
   "source": [
    "models.keys()"
   ]
  },
  {
   "cell_type": "code",
   "execution_count": 3,
   "metadata": {},
   "outputs": [],
   "source": [
    "data_path = '../../../_data/pascal-data/symmetric-attention-from-scratch-clean/'\n",
    "layers = 12\n",
    "heads = 12\n",
    "\n",
    "model = 'history_bert-encoder-jigsaw.csv'\n",
    "data = pd.read_csv(data_path + model, \n",
    "                       encoding='UTF-8', \n",
    "                       delimiter=',')  \n",
    "models['bert-encoder-jigsaw'] = get_symmetry_layers_heads(data, layers = layers, heads = heads)\n",
    "\n",
    "model = 'history_bert-encoder-wikipedia.csv'\n",
    "data = pd.read_csv(data_path + model, \n",
    "                       encoding='UTF-8', \n",
    "                       delimiter=',')  \n",
    "models['bert-encoder-wikipedia'] = get_symmetry_layers_heads(data, layers = layers, heads = heads)\n",
    "\n",
    "model = 'history_bert-encoder-red_pajama.csv'\n",
    "data = pd.read_csv(data_path + model, \n",
    "                       encoding='UTF-8', \n",
    "                       delimiter=',')  \n",
    "models['bert-encoder-red_pajama'] = get_symmetry_layers_heads(data, layers = layers, heads = heads)\n"
   ]
  },
  {
   "cell_type": "code",
   "execution_count": 4,
   "metadata": {},
   "outputs": [],
   "source": [
    "'save'\n",
    "with open(dir, 'wb') as file:\n",
    "    pickle.dump(models, file)"
   ]
  },
  {
   "cell_type": "code",
   "execution_count": 5,
   "metadata": {},
   "outputs": [],
   "source": [
    "dir = '../../../_data/fig-symmetry-training-layers/BERT-base-decoder.pkl'\n",
    "\n",
    "if os.path.isfile(dir):\n",
    "    with open(dir, 'rb') as file:\n",
    "        models = pickle.load(file)\n",
    "else: models = {}"
   ]
  },
  {
   "cell_type": "code",
   "execution_count": 6,
   "metadata": {},
   "outputs": [],
   "source": [
    "\n",
    "model = 'history_bert-decoder-jigsaw.csv'\n",
    "data = pd.read_csv(data_path + model, \n",
    "                       encoding='UTF-8', \n",
    "                       delimiter=',')  \n",
    "models['bert-decoder-jigsaw'] = get_symmetry_layers_heads(data, layers = layers, heads = heads)\n",
    "\n",
    "model = 'history_bert-decoder-wikipedia.csv'\n",
    "data = pd.read_csv(data_path + model, \n",
    "                       encoding='UTF-8', \n",
    "                       delimiter=',')  \n",
    "models['bert-decoder-wikipedia'] = get_symmetry_layers_heads(data, layers = layers, heads = heads)\n",
    "\n",
    "model = 'history_bert-decoder-red_pajama.csv'\n",
    "data = pd.read_csv(data_path + model, \n",
    "                       encoding='UTF-8', \n",
    "                       delimiter=',')  \n",
    "models['bert-decoder-red_pajama'] = get_symmetry_layers_heads(data, layers = layers, heads = heads)"
   ]
  },
  {
   "cell_type": "code",
   "execution_count": 7,
   "metadata": {},
   "outputs": [],
   "source": [
    "'save'\n",
    "with open(dir, 'wb') as file:\n",
    "    pickle.dump(models, file)"
   ]
  },
  {
   "cell_type": "code",
   "execution_count": null,
   "metadata": {},
   "outputs": [],
   "source": []
  }
 ],
 "metadata": {
  "kernelspec": {
   "display_name": "attention-geometry",
   "language": "python",
   "name": "python3"
  },
  "language_info": {
   "codemirror_mode": {
    "name": "ipython",
    "version": 3
   },
   "file_extension": ".py",
   "mimetype": "text/x-python",
   "name": "python",
   "nbconvert_exporter": "python",
   "pygments_lexer": "ipython3",
   "version": "3.11.5"
  }
 },
 "nbformat": 4,
 "nbformat_minor": 2
}
