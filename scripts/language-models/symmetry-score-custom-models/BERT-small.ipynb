{
 "cells": [
  {
   "cell_type": "code",
   "execution_count": 1,
   "metadata": {},
   "outputs": [],
   "source": [
    "import pickle\n",
    "import os\n",
    "import pandas as pd\n",
    "import numpy as np\n",
    "import matplotlib.pyplot as plt"
   ]
  },
  {
   "cell_type": "code",
   "execution_count": 2,
   "metadata": {},
   "outputs": [],
   "source": [
    "path = '../../../_data/pascal-data/symmetric-attention-from-scratch-clean/'"
   ]
  },
  {
   "cell_type": "code",
   "execution_count": 3,
   "metadata": {},
   "outputs": [],
   "source": [
    "def get_interpolation(data):\n",
    "\n",
    "    data = data.to_numpy()\n",
    "    x = np.arange(data.size)\n",
    "    data = np.interp(x, x[~np.isnan(data)], \n",
    "                                  data[~np.isnan(data)])\n",
    "\n",
    "    return data\n",
    "\n",
    "def save_data(data):\n",
    "\n",
    "    list = [get_interpolation(data['_step']),\n",
    "            get_interpolation(data['train/global_step']),\n",
    "            get_interpolation(data['Mean Symmetry']),\n",
    "            get_interpolation(data['Min Symmetry']),\n",
    "            get_interpolation(data['Max Symmetry']),\n",
    "            get_interpolation(data['Median Symmetry']),\n",
    "            get_interpolation(data['Variance Symmetry']),\n",
    "            get_interpolation(data['Layer 0/Head 0 Symmetry']),\n",
    "            get_interpolation(data['Layer 0/Head 1 Symmetry']),\n",
    "            get_interpolation(data['Layer 0/Head 2 Symmetry']),\n",
    "            get_interpolation(data['Layer 0/Head 3 Symmetry']),\n",
    "            get_interpolation(data['Layer 1/Head 0 Symmetry']),\n",
    "            get_interpolation(data['Layer 1/Head 1 Symmetry']),\n",
    "            get_interpolation(data['Layer 1/Head 2 Symmetry']),\n",
    "            get_interpolation(data['Layer 1/Head 3 Symmetry']),\n",
    "            get_interpolation(data['Layer 2/Head 0 Symmetry']),\n",
    "            get_interpolation(data['Layer 2/Head 1 Symmetry']),\n",
    "            get_interpolation(data['Layer 2/Head 2 Symmetry']),\n",
    "            get_interpolation(data['Layer 2/Head 3 Symmetry']),\n",
    "            get_interpolation(data['Layer 3/Head 0 Symmetry']),\n",
    "            get_interpolation(data['Layer 3/Head 1 Symmetry']),\n",
    "            get_interpolation(data['Layer 3/Head 2 Symmetry']),\n",
    "            get_interpolation(data['Layer 3/Head 3 Symmetry']),\n",
    "            get_interpolation(data['train/loss'])]\n",
    "            # get_interpolation(data['reg_loss']),\n",
    "            # get_interpolation(data['total_loss'])]\n",
    "    \n",
    "    return list"
   ]
  },
  {
   "cell_type": "code",
   "execution_count": 4,
   "metadata": {},
   "outputs": [],
   "source": [
    "if os.path.isfile('../../../_data/pascal-data/symmetry-scores/BERT-small-symmetry.pkl'):\n",
    "    with open('../../../_data/pascal-data/symmetry-scores/BERT-small-symmetry.pkl', 'rb') as file:\n",
    "        models = pickle.load(file)\n",
    "else: models = {}"
   ]
  },
  {
   "cell_type": "code",
   "execution_count": 5,
   "metadata": {},
   "outputs": [],
   "source": [
    "'BERT small'\n",
    "\n",
    "model = 'history_bert_small-encoder-jigsaw.csv'\n",
    "data = pd.read_csv(path + model, \n",
    "                       encoding='UTF-8', \n",
    "                       delimiter=',')  \n",
    "models['bert-small-encoder-jigsaw'] = save_data(data)\n",
    "\n",
    "model = 'history_bert_small-encoder-wikipedia.csv'\n",
    "data = pd.read_csv(path + model, \n",
    "                       encoding='UTF-8', \n",
    "                       delimiter=',')  \n",
    "models['bert-small-encoder-wikipedia'] = save_data(data)\n",
    "\n",
    "model = 'history_bert_small-encoder-red_pajama.csv'\n",
    "data = pd.read_csv(path + model, \n",
    "                       encoding='UTF-8', \n",
    "                       delimiter=',')  \n",
    "models['bert-small-encoder-red_pajama'] = save_data(data)\n",
    "\n",
    "'--------------'\n",
    "\n",
    "model = 'history_bert_small-decoder-jigsaw.csv'\n",
    "data = pd.read_csv(path + model, \n",
    "                       encoding='UTF-8', \n",
    "                       delimiter=',')  \n",
    "models['bert-small-decoder-jigsaw'] = save_data(data)\n",
    "\n",
    "model = 'history_bert_small-decoder-wikipedia.csv'\n",
    "data = pd.read_csv(path + model, \n",
    "                       encoding='UTF-8', \n",
    "                       delimiter=',')  \n",
    "models['bert-small-decoder-wikipedia'] = save_data(data)\n",
    "\n",
    "model = 'history_bert_small-decoder-red_pajama.csv'\n",
    "data = pd.read_csv(path + model, \n",
    "                       encoding='UTF-8', \n",
    "                       delimiter=',')  \n",
    "models['bert-small-decoder-red_pajama'] = save_data(data)\n"
   ]
  },
  {
   "cell_type": "code",
   "execution_count": 6,
   "metadata": {},
   "outputs": [],
   "source": [
    "model = 'history_bert_small-no_bias-encoder-jigsaw.csv'\n",
    "data = pd.read_csv(path + model, \n",
    "                       encoding='UTF-8', \n",
    "                       delimiter=',')  \n",
    "models['bert-small-no_bias-encoder-jigsaw'] = save_data(data)\n",
    "\n",
    "model = 'history_bert_small-no_bias-encoder-wikipedia.csv'\n",
    "data = pd.read_csv(path + model, \n",
    "                       encoding='UTF-8', \n",
    "                       delimiter=',')  \n",
    "models['bert-small-no_bias-encoder-wikipedia'] = save_data(data)\n",
    "\n",
    "model = 'history_bert_small-no_bias-encoder-red_pajama.csv'\n",
    "data = pd.read_csv(path + model, \n",
    "                       encoding='UTF-8', \n",
    "                       delimiter=',')  \n",
    "models['bert-small-no_bias-encoder-red_pajama'] = save_data(data)\n",
    "\n",
    "'--------------'\n",
    "\n",
    "model = 'history_bert_small-no_bias-decoder-jigsaw.csv'\n",
    "data = pd.read_csv(path + model, \n",
    "                       encoding='UTF-8', \n",
    "                       delimiter=',')  \n",
    "models['bert-small-no_bias-decoder-jigsaw'] = save_data(data)\n",
    "\n",
    "model = 'history_bert_small-no_bias-decoder-wikipedia.csv'\n",
    "data = pd.read_csv(path + model, \n",
    "                       encoding='UTF-8', \n",
    "                       delimiter=',')  \n",
    "models['bert-small-no_bias-decoder-wikipedia'] = save_data(data)\n",
    "\n",
    "model = 'history_bert_small-no_bias-decoder-red_pajama.csv'\n",
    "data = pd.read_csv(path + model, \n",
    "                       encoding='UTF-8', \n",
    "                       delimiter=',')  \n",
    "models['bert-small-no_bias-decoder-red_pajama'] = save_data(data)"
   ]
  },
  {
   "cell_type": "code",
   "execution_count": 7,
   "metadata": {},
   "outputs": [],
   "source": [
    "with open('../../../_data/pascal-data/symmetry-scores/BERT-small-symmetry.pkl', 'wb') as file:\n",
    "    pickle.dump(models, file)"
   ]
  },
  {
   "cell_type": "code",
   "execution_count": null,
   "metadata": {},
   "outputs": [],
   "source": []
  }
 ],
 "metadata": {
  "kernelspec": {
   "display_name": "attention-geometry",
   "language": "python",
   "name": "python3"
  },
  "language_info": {
   "codemirror_mode": {
    "name": "ipython",
    "version": 3
   },
   "file_extension": ".py",
   "mimetype": "text/x-python",
   "name": "python",
   "nbconvert_exporter": "python",
   "pygments_lexer": "ipython3",
   "version": "3.11.5"
  }
 },
 "nbformat": 4,
 "nbformat_minor": 2
}
