{
 "cells": [
  {
   "cell_type": "code",
   "execution_count": 1,
   "metadata": {},
   "outputs": [],
   "source": [
    "import pickle\n",
    "import os\n",
    "import pandas as pd\n",
    "\n",
    "from utils.funs import get_symmetry_training"
   ]
  },
  {
   "cell_type": "code",
   "execution_count": 2,
   "metadata": {},
   "outputs": [],
   "source": [
    "dir = '../../../_data/fig-symmetry-training-layers/BERT-small-encoder-training.pkl'\n",
    "\n",
    "if os.path.isfile(dir):\n",
    "    with open(dir, 'rb') as file:\n",
    "        models = pickle.load(file)\n",
    "else: models = {}"
   ]
  },
  {
   "cell_type": "code",
   "execution_count": 3,
   "metadata": {},
   "outputs": [],
   "source": [
    "with open('../../../_data/fig-symmetry-training-layers/BERT-small-encoder-specs.pkl', 'rb') as file:\n",
    "    specs = pickle.load(file)"
   ]
  },
  {
   "cell_type": "code",
   "execution_count": 5,
   "metadata": {},
   "outputs": [],
   "source": [
    "data_path = '../../../_data/pascal-data/symmetric-attention-from-scratch-clean/'\n",
    "layers = 4\n",
    "heads = 4\n",
    "\n",
    "model = 'history_bert_small-encoder-jigsaw.csv'\n",
    "data = pd.read_csv(data_path + model, \n",
    "                       encoding='UTF-8', \n",
    "                       delimiter=',')  \n",
    "models['bert-encoder-jigsaw'] = get_symmetry_training(data, layers = layers, heads = heads, epochs = specs['bert-encoder-jigsaw'][0].size)\n",
    "\n",
    "model = 'history_bert_small-encoder-wikipedia.csv'\n",
    "data = pd.read_csv(data_path + model, \n",
    "                       encoding='UTF-8', \n",
    "                       delimiter=',')  \n",
    "models['bert-encoder-wikipedia'] = get_symmetry_training(data, layers = layers, heads = heads, epochs = specs['bert-encoder-wikipedia'][0].size)\n",
    "\n",
    "model = 'history_bert_small-encoder-red_pajama.csv'\n",
    "data = pd.read_csv(data_path + model, \n",
    "                       encoding='UTF-8', \n",
    "                       delimiter=',')  \n",
    "models['bert-encoder-red_pajama'] = get_symmetry_training(data, layers = layers, heads = heads, epochs = specs['bert-encoder-red_pajama'][0].size)"
   ]
  },
  {
   "cell_type": "code",
   "execution_count": 6,
   "metadata": {},
   "outputs": [],
   "source": [
    "'save'\n",
    "with open(dir, 'wb') as file:\n",
    "    pickle.dump(models, file)"
   ]
  },
  {
   "cell_type": "code",
   "execution_count": 7,
   "metadata": {},
   "outputs": [],
   "source": [
    "dir = '../../../_data/fig-symmetry-training-layers/BERT-small-decoder-training.pkl'\n",
    "\n",
    "if os.path.isfile(dir):\n",
    "    with open(dir, 'rb') as file:\n",
    "        models = pickle.load(file)\n",
    "else: models = {}"
   ]
  },
  {
   "cell_type": "code",
   "execution_count": 8,
   "metadata": {},
   "outputs": [],
   "source": [
    "with open('../../../_data/fig-symmetry-training-layers/BERT-small-decoder-specs.pkl', 'rb') as file:\n",
    "    specs = pickle.load(file)"
   ]
  },
  {
   "cell_type": "code",
   "execution_count": 9,
   "metadata": {},
   "outputs": [],
   "source": [
    "data_path = '../../../_data/pascal-data/symmetric-attention-from-scratch-clean/'\n",
    "layers = 4\n",
    "heads = 4\n",
    "\n",
    "model = 'history_bert_small-decoder-jigsaw.csv'\n",
    "data = pd.read_csv(data_path + model, \n",
    "                       encoding='UTF-8', \n",
    "                       delimiter=',')  \n",
    "models['bert-decoder-jigsaw'] = get_symmetry_training(data, layers = layers, heads = heads, epochs = specs['bert-decoder-jigsaw'][0].size)\n",
    "\n",
    "model = 'history_bert_small-decoder-wikipedia.csv'\n",
    "data = pd.read_csv(data_path + model, \n",
    "                       encoding='UTF-8', \n",
    "                       delimiter=',')  \n",
    "models['bert-decoder-wikipedia'] = get_symmetry_training(data, layers = layers, heads = heads, epochs = specs['bert-decoder-wikipedia'][0].size)\n",
    "\n",
    "model = 'history_bert_small-decoder-red_pajama.csv'\n",
    "data = pd.read_csv(data_path + model, \n",
    "                       encoding='UTF-8', \n",
    "                       delimiter=',')  \n",
    "models['bert-decoder-red_pajama'] = get_symmetry_training(data, layers = layers, heads = heads, epochs = specs['bert-decoder-red_pajama'][0].size)"
   ]
  },
  {
   "cell_type": "code",
   "execution_count": 10,
   "metadata": {},
   "outputs": [],
   "source": [
    "'save'\n",
    "with open(dir, 'wb') as file:\n",
    "    pickle.dump(models, file)"
   ]
  },
  {
   "cell_type": "code",
   "execution_count": null,
   "metadata": {},
   "outputs": [],
   "source": []
  }
 ],
 "metadata": {
  "kernelspec": {
   "display_name": "attention-geometry",
   "language": "python",
   "name": "python3"
  },
  "language_info": {
   "codemirror_mode": {
    "name": "ipython",
    "version": 3
   },
   "file_extension": ".py",
   "mimetype": "text/x-python",
   "name": "python",
   "nbconvert_exporter": "python",
   "pygments_lexer": "ipython3",
   "version": "3.11.5"
  }
 },
 "nbformat": 4,
 "nbformat_minor": 2
}
