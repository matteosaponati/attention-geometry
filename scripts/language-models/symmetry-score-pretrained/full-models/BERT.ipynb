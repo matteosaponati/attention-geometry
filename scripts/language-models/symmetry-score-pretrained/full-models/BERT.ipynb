{
 "cells": [
  {
   "cell_type": "code",
   "execution_count": 8,
   "metadata": {},
   "outputs": [],
   "source": [
    "import pickle\n",
    "import os\n",
    "import numpy as np\n",
    "import matplotlib.pyplot as plt\n",
    "\n",
    "from utils.funs import count_outliers\n",
    "from utils.symmetry_scores import get_scores_full\n",
    "\n",
    "from transformers import AutoModel, BertModel, DistilBertModel"
   ]
  },
  {
   "cell_type": "code",
   "execution_count": 9,
   "metadata": {},
   "outputs": [],
   "source": [
    "dir = '../../../../_data/fig-symmetry-language-models/full-models/BERT-query-key.pkl'\n",
    "\n",
    "if os.path.isfile(dir):\n",
    "    with open(dir, 'rb') as file:\n",
    "        models = pickle.load(file)\n",
    "else: models = {}"
   ]
  },
  {
   "cell_type": "code",
   "execution_count": 10,
   "metadata": {},
   "outputs": [],
   "source": [
    "path = [\"encoder.layer[\", \"].attention.self.query.weight\", \"].attention.self.key.weight\"]\n",
    "\n",
    "'BERT tiny (l = 2, d = 128, h = 2 ; 4.40M parameters)'\n",
    "dh = 64\n",
    "l = 2\n",
    "d = 128\n",
    "h = d // dh\n",
    "\n",
    "model = AutoModel.from_pretrained(\"google/bert_uncased_L-2_H-128_A-2\")\n",
    "score_List= get_scores_full(d, l, h, dh, model, path)\n",
    "models['BERT-tiny'] = [l, d, h, dh, score_List]\n",
    "\n",
    "'BERT mini (l = 4, d = 256, h = 4 ; 11.3M parameters)'\n",
    "dh = 64\n",
    "l = 4\n",
    "d = 256\n",
    "h = d // dh\n",
    "\n",
    "model = AutoModel.from_pretrained(\"google/bert_uncased_L-4_H-256_A-4\")\n",
    "score_List= get_scores_full(d, l, h, dh, model, path)\n",
    "models['BERT-mini'] = [l, d, h, dh, score_List]\n",
    "\n",
    "'BERT small (l = 4, d = 512, h = 8 ; 29.1M parameters)'\n",
    "dh = 64\n",
    "l = 4\n",
    "d = 512\n",
    "h = d // dh\n",
    "\n",
    "model = AutoModel.from_pretrained(\"google/bert_uncased_L-4_H-512_A-8\")\n",
    "score_List= get_scores_full(d, l, h, dh, model, path)\n",
    "models['BERT-small'] = [l, d, h, dh, score_List]\n",
    "\n",
    "'BERT medium (l = 8, d = 512, h = 8 ; 41.7M parameters)'\n",
    "dh = 64\n",
    "l = 8\n",
    "d = 512\n",
    "h = d // dh\n",
    "\n",
    "model = AutoModel.from_pretrained(\"google/bert_uncased_L-8_H-512_A-8\")\n",
    "score_List= get_scores_full(d, l, h, dh, model, path)\n",
    "models['BERT-medium'] = [l, d, h, dh, score_List]\n",
    "\n",
    "'BERT base (l = 12, d = 768, h = 12 ; 110M parameters)'\n",
    "dh = 64\n",
    "l = 12\n",
    "d = 768\n",
    "h = d // dh\n",
    "\n",
    "model = BertModel.from_pretrained(\"bert-base-uncased\")\n",
    "score_List= get_scores_full(d, l, h, dh, model, path)\n",
    "models['BERT-base'] = [l, d, h, dh, score_List]\n",
    "\n",
    "'BERT large (l = 24, d = 1024, h = 16 ; 340M parameters)'\n",
    "dh = 64\n",
    "l = 24\n",
    "d = 1024\n",
    "h = d // dh\n",
    "\n",
    "model = BertModel.from_pretrained(\"bert-large-uncased\")\n",
    "score_List= get_scores_full(d, l, h, dh, model, path)\n",
    "models['BERT-large'] = [l, d, h, dh, score_List]\n",
    "\n",
    "path = [\"transformer.layer[\", \"].attention.q_lin.weight\", \"].attention.k_lin.weight\"]\n",
    "\n",
    "'DistillBERT base model (l = 6, d = 768, h = 12 ; tot num parameters 66M)'\n",
    "dh = 64\n",
    "l = 6\n",
    "d = 768\n",
    "h = d // dh\n",
    "model = DistilBertModel.from_pretrained(\"distilbert-base-uncased\")\n",
    "score_List= get_scores_full(d, l, h, dh, model, path)\n",
    "models['distill-BERT'] = [l, d, h, dh, score_List]"
   ]
  },
  {
   "cell_type": "code",
   "execution_count": 11,
   "metadata": {},
   "outputs": [],
   "source": [
    "'save'\n",
    "with open(dir, 'wb') as file:\n",
    "    pickle.dump(models, file)"
   ]
  },
  {
   "cell_type": "code",
   "execution_count": null,
   "metadata": {},
   "outputs": [],
   "source": [
    "from utils.visualization import symmetry_score_boxplot, symmetry_score_scatter, symmetry_score_outliers\n",
    "\n",
    "symmetry_score_boxplot(models)\n",
    "symmetry_score_scatter(models)\n",
    "symmetry_score_outliers(models)"
   ]
  }
 ],
 "metadata": {
  "kernelspec": {
   "display_name": "attention-geometry",
   "language": "python",
   "name": "python3"
  },
  "language_info": {
   "codemirror_mode": {
    "name": "ipython",
    "version": 3
   },
   "file_extension": ".py",
   "mimetype": "text/x-python",
   "name": "python",
   "nbconvert_exporter": "python",
   "pygments_lexer": "ipython3",
   "version": "3.11.5"
  }
 },
 "nbformat": 4,
 "nbformat_minor": 2
}
