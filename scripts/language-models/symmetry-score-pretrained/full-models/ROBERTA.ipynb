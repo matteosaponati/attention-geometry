{
 "cells": [
  {
   "cell_type": "code",
   "execution_count": 1,
   "metadata": {},
   "outputs": [
    {
     "name": "stderr",
     "output_type": "stream",
     "text": [
      "/opt/homebrew/Caskroom/miniconda/base/envs/attention-geometry/lib/python3.11/site-packages/tqdm/auto.py:21: TqdmWarning: IProgress not found. Please update jupyter and ipywidgets. See https://ipywidgets.readthedocs.io/en/stable/user_install.html\n",
      "  from .autonotebook import tqdm as notebook_tqdm\n"
     ]
    }
   ],
   "source": [
    "import pickle\n",
    "import os\n",
    "import numpy as np\n",
    "import matplotlib.pyplot as plt\n",
    "\n",
    "from utils.funs import count_outliers\n",
    "from utils.symmetry_scores import get_scores_full\n",
    "\n",
    "from transformers import RobertaModel, AutoModelForMaskedLM"
   ]
  },
  {
   "cell_type": "code",
   "execution_count": 2,
   "metadata": {},
   "outputs": [],
   "source": [
    "dir = '../../../../_data/fig-symmetry-language-models/full-models/ROBERTA-query-key.pkl'\n",
    "\n",
    "if os.path.isfile(dir):\n",
    "    with open(dir, 'rb') as file:\n",
    "        models = pickle.load(file)\n",
    "else: models = {}"
   ]
  },
  {
   "cell_type": "code",
   "execution_count": 3,
   "metadata": {},
   "outputs": [
    {
     "name": "stderr",
     "output_type": "stream",
     "text": [
      "Some weights of RobertaModel were not initialized from the model checkpoint at roberta-base and are newly initialized: ['roberta.pooler.dense.bias', 'roberta.pooler.dense.weight']\n",
      "You should probably TRAIN this model on a down-stream task to be able to use it for predictions and inference.\n",
      "Some weights of RobertaModel were not initialized from the model checkpoint at roberta-large and are newly initialized: ['roberta.pooler.dense.bias', 'roberta.pooler.dense.weight']\n",
      "You should probably TRAIN this model on a down-stream task to be able to use it for predictions and inference.\n",
      "Some weights of the model checkpoint at distilbert/distilroberta-base were not used when initializing RobertaForMaskedLM: ['roberta.pooler.dense.bias', 'roberta.pooler.dense.weight']\n",
      "- This IS expected if you are initializing RobertaForMaskedLM from the checkpoint of a model trained on another task or with another architecture (e.g. initializing a BertForSequenceClassification model from a BertForPreTraining model).\n",
      "- This IS NOT expected if you are initializing RobertaForMaskedLM from the checkpoint of a model that you expect to be exactly identical (initializing a BertForSequenceClassification model from a BertForSequenceClassification model).\n"
     ]
    }
   ],
   "source": [
    "path = [\"encoder.layer[\", \"].attention.self.query.weight\", \"].attention.self.key.weight\"]\n",
    "\n",
    "'ROBERTA base (l = 24, d = 1024, h = 16 ; 125M parameters)'\n",
    "dh = 64\n",
    "l = 12\n",
    "d = 768\n",
    "h = d // dh\n",
    "\n",
    "model = RobertaModel.from_pretrained('roberta-base')\n",
    "score_List= get_scores_full(d, l, h, dh, model, path)\n",
    "models['ROBERTA-base'] = [l, d, h, dh, score_List]\n",
    "\n",
    "'ROBERTA large (l = 24, d = 1024, h = 16 ; 355M parameters)'\n",
    "dh = 64\n",
    "l = 23\n",
    "d = 1024\n",
    "h = d // dh\n",
    "\n",
    "model = RobertaModel.from_pretrained('roberta-large')\n",
    "score_List= get_scores_full(d, l, h, dh, model, path)\n",
    "models['ROBERTA-large'] = [l, d, h, dh, score_List]\n",
    "\n",
    "path = [\"roberta.encoder.layer[\", \"].attention.self.query.weight\", \"].attention.self.key.weight\"]\n",
    "\n",
    "'DistillROBERTA base (l = 6, d = 768, h = 12 ; 82.2M parameters)'\n",
    "dh = 64\n",
    "l = 6\n",
    "d = 768\n",
    "h = d // dh\n",
    "\n",
    "model = AutoModelForMaskedLM.from_pretrained(\"distilbert/distilroberta-base\")\n",
    "score_List= get_scores_full(d, l, h, dh, model, path)\n",
    "models['distill-ROBERTA'] = [l, d, h, dh, score_List]"
   ]
  },
  {
   "cell_type": "code",
   "execution_count": 4,
   "metadata": {},
   "outputs": [],
   "source": [
    "'save'\n",
    "with open(dir, 'wb') as file:\n",
    "    pickle.dump(models, file)"
   ]
  },
  {
   "cell_type": "code",
   "execution_count": null,
   "metadata": {},
   "outputs": [],
   "source": [
    "from utils.visualization import symmetry_score_boxplot, symmetry_score_scatter, symmetry_score_outliers\n",
    "\n",
    "symmetry_score_boxplot(models)\n",
    "symmetry_score_scatter(models)\n",
    "symmetry_score_outliers(models)"
   ]
  }
 ],
 "metadata": {
  "kernelspec": {
   "display_name": "attention-geometry",
   "language": "python",
   "name": "python3"
  },
  "language_info": {
   "codemirror_mode": {
    "name": "ipython",
    "version": 3
   },
   "file_extension": ".py",
   "mimetype": "text/x-python",
   "name": "python",
   "nbconvert_exporter": "python",
   "pygments_lexer": "ipython3",
   "version": "3.11.5"
  }
 },
 "nbformat": 4,
 "nbformat_minor": 2
}
