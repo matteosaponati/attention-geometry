{
 "cells": [
  {
   "cell_type": "code",
   "execution_count": 2,
   "metadata": {},
   "outputs": [
    {
     "name": "stderr",
     "output_type": "stream",
     "text": [
      "/opt/homebrew/Caskroom/miniconda/base/envs/attention-geometry/lib/python3.11/site-packages/tqdm/auto.py:21: TqdmWarning: IProgress not found. Please update jupyter and ipywidgets. See https://ipywidgets.readthedocs.io/en/stable/user_install.html\n",
      "  from .autonotebook import tqdm as notebook_tqdm\n"
     ]
    }
   ],
   "source": [
    "import pickle\n",
    "import os\n",
    "import numpy as np\n",
    "import matplotlib.pyplot as plt\n",
    "\n",
    "from utils.funs import count_outliers\n",
    "from utils.symmetry_scores import get_scores_full\n",
    "\n",
    "from transformers import AlbertModel"
   ]
  },
  {
   "cell_type": "code",
   "execution_count": 3,
   "metadata": {},
   "outputs": [],
   "source": [
    "dir = '../../../../_data/fig-symmetry-language-models/full-models/ALBERT-query-key.pkl'\n",
    "\n",
    "if os.path.isfile(dir):\n",
    "    with open(dir, 'rb') as file:\n",
    "        models = pickle.load(file)\n",
    "else: models = {}"
   ]
  },
  {
   "cell_type": "code",
   "execution_count": 4,
   "metadata": {},
   "outputs": [],
   "source": [
    "path = [\"encoder.albert_layer_groups[\", \"].albert_layers[0].attention.query.weight\", \"].albert_layers[0].attention.key.weight\"]\n",
    "\n",
    "'ALBERT base model (l = 12, d = 768, h = 12 ; tot num parameters 11M)'\n",
    "dh = 64\n",
    "l = 1\n",
    "d = 768\n",
    "h = d // dh\n",
    "\n",
    "model = AlbertModel.from_pretrained(\"albert-base-v2\")\n",
    "score_List= get_scores_full(d, l, h, dh, model, path)\n",
    "models['ABERT-base'] = [l, d, h, dh, score_List]\n",
    "\n",
    "'ALBERT large model (l = 24, d = 1024, h = 16 ; tot num parameters 17M)'\n",
    "dh = 64\n",
    "l = 1\n",
    "d = 1024\n",
    "h = d // dh\n",
    "\n",
    "model = AlbertModel.from_pretrained(\"albert-large-v2\")\n",
    "score_List= get_scores_full(d, l, h, dh, model, path)\n",
    "models['ALBERT-large'] = [l, d, h, dh, score_List]\n",
    "\n",
    "'ALBERT xlarge model (l = 24, d = 2048, h = 16 ; tot num parameters 58M)'\n",
    "dh = 64\n",
    "l = 1\n",
    "d = 2048\n",
    "h = d // dh\n",
    "\n",
    "model = AlbertModel.from_pretrained(\"albert-xlarge-v2\")\n",
    "score_List= get_scores_full(d, l, h, dh, model, path)\n",
    "models['ALBERT-xlarge'] = [l, d, h, dh, score_List]\n",
    "\n",
    "'ALBERT xxlarge model (l = 12, d = 4096, h = 64 ; tot num parameters 223M)'\n",
    "dh = 64\n",
    "l = 1\n",
    "d = 4096\n",
    "h = d // dh\n",
    "\n",
    "model = AlbertModel.from_pretrained(\"albert-xxlarge-v2\")\n",
    "score_List= get_scores_full(d, l, h, dh, model, path)\n",
    "models['ALBERT-xxlarge'] = [l, d, h, dh, score_List]"
   ]
  },
  {
   "cell_type": "code",
   "execution_count": 5,
   "metadata": {},
   "outputs": [],
   "source": [
    "'save'\n",
    "with open(dir, 'wb') as file:\n",
    "    pickle.dump(models, file)"
   ]
  },
  {
   "cell_type": "code",
   "execution_count": null,
   "metadata": {},
   "outputs": [],
   "source": [
    "from utils.visualization import symmetry_score_boxplot, symmetry_score_scatter, symmetry_score_outliers\n",
    "\n",
    "symmetry_score_boxplot(models)\n",
    "symmetry_score_scatter(models)\n",
    "symmetry_score_outliers(models)"
   ]
  }
 ],
 "metadata": {
  "kernelspec": {
   "display_name": "attention-geometry",
   "language": "python",
   "name": "python3"
  },
  "language_info": {
   "codemirror_mode": {
    "name": "ipython",
    "version": 3
   },
   "file_extension": ".py",
   "mimetype": "text/x-python",
   "name": "python",
   "nbconvert_exporter": "python",
   "pygments_lexer": "ipython3",
   "version": "3.11.5"
  }
 },
 "nbformat": 4,
 "nbformat_minor": 2
}
