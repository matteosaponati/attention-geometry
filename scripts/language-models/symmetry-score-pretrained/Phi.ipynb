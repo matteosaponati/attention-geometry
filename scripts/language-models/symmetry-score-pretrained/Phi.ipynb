{
 "cells": [
  {
   "cell_type": "code",
   "execution_count": 1,
   "metadata": {},
   "outputs": [
    {
     "name": "stderr",
     "output_type": "stream",
     "text": [
      "/opt/homebrew/Caskroom/miniconda/base/envs/attention-geometry/lib/python3.11/site-packages/tqdm/auto.py:21: TqdmWarning: IProgress not found. Please update jupyter and ipywidgets. See https://ipywidgets.readthedocs.io/en/stable/user_install.html\n",
      "  from .autonotebook import tqdm as notebook_tqdm\n"
     ]
    }
   ],
   "source": [
    "import pickle\n",
    "import os\n",
    "import numpy as np\n",
    "import matplotlib.pyplot as plt\n",
    "\n",
    "from utils.funs import count_outliers\n",
    "from utils.symmetry_scores import get_scores\n",
    "\n",
    "from transformers import AutoModelForCausalLM"
   ]
  },
  {
   "cell_type": "code",
   "execution_count": 2,
   "metadata": {},
   "outputs": [],
   "source": [
    "dir = '../../../_data/fig-symmetry-language-models/Phi-query-key.pkl'\n",
    "\n",
    "if os.path.isfile(dir):\n",
    "    with open(dir, 'rb') as file:\n",
    "        models = pickle.load(file)\n",
    "else: models = {}"
   ]
  },
  {
   "cell_type": "code",
   "execution_count": 3,
   "metadata": {},
   "outputs": [],
   "source": [
    "path = [\"model.layers[\", \"].self_attn.q_proj.weight\", \"].self_attn.k_proj.weight\"]\n",
    "\n",
    "'Phi 1 model (tot num parameters 1.3B)'\n",
    "dh = 64\n",
    "l = 24\n",
    "d = 2048\n",
    "h = d // dh\n",
    "\n",
    "model = AutoModelForCausalLM.from_pretrained(\"microsoft/phi-1\", torch_dtype=\"auto\")\n",
    "score_List= get_scores(d, l, h, dh, model, path)\n",
    "models['Phi-1'] = [l, d, h, dh, score_List]\n",
    "\n",
    "'Phi 1.5 model (tot num parameters 1.3B)'\n",
    "\n",
    "model = AutoModelForCausalLM.from_pretrained(\"microsoft/phi-1_5\", torch_dtype=\"auto\")\n",
    "score_List= get_scores(d, l, h, dh, model, path)\n",
    "models['Phi-1.5'] = [l, d, h, dh, score_List]\n",
    "\n",
    "# 'Phi 2 model (tot num parameters 2.7B)'\n",
    "# dh = 64\n",
    "# l = 32\n",
    "# d = 2560\n",
    "# h = d // dh\n",
    "\n",
    "# model = AutoModelForCausalLM.from_pretrained(\"microsoft/phi-2\", torch_dtype=\"auto\", trust_remote_code=True)\n",
    "# score_List= get_scores(d,l,h,dh,model)\n",
    "# models['Phi-2.'] = [l, d, h, dh, score_List]\n"
   ]
  },
  {
   "cell_type": "code",
   "execution_count": 4,
   "metadata": {},
   "outputs": [],
   "source": [
    "'save'\n",
    "with open(dir, 'wb') as file:\n",
    "    pickle.dump(models, file)"
   ]
  },
  {
   "cell_type": "code",
   "execution_count": null,
   "metadata": {},
   "outputs": [],
   "source": [
    "from utils.visualization import symmetry_score_boxplot, symmetry_score_scatter, symmetry_score_outliers\n",
    "\n",
    "symmetry_score_boxplot(models)\n",
    "symmetry_score_scatter(models)\n",
    "symmetry_score_outliers(models)"
   ]
  }
 ],
 "metadata": {
  "kernelspec": {
   "display_name": "attention-geometry",
   "language": "python",
   "name": "python3"
  },
  "language_info": {
   "codemirror_mode": {
    "name": "ipython",
    "version": 3
   },
   "file_extension": ".py",
   "mimetype": "text/x-python",
   "name": "python",
   "nbconvert_exporter": "python",
   "pygments_lexer": "ipython3",
   "version": "3.11.5"
  }
 },
 "nbformat": 4,
 "nbformat_minor": 2
}
