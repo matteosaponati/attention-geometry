{
 "cells": [
  {
   "cell_type": "code",
   "execution_count": 1,
   "metadata": {},
   "outputs": [
    {
     "name": "stderr",
     "output_type": "stream",
     "text": [
      "/opt/homebrew/Caskroom/miniconda/base/envs/attention-geometry/lib/python3.11/site-packages/tqdm/auto.py:21: TqdmWarning: IProgress not found. Please update jupyter and ipywidgets. See https://ipywidgets.readthedocs.io/en/stable/user_install.html\n",
      "  from .autonotebook import tqdm as notebook_tqdm\n"
     ]
    }
   ],
   "source": [
    "import pickle\n",
    "import os\n",
    "import numpy as np\n",
    "import matplotlib.pyplot as plt\n",
    "\n",
    "from utils.funs import count_outliers\n",
    "from utils.symmetry_scores import get_scores\n",
    "\n",
    "from transformers import OpenAIGPTModel, GPT2Model, AutoModelForCausalLM"
   ]
  },
  {
   "cell_type": "code",
   "execution_count": 2,
   "metadata": {},
   "outputs": [],
   "source": [
    "dir = '../../../_data/fig-symmetry-language-models/GPT-query-key.pkl'\n",
    "\n",
    "if os.path.isfile(dir):\n",
    "    with open(dir, 'rb') as file:\n",
    "        models = pickle.load(file)\n",
    "else: models = {}"
   ]
  },
  {
   "cell_type": "code",
   "execution_count": 5,
   "metadata": {},
   "outputs": [],
   "source": [
    "path = [\"h[\", \"].attn.c_attn.weight\"]\n",
    "\n",
    "'GPT 1 (l = 12, d = 768, h = 12 ; 110M parameters)'\n",
    "dh = 64\n",
    "l = 12\n",
    "d = 768\n",
    "h = d // dh\n",
    "\n",
    "model = OpenAIGPTModel.from_pretrained(\"openai-gpt\")\n",
    "score_List= get_scores(d, l, h, dh, model, path, model_type = \"GPT\")\n",
    "models['gpt1'] = [l, d, h, dh, score_List]\n",
    "\n",
    "'GPT2 (l = 12, d = 768, h = 12 ; 117M parameters)'\n",
    "dh = 64\n",
    "l = 12\n",
    "d = 768\n",
    "h = d // dh\n",
    "\n",
    "model = GPT2Model.from_pretrained('gpt2')\n",
    "score_List= get_scores(d, l, h, dh, model, path, model_type = \"GPT\")\n",
    "models['gpt2'] = [l, d, h, dh, score_List]\n",
    "\n",
    "'GPT2 medium (l = 24, d = 1024, h = 16 ; 345M parameters)'\n",
    "dh = 64\n",
    "l = 24\n",
    "d = 1024\n",
    "h = d // dh\n",
    "\n",
    "model = GPT2Model.from_pretrained('gpt2-medium')\n",
    "score_List= get_scores(d, l, h, dh, model, path, model_type = \"GPT\")\n",
    "models['gpt2-medium'] = [l, d, h, dh, score_List]\n",
    "\n",
    "'GPT2 large (l = 36, d = 1280, h = 20 ; 774M parameters)'\n",
    "dh = 64\n",
    "l = 36\n",
    "d = 1280\n",
    "h = d // dh\n",
    "\n",
    "model = GPT2Model.from_pretrained('gpt2-large')\n",
    "score_List= get_scores(d, l, h, dh, model, path, model_type = \"GPT\")\n",
    "models['gpt2-large'] = [l, d, h, dh, score_List]\n",
    "\n",
    "'GPT2 xl (l = 48, d = 1600, h = 25 ; 1558M parameters)'\n",
    "dh = 64\n",
    "l = 48\n",
    "d = 1600\n",
    "h = d // dh\n",
    "\n",
    "model = GPT2Model.from_pretrained('gpt2-xl')\n",
    "score_List= get_scores(d, l, h, dh, model, path, model_type = \"GPT\")\n",
    "models['gpt2-xl'] = [l, d, h, dh, score_List]\n",
    "\n",
    "path = [\"transformer.h[\", \"].attn.c_attn.weight\"]\n",
    "\n",
    "'DistillGPT2 base model (l = 6, d = 768, h = 12 ; tot num parameters 82M)'\n",
    "dh = 64\n",
    "l = 6\n",
    "d = 768\n",
    "h = d // dh\n",
    "\n",
    "model = AutoModelForCausalLM.from_pretrained(\"distilbert/distilgpt2\")\n",
    "score_List= get_scores(d, l, h, dh, model, path, model_type = \"GPT\")\n",
    "models['distill-gpt2'] = [l, d, h, dh, score_List]"
   ]
  },
  {
   "cell_type": "code",
   "execution_count": 6,
   "metadata": {},
   "outputs": [],
   "source": [
    "'save'\n",
    "with open(dir, 'wb') as file:\n",
    "    pickle.dump(models, file)"
   ]
  },
  {
   "cell_type": "code",
   "execution_count": null,
   "metadata": {},
   "outputs": [],
   "source": [
    "from utils.visualization import symmetry_score_boxplot, symmetry_score_scatter, symmetry_score_outliers\n",
    "\n",
    "symmetry_score_boxplot(models)\n",
    "symmetry_score_scatter(models)\n",
    "symmetry_score_outliers(models)"
   ]
  }
 ],
 "metadata": {
  "kernelspec": {
   "display_name": "attention-geometry",
   "language": "python",
   "name": "python3"
  },
  "language_info": {
   "codemirror_mode": {
    "name": "ipython",
    "version": 3
   },
   "file_extension": ".py",
   "mimetype": "text/x-python",
   "name": "python",
   "nbconvert_exporter": "python",
   "pygments_lexer": "ipython3",
   "version": "3.11.5"
  }
 },
 "nbformat": 4,
 "nbformat_minor": 2
}
