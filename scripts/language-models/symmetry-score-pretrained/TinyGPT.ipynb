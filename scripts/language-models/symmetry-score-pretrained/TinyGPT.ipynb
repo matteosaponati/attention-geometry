{
 "cells": [
  {
   "cell_type": "code",
   "execution_count": 1,
   "metadata": {},
   "outputs": [
    {
     "name": "stderr",
     "output_type": "stream",
     "text": [
      "/opt/homebrew/Caskroom/miniconda/base/envs/attention-geometry/lib/python3.11/site-packages/tqdm/auto.py:21: TqdmWarning: IProgress not found. Please update jupyter and ipywidgets. See https://ipywidgets.readthedocs.io/en/stable/user_install.html\n",
      "  from .autonotebook import tqdm as notebook_tqdm\n"
     ]
    }
   ],
   "source": [
    "import pickle\n",
    "import os\n",
    "import numpy as np\n",
    "import matplotlib.pyplot as plt\n",
    "\n",
    "from utils.funs import count_outliers\n",
    "from utils.symmetry_scores import get_scores\n",
    "\n",
    "from transformers import AutoModelForCausalLM"
   ]
  },
  {
   "cell_type": "code",
   "execution_count": 2,
   "metadata": {},
   "outputs": [],
   "source": [
    "dir = '../../../_data/fig-symmetry-language-models/TinyGPT-query-key.pkl'\n",
    "\n",
    "if os.path.isfile(dir):\n",
    "    with open(dir, 'rb') as file:\n",
    "        models = pickle.load(file)\n",
    "else: models = {}"
   ]
  },
  {
   "cell_type": "code",
   "execution_count": 4,
   "metadata": {},
   "outputs": [],
   "source": [
    "path = [\"transformer.h[\", \"].attn.attention.q_proj.weight\", \"].attn.attention.k_proj.weight\"]\n",
    "\n",
    "'TinyGPT 1m (l = 8, d = 64, h = 1 ; 1M parameters)'\n",
    "dh = 64\n",
    "l = 8\n",
    "d = 64\n",
    "h = d // dh\n",
    "\n",
    "model = AutoModelForCausalLM.from_pretrained(\"roneneldan/TinyStories-1M\")\n",
    "score_List= get_scores(d, l, h, dh, model, path)\n",
    "models['TinyGPT-1m'] = [l, d, h, dh, score_List]\n",
    "\n",
    "'TinyGPT 3m (l = 8, d = 64, h = 2 ; 3M parameters)'\n",
    "dh = 64\n",
    "l = 8\n",
    "d = 128\n",
    "h = d // dh\n",
    "\n",
    "model = AutoModelForCausalLM.from_pretrained(\"roneneldan/TinyStories-3M\")\n",
    "score_List= get_scores(d, l, h, dh, model, path)\n",
    "models['TinyGPT-3m'] = [l, d, h, dh, score_List]\n",
    "\n",
    "'TinyGPT 8m (l = 8, d = 64, h = 4 ; 8M parameters)'\n",
    "dh = 64\n",
    "l = 8\n",
    "d = 256\n",
    "h = d // dh\n",
    "\n",
    "model = AutoModelForCausalLM.from_pretrained(\"roneneldan/TinyStories-8M\")\n",
    "score_List= get_scores(d, l, h, dh, model, path)\n",
    "models['TinyGPT-8m'] = [l, d, h, dh, score_List]\n",
    "\n",
    "'TinyGPT 1layer 21M (l = 1, d = 1024 h = 16 ; 21M parameters)'\n",
    "dh = 64\n",
    "l = 1\n",
    "d = 1024\n",
    "h = d // dh\n",
    "\n",
    "model = AutoModelForCausalLM.from_pretrained(\"roneneldan/TinyStories-1Layer-21M\")\n",
    "score_List= get_scores(d, l, h, dh, model, path)\n",
    "models['TinyGPT-21m'] = [l, d, h, dh, score_List]\n",
    "\n",
    "'TinyGPT 28M (l = 8, d = 512 h = 8 ; 28M parameters)'\n",
    "dh = 64\n",
    "l = 8\n",
    "d = 512\n",
    "h = d // dh\n",
    "\n",
    "model = AutoModelForCausalLM.from_pretrained(\"roneneldan/TinyStories-28M\")\n",
    "score_List= get_scores(d, l, h, dh, model, path)\n",
    "models['TinyGPT-28m'] = [l, d, h, dh, score_List]"
   ]
  },
  {
   "cell_type": "code",
   "execution_count": 5,
   "metadata": {},
   "outputs": [],
   "source": [
    "'save'\n",
    "with open(dir, 'wb') as file:\n",
    "    pickle.dump(models, file)"
   ]
  },
  {
   "cell_type": "code",
   "execution_count": null,
   "metadata": {},
   "outputs": [],
   "source": [
    "from utils.visualization import symmetry_score_boxplot, symmetry_score_scatter, symmetry_score_outliers\n",
    "\n",
    "symmetry_score_boxplot(models)\n",
    "symmetry_score_scatter(models)\n",
    "symmetry_score_outliers(models)"
   ]
  }
 ],
 "metadata": {
  "kernelspec": {
   "display_name": "attention-geometry",
   "language": "python",
   "name": "python3"
  },
  "language_info": {
   "codemirror_mode": {
    "name": "ipython",
    "version": 3
   },
   "file_extension": ".py",
   "mimetype": "text/x-python",
   "name": "python",
   "nbconvert_exporter": "python",
   "pygments_lexer": "ipython3",
   "version": "3.11.5"
  }
 },
 "nbformat": 4,
 "nbformat_minor": 2
}
