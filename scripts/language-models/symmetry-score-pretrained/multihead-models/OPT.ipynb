{
 "cells": [
  {
   "cell_type": "code",
   "execution_count": 1,
   "metadata": {},
   "outputs": [
    {
     "name": "stderr",
     "output_type": "stream",
     "text": [
      "/opt/homebrew/Caskroom/miniconda/base/envs/attention-geometry/lib/python3.11/site-packages/tqdm/auto.py:21: TqdmWarning: IProgress not found. Please update jupyter and ipywidgets. See https://ipywidgets.readthedocs.io/en/stable/user_install.html\n",
      "  from .autonotebook import tqdm as notebook_tqdm\n"
     ]
    }
   ],
   "source": [
    "import pickle\n",
    "import os\n",
    "import numpy as np\n",
    "import matplotlib.pyplot as plt\n",
    "\n",
    "from utils.funs import count_outliers\n",
    "from utils.symmetry_scores import get_scores\n",
    "\n",
    "from transformers import AutoModelForCausalLM"
   ]
  },
  {
   "cell_type": "code",
   "execution_count": 3,
   "metadata": {},
   "outputs": [],
   "source": [
    "dir = '../../../../_data/fig-symmetry-language-models/OPT-query-key.pkl'\n",
    "\n",
    "if os.path.isfile(dir):\n",
    "    with open(dir, 'rb') as file:\n",
    "        models = pickle.load(file)\n",
    "else: models = {}"
   ]
  },
  {
   "cell_type": "code",
   "execution_count": 4,
   "metadata": {},
   "outputs": [
    {
     "name": "stderr",
     "output_type": "stream",
     "text": [
      "/opt/homebrew/Caskroom/miniconda/base/envs/attention-geometry/lib/python3.11/site-packages/torch/_utils.py:831: UserWarning: TypedStorage is deprecated. It will be removed in the future and UntypedStorage will be the only storage class. This should only matter to you if you are using storages directly.  To access UntypedStorage directly, use tensor.untyped_storage() instead of tensor.storage()\n",
      "  return self.fget.__get__(instance, owner)()\n"
     ]
    }
   ],
   "source": [
    "## missing 30B, 66B, 175B models for memory issue\n",
    "\n",
    "path = [\"model.decoder.layers[\", \"].self_attn.q_proj.weight\", \"].self_attn.k_proj.weight\"]\n",
    "\n",
    "'OPT 125m (l = 12, d = 768, h = 12 ; 125M parameters)'\n",
    "dh = 64\n",
    "l = 12\n",
    "d = 768\n",
    "h = d // dh\n",
    "\n",
    "model = AutoModelForCausalLM.from_pretrained(\"facebook/opt-125m\")\n",
    "score_List= get_scores(d, l, h, dh, model, path)\n",
    "models['OPT-125m'] = [l, d, h, dh, score_List]\n",
    "\n",
    "'OPT-350m (l = 24, d = 1024, h = 16 ; 350M parameters)'\n",
    "dh = 64\n",
    "l = 24\n",
    "d = 1024\n",
    "h = d // dh\n",
    "\n",
    "model = AutoModelForCausalLM.from_pretrained(\"facebook/opt-350m\")\n",
    "score_List= get_scores(d, l, h, dh, model, path)\n",
    "models['OPT-350m'] = [l, d, h, dh, score_List]\n",
    "\n",
    "'OPT-1.3b (l = 24, d = 2048, h = 32 ; 1.3B parameters)'\n",
    "dh = 64\n",
    "l = 24\n",
    "d = 2048\n",
    "h = d // dh\n",
    "\n",
    "model = AutoModelForCausalLM.from_pretrained(\"facebook/opt-1.3b\")\n",
    "score_List= get_scores(d, l, h, dh, model, path)\n",
    "models['OPT-1.3b'] = [l, d, h, dh, score_List]\n",
    "\n",
    "'OPT-2.7b (l = 32, d = 2560, h = 32 ; 2.7B parameters)'\n",
    "dh = 80\n",
    "l = 32\n",
    "d = 2560\n",
    "h = d // dh\n",
    "\n",
    "model = AutoModelForCausalLM.from_pretrained(\"facebook/opt-2.7b\")\n",
    "score_List= get_scores(d, l, h, dh, model, path)\n",
    "models['OPT-2.7b'] = [l, d, h, dh, score_List]\n",
    "\n",
    "# 'OPT-6.7b (l = 32, d = 4096, h = 32 ; 6.7B parameters)'\n",
    "# dh = 128\n",
    "# l = 32\n",
    "# d = 4096\n",
    "# h = d // dh\n",
    "\n",
    "# model = AutoModelForCausalLM.from_pretrained(\"facebook/opt-6.7b\")\n",
    "# score_List= get_scores(d, l, h, dh, model, path)\n",
    "# models['OPT-6.7b'] = [l, d, h, dh, score_List]\n",
    "\n",
    "# 'OPT-13b (l = 40, d = 5120, h = 40 ; 13B parameters)'\n",
    "# dh = 128\n",
    "# l = 40\n",
    "# d = 5120\n",
    "# h = d // dh\n",
    "\n",
    "# model = AutoModelForCausalLM.from_pretrained(\"facebook/opt-13b\")\n",
    "# score_List= get_scores(d, l, h, dh, model, path)\n",
    "# models['OPT-13b'] = [l, d, h, dh, score_List]"
   ]
  },
  {
   "cell_type": "code",
   "execution_count": 5,
   "metadata": {},
   "outputs": [],
   "source": [
    "'save'\n",
    "with open(dir, 'wb') as file:\n",
    "    pickle.dump(models, file)"
   ]
  },
  {
   "cell_type": "code",
   "execution_count": null,
   "metadata": {},
   "outputs": [],
   "source": [
    "from utils.visualization import symmetry_score_boxplot, symmetry_score_scatter, symmetry_score_outliers\n",
    "\n",
    "symmetry_score_boxplot(models)\n",
    "symmetry_score_scatter(models)\n",
    "symmetry_score_outliers(models)"
   ]
  }
 ],
 "metadata": {
  "kernelspec": {
   "display_name": "attention-geometry",
   "language": "python",
   "name": "python3"
  },
  "language_info": {
   "codemirror_mode": {
    "name": "ipython",
    "version": 3
   },
   "file_extension": ".py",
   "mimetype": "text/x-python",
   "name": "python",
   "nbconvert_exporter": "python",
   "pygments_lexer": "ipython3",
   "version": "3.11.5"
  }
 },
 "nbformat": 4,
 "nbformat_minor": 2
}
