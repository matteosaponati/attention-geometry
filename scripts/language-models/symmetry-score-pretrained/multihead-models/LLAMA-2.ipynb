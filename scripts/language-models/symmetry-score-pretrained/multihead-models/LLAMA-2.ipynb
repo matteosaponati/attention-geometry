{
 "cells": [
  {
   "cell_type": "code",
   "execution_count": 1,
   "metadata": {},
   "outputs": [
    {
     "name": "stderr",
     "output_type": "stream",
     "text": [
      "/opt/homebrew/Caskroom/miniconda/base/envs/attention-geometry/lib/python3.11/site-packages/tqdm/auto.py:21: TqdmWarning: IProgress not found. Please update jupyter and ipywidgets. See https://ipywidgets.readthedocs.io/en/stable/user_install.html\n",
      "  from .autonotebook import tqdm as notebook_tqdm\n"
     ]
    }
   ],
   "source": [
    "import pickle\n",
    "import os\n",
    "import numpy as np\n",
    "import matplotlib.pyplot as plt\n",
    "\n",
    "from utils.funs import count_outliers\n",
    "from utils.symmetry_scores import get_scores\n",
    "\n",
    "from transformers import AutoModelForCausalLM"
   ]
  },
  {
   "cell_type": "code",
   "execution_count": 2,
   "metadata": {},
   "outputs": [],
   "source": [
    "dir = '../../../../_data/fig-symmetry-language-models/LLAMA2-query-key.pkl'\n",
    "\n",
    "if os.path.isfile(dir):\n",
    "    with open(dir, 'rb') as file:\n",
    "        models = pickle.load(file)\n",
    "else: models = {}"
   ]
  },
  {
   "cell_type": "code",
   "execution_count": 4,
   "metadata": {},
   "outputs": [
    {
     "name": "stderr",
     "output_type": "stream",
     "text": [
      "Loading checkpoint shards: 100%|██████████| 2/2 [00:27<00:00, 13.64s/it]\n",
      "Downloading shards: 100%|██████████| 3/3 [00:00<00:00,  6.53it/s]\n",
      "Loading checkpoint shards:  67%|██████▋   | 2/3 [00:42<00:21, 21.08s/it]"
     ]
    },
    {
     "ename": "",
     "evalue": "",
     "output_type": "error",
     "traceback": [
      "\u001b[1;31mThe Kernel crashed while executing code in the current cell or a previous cell. \n",
      "\u001b[1;31mPlease review the code in the cell(s) to identify a possible cause of the failure. \n",
      "\u001b[1;31mClick <a href='https://aka.ms/vscodeJupyterKernelCrash'>here</a> for more info. \n",
      "\u001b[1;31mView Jupyter <a href='command:jupyter.viewOutput'>log</a> for further details."
     ]
    }
   ],
   "source": [
    "## missing LLAMA 2 70B for memory requirement reasons + presence of Grouped Query Attention (GQA)\n",
    "\n",
    "path = [\"model.layers[\", \"].self_attn.q_proj.weight\", \"].self_attn.k_proj.weight\"]\n",
    "\n",
    "'LLAMA 2 7b (l = 32, d = 4096, h = 32 ; tot num parameters 7B)'\n",
    "dh = 128\n",
    "l = 32\n",
    "d = 4096\n",
    "h = d // dh\n",
    "\n",
    "model = AutoModelForCausalLM.from_pretrained(\"meta-llama/Llama-2-7b-hf\")\n",
    "score_List= get_scores(d, l, h, dh, model, path)\n",
    "models['LLAMA-7b'] = [l, d, h, dh, score_List]\n",
    "\n",
    "'LLAMA 2 13b (l = 32, d = 4096, h = 32 ; tot num parameters 13B)'\n",
    "dh = 128\n",
    "l = 40\n",
    "d = 5120\n",
    "h = d // dh\n",
    "\n",
    "model = AutoModelForCausalLM.from_pretrained(\"meta-llama/Llama-2-13b-hf\")\n",
    "score_List= get_scores(d, l, h, dh, model, path)\n",
    "models['LLAMA-13b'] = [l, d, h, dh, score_List]\n",
    "\n",
    "'LLAMA 2 7b chat (l = 32, d = 4096, h = 32 ; tot num parameters 7B)'\n",
    "dh = 128\n",
    "l = 32\n",
    "d = 4096\n",
    "h = d // dh\n",
    "\n",
    "model = AutoModelForCausalLM.from_pretrained(\"meta-llama/Llama-2-7b-hf\")\n",
    "score_List= get_scores(d, l, h, dh, model, path)\n",
    "models['LLAMA-7b-chat'] = [l, d, h, dh, score_List]\n",
    "\n",
    "'LLAMA 2 7b chat (l = 32, d = 4096, h = 32 ; tot num parameters 13B)'\n",
    "dh = 128\n",
    "l = 40\n",
    "d = 5120\n",
    "h = d // dh\n",
    "\n",
    "model = AutoModelForCausalLM.from_pretrained(\"meta-llama/Llama-2-13b-hf\")\n",
    "score_List= get_scores(d, l, h, dh, model, path)\n",
    "models['LLAMA-13b-chat'] = [l, d, h, dh, score_List]"
   ]
  },
  {
   "cell_type": "code",
   "execution_count": 4,
   "metadata": {},
   "outputs": [],
   "source": [
    "'save'\n",
    "with open(dir, 'wb') as file:\n",
    "    pickle.dump(models, file)"
   ]
  },
  {
   "cell_type": "code",
   "execution_count": null,
   "metadata": {},
   "outputs": [],
   "source": [
    "from utils.visualization import symmetry_score_boxplot, symmetry_score_scatter, symmetry_score_outliers\n",
    "\n",
    "symmetry_score_boxplot(models)\n",
    "symmetry_score_scatter(models)\n",
    "symmetry_score_outliers(models)"
   ]
  }
 ],
 "metadata": {
  "kernelspec": {
   "display_name": "attention-geometry",
   "language": "python",
   "name": "python3"
  },
  "language_info": {
   "codemirror_mode": {
    "name": "ipython",
    "version": 3
   },
   "file_extension": ".py",
   "mimetype": "text/x-python",
   "name": "python",
   "nbconvert_exporter": "python",
   "pygments_lexer": "ipython3",
   "version": "3.11.5"
  }
 },
 "nbformat": 4,
 "nbformat_minor": 2
}
