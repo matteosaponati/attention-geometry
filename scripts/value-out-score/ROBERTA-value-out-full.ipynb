{
 "cells": [
  {
   "cell_type": "code",
   "execution_count": 1,
   "metadata": {},
   "outputs": [
    {
     "name": "stderr",
     "output_type": "stream",
     "text": [
      "/opt/homebrew/Caskroom/miniconda/base/envs/attention-geometry/lib/python3.11/site-packages/tqdm/auto.py:21: TqdmWarning: IProgress not found. Please update jupyter and ipywidgets. See https://ipywidgets.readthedocs.io/en/stable/user_install.html\n",
      "  from .autonotebook import tqdm as notebook_tqdm\n"
     ]
    }
   ],
   "source": [
    "import pickle\n",
    "import os\n",
    "import numpy as np\n",
    "import matplotlib.pyplot as plt\n",
    "\n",
    "from utils.funs import scores\n",
    "\n",
    "from transformers import RobertaModel, AutoModelForMaskedLM"
   ]
  },
  {
   "cell_type": "code",
   "execution_count": 5,
   "metadata": {},
   "outputs": [],
   "source": [
    "def getscoresROBERTA(l,model):\n",
    "    \"\"\"\n",
    "    Let Q and K be\n",
    "    Q = X @ W_q ; K = X @ W_k\n",
    "\n",
    "    it follows that the dot product between queries and keys is \n",
    "    Q @ K^T = X @ (W_q @ W_k^T) @ X^T = X @ M @ X^T \n",
    "\n",
    "    where M is a square matrix \\in R^{d,d}, that can be decomposed into its\n",
    "    symmetric and skew-symmetric part S and N, respectively,\n",
    "    M = 1/2 * (M + M^T) + 1/2 * (M - M^T) = S + N\n",
    "\n",
    "    important: nn.Linear.weight returns the learnable weights of the module as\n",
    "    (out_features,in_features), then we can access the matrix W_q or \n",
    "    W_k as nn.Linear.weight^T\n",
    "\n",
    "    Args:\n",
    "        - l (int) : total number of layers\n",
    "        - model () : full model.\n",
    "\n",
    "    Returns:\n",
    "        - SList (numpy ndarray) : List of Symmetric (S) scores.\n",
    "        - NList (numpy ndarray) : List of Skew-symmetric (N) scores.\n",
    "    \"\"\"\n",
    "\n",
    "    SList = np.zeros(l)\n",
    "    NList = np.zeros(l)\n",
    "    \n",
    "    # retrieve all BertLayer instances (the encoder in each layer)\n",
    "    layers = model.encoder.layer\n",
    "\n",
    "    for i, layer in enumerate(layers):\n",
    "\n",
    "        # access self-attention module within layer\n",
    "        self_attention = layer.attention\n",
    "\n",
    "        # access W_q and W_k by transposing the weight matrix\n",
    "        Wv = self_attention.self.value._parameters[\"weight\"].T.detach().numpy()\n",
    "        Wo = self_attention.output.dense._parameters[\"weight\"].T.detach().numpy()\n",
    "        \n",
    "        # calculate the association matrix M\n",
    "        M = Wv @ Wo\n",
    "        # compute symmetry and skew-symmetry scores\n",
    "        S, N = scores(M)\n",
    "        SList[i], NList[i] = S, N\n",
    "\n",
    "    return  SList, NList\n",
    "\n",
    "def getscoresDistillROBERTA(l,model):\n",
    "    \"\"\" \n",
    "    Args:\n",
    "        - l (int) : total number of layers\n",
    "        - model () : full model.\n",
    "\n",
    "    Returns:\n",
    "        - SList (numpy ndarray) : List of Symmetric (S) scores.\n",
    "        - NList (numpy ndarray) : List of Skew-symmetric (N) scores.\n",
    "    \"\"\"\n",
    "\n",
    "    SList = np.zeros(l)\n",
    "    NList = np.zeros(l)\n",
    "\n",
    "    # retrieve all BertLayer instances (the encoder in each layer)\n",
    "    layers = model.roberta.encoder.layer\n",
    "\n",
    "    for i, layer in enumerate(layers):\n",
    "\n",
    "        # access self-attention module within layer\n",
    "        self_attention = layer.attention\n",
    "\n",
    "        # access W_q and W_k by transposing the weight matrix \n",
    "        Wv = self_attention.self.value._parameters[\"weight\"].T.detach().numpy()\n",
    "        Wo = self_attention.output.dense._parameters[\"weight\"].T.detach().numpy()\n",
    "\n",
    "        # calculate the association matrix M\n",
    "        M = Wv @ Wo\n",
    "        # compute symmetry and skew-symmetry scores\n",
    "        S, N = scores(M)\n",
    "        SList[i], NList[i] = S, N\n",
    "\n",
    "    return  SList, NList"
   ]
  },
  {
   "cell_type": "code",
   "execution_count": 6,
   "metadata": {},
   "outputs": [],
   "source": [
    "\"\"\"\n",
    "- KEY (str): model name\n",
    "- VALUES (list): [layers (int), \n",
    "                  embedding dim (int), \n",
    "                  heads (int), \n",
    "                  head dim (int), \n",
    "                  S scores, \n",
    "                  N scores]\n",
    "\"\"\"\n",
    "\n",
    "if os.path.isfile('../../_data/fig_scores/ROBERTA-value-out-full.pkl'):\n",
    "    with open('../../_data/fig_scores/ROBERTA-value-out-full.pkl', 'rb') as file:\n",
    "        models = pickle.load(file)\n",
    "else: models = {}"
   ]
  },
  {
   "cell_type": "code",
   "execution_count": 7,
   "metadata": {},
   "outputs": [
    {
     "name": "stderr",
     "output_type": "stream",
     "text": [
      "Some weights of RobertaModel were not initialized from the model checkpoint at roberta-base and are newly initialized: ['roberta.pooler.dense.weight', 'roberta.pooler.dense.bias']\n",
      "You should probably TRAIN this model on a down-stream task to be able to use it for predictions and inference.\n",
      "Some weights of RobertaModel were not initialized from the model checkpoint at roberta-large and are newly initialized: ['roberta.pooler.dense.weight', 'roberta.pooler.dense.bias']\n",
      "You should probably TRAIN this model on a down-stream task to be able to use it for predictions and inference.\n",
      "Some weights of the model checkpoint at distilbert/distilroberta-base were not used when initializing RobertaForMaskedLM: ['roberta.pooler.dense.weight', 'roberta.pooler.dense.bias']\n",
      "- This IS expected if you are initializing RobertaForMaskedLM from the checkpoint of a model trained on another task or with another architecture (e.g. initializing a BertForSequenceClassification model from a BertForPreTraining model).\n",
      "- This IS NOT expected if you are initializing RobertaForMaskedLM from the checkpoint of a model that you expect to be exactly identical (initializing a BertForSequenceClassification model from a BertForSequenceClassification model).\n"
     ]
    }
   ],
   "source": [
    "\"\"\" \n",
    "BERT models \n",
    " - MODEL: Bidirectional, Encoder-only Transformer\n",
    " - DATASETS: BookCorpus & English Wikipedia\n",
    " - OBJECTIVES: Masked Language Modeling (MLM), Next Sentence Prediction (NSP)\n",
    " - METRICS: perplexity, cross-entropy\n",
    "\n",
    " MLM: randomly masked some words in the sentence, predict masked words with cross-entropy \n",
    " over the vocabulary \n",
    " NSP: \n",
    "\n",
    "The idea is that these models have a better understanding of context, where each word is represented as a \n",
    "linear combination of all the other words in the sentence, bi-directionally.\n",
    "\"\"\"\n",
    "dh = 64\n",
    "\n",
    "'ROBERTA base (l = 24, d = 1024, h = 16 ; 340M parameters)'\n",
    "l = 12\n",
    "d = 768\n",
    "h = d // dh\n",
    "model = RobertaModel.from_pretrained('roberta-base')\n",
    "S, N = getscoresROBERTA(l,model)\n",
    "models['ROBERTAbase'] = [l,d,h,dh,S,N]\n",
    "\n",
    "'ROBERTA large (l = 24, d = 1024, h = 16 ; 340M parameters)'\n",
    "l = 24\n",
    "d = 1024\n",
    "h = d // dh\n",
    "model = RobertaModel.from_pretrained('roberta-large')\n",
    "S, N = getscoresROBERTA(l,model)\n",
    "models['ROBERTAlarge'] = [l,d,h,dh,S,N]\n",
    "\n",
    "'DistillROBERTA base (l = 6, d = 768, h = 12 ; tot num parameters 82M)'\n",
    "l = 6\n",
    "d = 768\n",
    "h = d // dh\n",
    "model = AutoModelForMaskedLM.from_pretrained(\"distilbert/distilroberta-base\")\n",
    "S, N = getscoresDistillROBERTA(l,model)\n",
    "models['DistillROBERTA'] = [l,d,h,dh,S,N]\n",
    "\n",
    "'save'\n",
    "with open('../../_data/fig_scores/ROBERTA-value-out-full.pkl', 'wb') as file:\n",
    "    pickle.dump(models, file)"
   ]
  },
  {
   "cell_type": "code",
   "execution_count": 8,
   "metadata": {},
   "outputs": [
    {
     "data": {
      "text/plain": [
       "(0.0, 1.0)"
      ]
     },
     "execution_count": 8,
     "metadata": {},
     "output_type": "execute_result"
    },
    {
     "data": {
      "image/png": "[encoded data removed]",
      "text/plain": [
       "<Figure size 800x400 with 1 Axes>"
      ]
     },
     "metadata": {},
     "output_type": "display_data"
    }
   ],
   "source": [
    "with open('../../_data/fig_scores/ROBERTA-value-out-full.pkl', 'rb') as file:\n",
    "    models = pickle.load(file)\n",
    "\n",
    "SList = [models[key][-2].flatten() for key in list(models.keys())]\n",
    "NList = [models[key][-1].flatten() for key in list(models.keys())]\n",
    "names = list(models.keys())\n",
    "\n",
    "plt.figure(figsize=(8,4))\n",
    "\n",
    "for i, model in enumerate(SList):\n",
    "    \n",
    "    plt.scatter(i*np.ones(SList[i].size),(SList[i].flatten()**2),color='purple',alpha=.01)\n",
    "    plt.scatter(i,(SList[i].flatten()**2).mean(),color='purple')\n",
    "    \n",
    "plt.grid(color = 'gray', linestyle = '--', linewidth = 0.5)\n",
    "plt.title('relative weight S matrix')\n",
    "plt.ylabel('scores')\n",
    "plt.xticks(np.arange(len(names)),names)\n",
    "plt.xticks(rotation=50)\n",
    "plt.ylim(0,1)"
   ]
  },
  {
   "cell_type": "code",
   "execution_count": null,
   "metadata": {},
   "outputs": [],
   "source": []
  }
 ],
 "metadata": {
  "kernelspec": {
   "display_name": "attention-geometry",
   "language": "python",
   "name": "python3"
  },
  "language_info": {
   "codemirror_mode": {
    "name": "ipython",
    "version": 3
   },
   "file_extension": ".py",
   "mimetype": "text/x-python",
   "name": "python",
   "nbconvert_exporter": "python",
   "pygments_lexer": "ipython3",
   "version": "3.11.5"
  }
 },
 "nbformat": 4,
 "nbformat_minor": 2
}
