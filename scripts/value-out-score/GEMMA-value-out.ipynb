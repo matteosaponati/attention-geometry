{
 "cells": [
  {
   "cell_type": "code",
   "execution_count": 1,
   "metadata": {},
   "outputs": [
    {
     "name": "stderr",
     "output_type": "stream",
     "text": [
      "/opt/homebrew/Caskroom/miniconda/base/envs/attention-geometry/lib/python3.11/site-packages/tqdm/auto.py:21: TqdmWarning: IProgress not found. Please update jupyter and ipywidgets. See https://ipywidgets.readthedocs.io/en/stable/user_install.html\n",
      "  from .autonotebook import tqdm as notebook_tqdm\n"
     ]
    }
   ],
   "source": [
    "import pickle\n",
    "import os\n",
    "import numpy as np\n",
    "import matplotlib.pyplot as plt\n",
    "\n",
    "from utils.funs import scores\n",
    "\n",
    "from transformers import AutoModelForCausalLM"
   ]
  },
  {
   "cell_type": "code",
   "execution_count": 2,
   "metadata": {},
   "outputs": [],
   "source": [
    "def getscoresGEMMA(d,l,h,h_kv,dh,model):\n",
    "    \"\"\"\n",
    "    Let Q and K be\n",
    "    Q = X @ W_q ; K = X @ W_k\n",
    "\n",
    "    it follows that the dot product between queries and keys is \n",
    "    Q @ K^T = X @ (W_q @ W_k^T) @ X^T = X @ M @ X^T \n",
    "\n",
    "    where M is a square matrix \\in R^{d,d}, that can be decomposed into its\n",
    "    symmetric and skew-symmetric part S and N, respectively,\n",
    "    M = 1/2 * (M + M^T) + 1/2 * (M - M^T) = S + N\n",
    "\n",
    "    important: nn.Linear.weight returns the learnable weights of the module as\n",
    "    (out_features,in_features), then we can access the matrix W_q or \n",
    "    W_k as nn.Linear.weight^T\n",
    "\n",
    "    Args:\n",
    "        - d (int) : embeddding dimension.\n",
    "        - l (int) : total number of layers\n",
    "        - h (int) : number of heads.\n",
    "        - dh (int) : embedding dimension per head.\n",
    "        - model () : full model.\n",
    "\n",
    "    Returns:\n",
    "        - SList (numpy ndarray) : List of Symmetric (S) scores.\n",
    "        - NList (numpy ndarray) : List of Skew-symmetric (N) scores.\n",
    "    \"\"\"\n",
    "\n",
    "    SList = np.zeros((l,h))\n",
    "    NList = np.zeros((l,h))\n",
    "    \n",
    "    # retrieve all BertLayer instances (the encoder in each layer)\n",
    "    layers = model.model.layers\n",
    "\n",
    "    for i, layer in enumerate(layers):\n",
    "\n",
    "        # access self-attention module within layer\n",
    "        self_attention = layer.self_attn\n",
    "\n",
    "        # access W_q and W_k: transpose the weight matrix and split into heads\n",
    "        Wv = self_attention.v_proj._parameters[\"weight\"].T.view(d,h_kv,dh).detach().numpy()\n",
    "        # GQA (grouped-query-attention) defines multiple key and value heads for the same query\n",
    "        Wo = self_attention.o_proj._parameters[\"weight\"].view(d,h,dh).T.detach().numpy()\n",
    "\n",
    "        ## Gemma 2b model has only one key and value matrix, shared across queries\n",
    "        if h_kv == 1:\n",
    "\n",
    "            for j in range(h):\n",
    "\n",
    "                # calculate the association matrix M\n",
    "                M = Wv[:,0,:] @ Wo[:,j,:]\n",
    "                # compute symmetry and skew-symmetry scores\n",
    "                S, N = scores(M)\n",
    "                SList[i,j], NList[i,j] = S, N\n",
    "\n",
    "        ## Gemma 7b works with standard multi-head attention\n",
    "        elif h_kv == h:\n",
    "\n",
    "            for j in range(h):\n",
    "\n",
    "                # calculate the association matrix M\n",
    "                M = Wv[:,j,:] @ Wo[:,j,:]\n",
    "                # compute symmetry and skew-symmetry scores\n",
    "                S, N = scores(M)\n",
    "                SList[i,j], NList[i,j] = S, N\n",
    "\n",
    "    return  SList, NList"
   ]
  },
  {
   "cell_type": "code",
   "execution_count": 4,
   "metadata": {},
   "outputs": [],
   "source": [
    "\"\"\"\n",
    "- KEY (str): model name\n",
    "- VALUES (list): [layers (int), \n",
    "                  embedding dim (int), \n",
    "                  heads (int), \n",
    "                  head dim (int), \n",
    "                  S scores, \n",
    "                  N scores]\n",
    "\"\"\"\n",
    "\n",
    "if os.path.isfile('../../_data/fig_scores/GEMMA-value-out.pkl'):\n",
    "    with open('../../_data/fig_scores/GEMMA-value-out.pkl', 'rb') as file:\n",
    "        models = pickle.load(file)\n",
    "else: models = {}"
   ]
  },
  {
   "cell_type": "code",
   "execution_count": 5,
   "metadata": {},
   "outputs": [
    {
     "name": "stderr",
     "output_type": "stream",
     "text": [
      "Gemma's activation function should be approximate GeLU and not exact GeLU.\n",
      "Changing the activation function to `gelu_pytorch_tanh`.if you want to use the legacy `gelu`, edit the `model.config` to set `hidden_activation=gelu`   instead of `hidden_act`. See https://github.com/huggingface/transformers/pull/29402 for more details.\n",
      "Loading checkpoint shards: 100%|██████████| 2/2 [00:10<00:00,  5.36s/it]\n",
      "/var/folders/yy/3fh2plpd0txg1y9llct3rsv80000gn/T/ipykernel_3785/873588464.py:43: UserWarning: The use of `x.T` on tensors of dimension other than 2 to reverse their shape is deprecated and it will throw an error in a future release. Consider `x.mT` to transpose batches of matrices or `x.permute(*torch.arange(x.ndim - 1, -1, -1))` to reverse the dimensions of a tensor. (Triggered internally at /private/var/folders/k1/30mswbxs7r1g6zwn8y4fyt500000gp/T/abs_5ae0635zuj/croot/pytorch-select_1700511177724/work/aten/src/ATen/native/TensorShape.cpp:3618.)\n",
      "  Wo = self_attention.o_proj._parameters[\"weight\"].view(d,h,dh).T.detach().numpy()\n",
      "Loading checkpoint shards: 100%|██████████| 4/4 [00:34<00:00,  8.59s/it]\n"
     ]
    }
   ],
   "source": [
    "'Gemma model 2b (l = 18, d = 2048, h = 8, h_kv = 1 ; tot num parameters 2B)'\n",
    "dh = 256\n",
    "l = 18\n",
    "d = 2048\n",
    "h = 8\n",
    "h_kv = 1\n",
    "model = AutoModelForCausalLM.from_pretrained(\"google/gemma-2b\")\n",
    "S, N = getscoresGEMMA(d,l,h,h_kv,dh,model)\n",
    "models['GEMMA2b'] = [l,d,h,h_kv,dh,S,N]\n",
    "\n",
    "'Gemma model 7b (l = 18, d = 2048, h = 8, h_kv = 1 ; tot num parameters 2B)'\n",
    "dh = 256\n",
    "l = 28\n",
    "d = 3072\n",
    "h = 16\n",
    "h_kv = 16\n",
    "model = AutoModelForCausalLM.from_pretrained(\"google/gemma-7b\")\n",
    "S, N = getscoresGEMMA(d,l,h,h_kv,dh,model)\n",
    "models['GEMMA7b'] = [l,d,h,h_kv,dh,S,N]"
   ]
  },
  {
   "cell_type": "code",
   "execution_count": 6,
   "metadata": {},
   "outputs": [],
   "source": [
    "'save'\n",
    "with open('../../_data/fig_scores/GEMMA-value-out.pkl', 'wb') as file:\n",
    "    pickle.dump(models, file)"
   ]
  },
  {
   "cell_type": "code",
   "execution_count": 7,
   "metadata": {},
   "outputs": [
    {
     "data": {
      "text/plain": [
       "(0.0, 1.0)"
      ]
     },
     "execution_count": 7,
     "metadata": {},
     "output_type": "execute_result"
    },
    {
     "data": {
      "image/png": "[encoded data removed]",
      "text/plain": [
       "<Figure size 500x400 with 1 Axes>"
      ]
     },
     "metadata": {},
     "output_type": "display_data"
    }
   ],
   "source": [
    "import matplotlib.pyplot as plt\n",
    "\n",
    "with open('../../_data/fig_scores/GEMMA-value-out.pkl', 'rb') as file:\n",
    "    models = pickle.load(file)\n",
    "\n",
    "SList = [models[key][-2].flatten() for key in list(models.keys())]\n",
    "names = list(models.keys())\n",
    "\n",
    "plt.figure(figsize=(5,4))\n",
    "\n",
    "for i, model in enumerate(SList):\n",
    "    \n",
    "    plt.scatter(i*np.ones(SList[i].size),(SList[i].flatten()**2),color='purple',alpha=.1)\n",
    "    plt.scatter(i,(SList[i].flatten()**2).mean(),color='mediumvioletred')\n",
    "    \n",
    "plt.grid(color = 'gray', linestyle = '--', linewidth = 0.5)\n",
    "plt.title('relative weight of S and N matrices')\n",
    "plt.ylabel('scores')\n",
    "plt.xticks(np.arange(len(names)),names)\n",
    "plt.xticks(rotation=70)\n",
    "plt.axhline(y=.5,color='k',linestyle='dashed')\n",
    "plt.ylim(0,1)"
   ]
  },
  {
   "cell_type": "code",
   "execution_count": null,
   "metadata": {},
   "outputs": [],
   "source": []
  }
 ],
 "metadata": {
  "kernelspec": {
   "display_name": "attention-geometry",
   "language": "python",
   "name": "python3"
  },
  "language_info": {
   "codemirror_mode": {
    "name": "ipython",
    "version": 3
   },
   "file_extension": ".py",
   "mimetype": "text/x-python",
   "name": "python",
   "nbconvert_exporter": "python",
   "pygments_lexer": "ipython3",
   "version": "3.11.5"
  }
 },
 "nbformat": 4,
 "nbformat_minor": 2
}
