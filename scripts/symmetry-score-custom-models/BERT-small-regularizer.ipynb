{
 "cells": [
  {
   "cell_type": "code",
   "execution_count": 42,
   "metadata": {},
   "outputs": [],
   "source": [
    "import pickle\n",
    "import os\n",
    "import pandas as pd\n",
    "import numpy as np\n",
    "import matplotlib.pyplot as plt"
   ]
  },
  {
   "cell_type": "code",
   "execution_count": 43,
   "metadata": {},
   "outputs": [],
   "source": [
    "path = '../../_data/pascal-data/symmetric-attention-from-scratch-clean/'"
   ]
  },
  {
   "cell_type": "code",
   "execution_count": 44,
   "metadata": {},
   "outputs": [],
   "source": [
    "def get_interpolation(data):\n",
    "\n",
    "    data = data.to_numpy()\n",
    "    x = np.arange(data.size)\n",
    "    data = np.interp(x, x[~np.isnan(data)], \n",
    "                                  data[~np.isnan(data)])\n",
    "\n",
    "    return data"
   ]
  },
  {
   "cell_type": "code",
   "execution_count": 45,
   "metadata": {},
   "outputs": [],
   "source": [
    "if os.path.isfile('../../_data/pascal-data/symmetry-scores/BERT-small-regularizer.pkl'):\n",
    "    with open('../../_data/pascal-data/symmetry-scores/BERT-small-regularizer.pkl', 'rb') as file:\n",
    "        models = pickle.load(file)\n",
    "else: models = {}"
   ]
  },
  {
   "cell_type": "code",
   "execution_count": 46,
   "metadata": {},
   "outputs": [],
   "source": [
    "model = 'history_bert_small-no_bias-encoder-wikipedia.csv'\n",
    "data = pd.read_csv(path + model, \n",
    "                       encoding='UTF-8', \n",
    "                       delimiter=',')  \n",
    "models['bert-small-no_bias-encoder-wikipedia'] = [get_interpolation(data['_step']),\n",
    "                                                    get_interpolation(data['train/global_step']),\n",
    "                                                    get_interpolation(data['Mean Symmetry']),\n",
    "                                                    get_interpolation(data['Min Symmetry']),\n",
    "                                                    get_interpolation(data['Max Symmetry']),\n",
    "                                                    get_interpolation(data['Median Symmetry']),\n",
    "                                                    get_interpolation(data['Variance Symmetry']),\n",
    "                                                    get_interpolation(data['Layer 0/Head 0 Symmetry']),\n",
    "                                                    get_interpolation(data['Layer 0/Head 1 Symmetry']),\n",
    "                                                    get_interpolation(data['Layer 0/Head 2 Symmetry']),\n",
    "                                                    get_interpolation(data['Layer 0/Head 3 Symmetry']),\n",
    "                                                    get_interpolation(data['Layer 1/Head 0 Symmetry']),\n",
    "                                                    get_interpolation(data['Layer 1/Head 1 Symmetry']),\n",
    "                                                    get_interpolation(data['Layer 1/Head 2 Symmetry']),\n",
    "                                                    get_interpolation(data['Layer 1/Head 3 Symmetry']),\n",
    "                                                    get_interpolation(data['Layer 2/Head 0 Symmetry']),\n",
    "                                                    get_interpolation(data['Layer 2/Head 1 Symmetry']),\n",
    "                                                    get_interpolation(data['Layer 2/Head 2 Symmetry']),\n",
    "                                                    get_interpolation(data['Layer 2/Head 3 Symmetry']),\n",
    "                                                    get_interpolation(data['Layer 3/Head 0 Symmetry']),\n",
    "                                                    get_interpolation(data['Layer 3/Head 1 Symmetry']),\n",
    "                                                    get_interpolation(data['Layer 3/Head 2 Symmetry']),\n",
    "                                                    get_interpolation(data['Layer 3/Head 3 Symmetry']),\n",
    "                                                    get_interpolation(data['train/loss'])]\n",
    "\n",
    "model = 'history_bert_small-no_bias-encoder-custom-loss-wikipedia.csv'\n",
    "data = pd.read_csv(path + model, \n",
    "                       encoding='UTF-8', \n",
    "                       delimiter=',')  \n",
    "models['bert-small-no_bias-encoder-custom-loss-wikipedia'] =  [get_interpolation(data['_step']),\n",
    "                                                                get_interpolation(data['train/global_step']),\n",
    "                                                                get_interpolation(data['Mean Symmetry']),\n",
    "                                                                get_interpolation(data['Min Symmetry']),\n",
    "                                                                get_interpolation(data['Max Symmetry']),\n",
    "                                                                get_interpolation(data['Median Symmetry']),\n",
    "                                                                get_interpolation(data['Variance Symmetry']),\n",
    "                                                                get_interpolation(data['Layer 0/Head 0 Symmetry']),\n",
    "                                                                get_interpolation(data['Layer 0/Head 1 Symmetry']),\n",
    "                                                                get_interpolation(data['Layer 0/Head 2 Symmetry']),\n",
    "                                                                get_interpolation(data['Layer 0/Head 3 Symmetry']),\n",
    "                                                                get_interpolation(data['Layer 1/Head 0 Symmetry']),\n",
    "                                                                get_interpolation(data['Layer 1/Head 1 Symmetry']),\n",
    "                                                                get_interpolation(data['Layer 1/Head 2 Symmetry']),\n",
    "                                                                get_interpolation(data['Layer 1/Head 3 Symmetry']),\n",
    "                                                                get_interpolation(data['Layer 2/Head 0 Symmetry']),\n",
    "                                                                get_interpolation(data['Layer 2/Head 1 Symmetry']),\n",
    "                                                                get_interpolation(data['Layer 2/Head 2 Symmetry']),\n",
    "                                                                get_interpolation(data['Layer 2/Head 3 Symmetry']),\n",
    "                                                                get_interpolation(data['Layer 3/Head 0 Symmetry']),\n",
    "                                                                get_interpolation(data['Layer 3/Head 1 Symmetry']),\n",
    "                                                                get_interpolation(data['Layer 3/Head 2 Symmetry']),\n",
    "                                                                get_interpolation(data['Layer 3/Head 3 Symmetry']),\n",
    "                                                                get_interpolation(data['train/loss']),\n",
    "                                                                get_interpolation(data['reg_loss']),\n",
    "                                                                get_interpolation(data['masked_lm_loss'])]"
   ]
  },
  {
   "cell_type": "code",
   "execution_count": 47,
   "metadata": {},
   "outputs": [],
   "source": [
    "with open('../../_data/pascal-data/symmetry-scores/BERT-small-regularizer.pkl', 'wb') as file:\n",
    "    pickle.dump(models, file)"
   ]
  },
  {
   "cell_type": "code",
   "execution_count": null,
   "metadata": {},
   "outputs": [],
   "source": []
  }
 ],
 "metadata": {
  "kernelspec": {
   "display_name": "attention-geometry",
   "language": "python",
   "name": "python3"
  },
  "language_info": {
   "codemirror_mode": {
    "name": "ipython",
    "version": 3
   },
   "file_extension": ".py",
   "mimetype": "text/x-python",
   "name": "python",
   "nbconvert_exporter": "python",
   "pygments_lexer": "ipython3",
   "version": "3.11.5"
  }
 },
 "nbformat": 4,
 "nbformat_minor": 2
}
