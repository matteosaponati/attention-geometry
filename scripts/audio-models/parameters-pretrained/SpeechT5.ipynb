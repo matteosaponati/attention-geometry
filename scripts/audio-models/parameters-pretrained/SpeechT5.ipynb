{
 "cells": [
  {
   "cell_type": "code",
   "execution_count": 1,
   "metadata": {},
   "outputs": [
    {
     "name": "stderr",
     "output_type": "stream",
     "text": [
      "/opt/homebrew/Caskroom/miniconda/base/envs/attention-geometry/lib/python3.11/site-packages/tqdm/auto.py:21: TqdmWarning: IProgress not found. Please update jupyter and ipywidgets. See https://ipywidgets.readthedocs.io/en/stable/user_install.html\n",
      "  from .autonotebook import tqdm as notebook_tqdm\n"
     ]
    }
   ],
   "source": [
    "import pickle\n",
    "import os\n",
    "import numpy as np\n",
    "import matplotlib.pyplot as plt\n",
    "\n",
    "from utils.funs import count_parameters\n",
    "\n",
    "from transformers import AutoModelForTextToSpectrogram"
   ]
  },
  {
   "cell_type": "code",
   "execution_count": 2,
   "metadata": {},
   "outputs": [],
   "source": [
    "dir = '../../../_data/fig-parameters-audio-models/SpeechT5.pkl'\n",
    "\n",
    "if os.path.isfile(dir):\n",
    "    with open(dir, 'rb') as file:\n",
    "        models = pickle.load(file)\n",
    "else: models = {}"
   ]
  },
  {
   "cell_type": "code",
   "execution_count": 3,
   "metadata": {},
   "outputs": [
    {
     "name": "stderr",
     "output_type": "stream",
     "text": [
      "/opt/homebrew/Caskroom/miniconda/base/envs/attention-geometry/lib/python3.11/site-packages/torch/_utils.py:831: UserWarning: TypedStorage is deprecated. It will be removed in the future and UntypedStorage will be the only storage class. This should only matter to you if you are using storages directly.  To access UntypedStorage directly, use tensor.untyped_storage() instead of tensor.storage()\n",
      "  return self.fget.__get__(instance, owner)()\n",
      "Some weights of SpeechT5ForTextToSpeech were not initialized from the model checkpoint at microsoft/speecht5_asr and are newly initialized: ['speech_decoder_postnet.feat_out.bias', 'speech_decoder_postnet.feat_out.weight', 'speech_decoder_postnet.layers.0.batch_norm.bias', 'speech_decoder_postnet.layers.0.batch_norm.num_batches_tracked', 'speech_decoder_postnet.layers.0.batch_norm.running_mean', 'speech_decoder_postnet.layers.0.batch_norm.running_var', 'speech_decoder_postnet.layers.0.batch_norm.weight', 'speech_decoder_postnet.layers.0.conv.weight', 'speech_decoder_postnet.layers.1.batch_norm.bias', 'speech_decoder_postnet.layers.1.batch_norm.num_batches_tracked', 'speech_decoder_postnet.layers.1.batch_norm.running_mean', 'speech_decoder_postnet.layers.1.batch_norm.running_var', 'speech_decoder_postnet.layers.1.batch_norm.weight', 'speech_decoder_postnet.layers.1.conv.weight', 'speech_decoder_postnet.layers.2.batch_norm.bias', 'speech_decoder_postnet.layers.2.batch_norm.num_batches_tracked', 'speech_decoder_postnet.layers.2.batch_norm.running_mean', 'speech_decoder_postnet.layers.2.batch_norm.running_var', 'speech_decoder_postnet.layers.2.batch_norm.weight', 'speech_decoder_postnet.layers.2.conv.weight', 'speech_decoder_postnet.layers.3.batch_norm.bias', 'speech_decoder_postnet.layers.3.batch_norm.num_batches_tracked', 'speech_decoder_postnet.layers.3.batch_norm.running_mean', 'speech_decoder_postnet.layers.3.batch_norm.running_var', 'speech_decoder_postnet.layers.3.batch_norm.weight', 'speech_decoder_postnet.layers.3.conv.weight', 'speech_decoder_postnet.layers.4.batch_norm.bias', 'speech_decoder_postnet.layers.4.batch_norm.num_batches_tracked', 'speech_decoder_postnet.layers.4.batch_norm.running_mean', 'speech_decoder_postnet.layers.4.batch_norm.running_var', 'speech_decoder_postnet.layers.4.batch_norm.weight', 'speech_decoder_postnet.layers.4.conv.weight', 'speech_decoder_postnet.prob_out.bias', 'speech_decoder_postnet.prob_out.weight', 'speecht5.decoder.prenet.encode_positions.alpha', 'speecht5.decoder.prenet.final_layer.bias', 'speecht5.decoder.prenet.final_layer.weight', 'speecht5.decoder.prenet.layers.0.bias', 'speecht5.decoder.prenet.layers.0.weight', 'speecht5.decoder.prenet.layers.1.bias', 'speecht5.decoder.prenet.layers.1.weight', 'speecht5.decoder.prenet.speaker_embeds_layer.bias', 'speecht5.decoder.prenet.speaker_embeds_layer.weight', 'speecht5.encoder.prenet.embed_tokens.weight', 'speecht5.encoder.prenet.encode_positions.alpha']\n",
      "You should probably TRAIN this model on a down-stream task to be able to use it for predictions and inference.\n",
      "Some weights of SpeechT5ForTextToSpeech were not initialized from the model checkpoint at microsoft/speecht5_vc and are newly initialized: ['speecht5.encoder.prenet.embed_tokens.weight', 'speecht5.encoder.prenet.encode_positions.alpha']\n",
      "You should probably TRAIN this model on a down-stream task to be able to use it for predictions and inference.\n"
     ]
    }
   ],
   "source": [
    "'SpeechT5 text-to-speech (l = 6, d = 768, h = 12 ; 950M parameters)'\n",
    "\n",
    "model = AutoModelForTextToSpectrogram.from_pretrained(\"microsoft/speecht5_tts\")\n",
    "models['speechT5-tts'] = [count_parameters(model), count_parameters(model, Embedding_FLAG = True)]\n",
    "\n",
    "'SpeechT5 automatic speech recognition (l = 6, d = 768, h = 12 ; 950M parameters)'\n",
    "\n",
    "model = AutoModelForTextToSpectrogram.from_pretrained(\"microsoft/speecht5_asr\")\n",
    "models['speechT5-asr'] = [count_parameters(model), count_parameters(model, Embedding_FLAG = True)]\n",
    "\n",
    "'SpeechT5 automatic speech recognition (l = 6, d = 768, h = 12 ; 950M parameters)'\n",
    "\n",
    "model = AutoModelForTextToSpectrogram.from_pretrained(\"microsoft/speecht5_vc\")\n",
    "models['speechT5-vc'] = [count_parameters(model), count_parameters(model, Embedding_FLAG = True)]"
   ]
  },
  {
   "cell_type": "code",
   "execution_count": 4,
   "metadata": {},
   "outputs": [],
   "source": [
    "'save'\n",
    "with open(dir, 'wb') as file:\n",
    "    pickle.dump(models, file)"
   ]
  },
  {
   "cell_type": "code",
   "execution_count": null,
   "metadata": {},
   "outputs": [],
   "source": []
  }
 ],
 "metadata": {
  "kernelspec": {
   "display_name": "attention-geometry",
   "language": "python",
   "name": "python3"
  },
  "language_info": {
   "codemirror_mode": {
    "name": "ipython",
    "version": 3
   },
   "file_extension": ".py",
   "mimetype": "text/x-python",
   "name": "python",
   "nbconvert_exporter": "python",
   "pygments_lexer": "ipython3",
   "version": "3.11.5"
  }
 },
 "nbformat": 4,
 "nbformat_minor": 2
}
