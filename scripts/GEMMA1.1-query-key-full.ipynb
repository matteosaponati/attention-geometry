{
 "cells": [
  {
   "cell_type": "code",
   "execution_count": 7,
   "metadata": {},
   "outputs": [],
   "source": [
    "import pickle\n",
    "import os\n",
    "import numpy as np\n",
    "import matplotlib.pyplot as plt\n",
    "\n",
    "from utils.funs import scores\n",
    "\n",
    "from transformers import AutoModelForCausalLM"
   ]
  },
  {
   "cell_type": "code",
   "execution_count": 8,
   "metadata": {},
   "outputs": [],
   "source": [
    "def getscoresGEMMA(d,l,h,h_kv,dh,model):\n",
    "    \"\"\"\n",
    "    Let Q and K be\n",
    "    Q = X @ W_q ; K = X @ W_k\n",
    "\n",
    "    it follows that the dot product between queries and keys is \n",
    "    Q @ K^T = X @ (W_q @ W_k^T) @ X^T = X @ M @ X^T \n",
    "\n",
    "    where M is a square matrix \\in R^{d,d}, that can be decomposed into its\n",
    "    symmetric and skew-symmetric part S and N, respectively,\n",
    "    M = 1/2 * (M + M^T) + 1/2 * (M - M^T) = S + N\n",
    "\n",
    "    important: nn.Linear.weight returns the learnable weights of the module as\n",
    "    (out_features,in_features), then we can access the matrix W_q or \n",
    "    W_k as nn.Linear.weight^T\n",
    "\n",
    "    Args:\n",
    "        - d (int) : embeddding dimension.\n",
    "        - l (int) : total number of layers\n",
    "        - h (int) : number of heads.\n",
    "        - dh (int) : embedding dimension per head.\n",
    "        - model () : full model.\n",
    "\n",
    "    Returns:\n",
    "        - SList (numpy ndarray) : List of Symmetric (S) scores.\n",
    "        - NList (numpy ndarray) : List of Skew-symmetric (N) scores.\n",
    "    \"\"\"\n",
    "\n",
    "    SList = np.zeros((l))\n",
    "    NList = np.zeros((l))\n",
    "    \n",
    "    # retrieve all BertLayer instances (the encoder in each layer)\n",
    "    layers = model.model.layers\n",
    "\n",
    "    for i, layer in enumerate(layers):\n",
    "\n",
    "        # access self-attention module within layer\n",
    "        self_attention = layer.self_attn\n",
    "\n",
    "        # access W_q and W_k: transpose the weight matrix and split into heads\n",
    "        Wq = self_attention.q_proj._parameters[\"weight\"].T.detach().numpy()\n",
    "        Wk = self_attention.k_proj._parameters[\"weight\"].T.detach().numpy()\n",
    "\n",
    "        # calculate the association matrix M\n",
    "        M = Wq @ Wk.T\n",
    "        # compute symmetry and skew-symmetry scores\n",
    "        S, N = scores(M)\n",
    "        SList[i], NList[i] = S, N\n",
    "\n",
    "    return  SList, NList"
   ]
  },
  {
   "cell_type": "code",
   "execution_count": 11,
   "metadata": {},
   "outputs": [],
   "source": [
    "\"\"\"\n",
    "- KEY (str): model name\n",
    "- VALUES (list): [layers (int), \n",
    "                  embedding dim (int), \n",
    "                  heads (int), \n",
    "                  head dim (int), \n",
    "                  S scores, \n",
    "                  N scores]\n",
    "\"\"\"\n",
    "\n",
    "if os.path.isfile('../_data/fig_scores/GEMMA1-query-key-full.pkl'):\n",
    "    with open('../_data/fig_scores/GEMM1-query-key-full.pkl', 'rb') as file:\n",
    "        models = pickle.load(file)\n",
    "else: models = {}"
   ]
  },
  {
   "cell_type": "code",
   "execution_count": 12,
   "metadata": {},
   "outputs": [
    {
     "name": "stderr",
     "output_type": "stream",
     "text": [
      "Loading checkpoint shards: 100%|██████████| 4/4 [00:35<00:00,  8.81s/it]\n"
     ]
    }
   ],
   "source": [
    "'Gemma model 2b (l = 18, d = 2048, h = 8, h_kv = 1 ; tot num parameters 2B)'\n",
    "## not possible because they use GQA\n",
    "\n",
    "'Gemma model 7b (l = 18, d = 2048, h = 8, h_kv = 1 ; tot num parameters 2B)'\n",
    "dh = 256\n",
    "l = 28\n",
    "d = 3072\n",
    "h = 16\n",
    "h_kv = 16\n",
    "model = AutoModelForCausalLM.from_pretrained(\"google/gemma-1.1-7b-it\")\n",
    "S, N = getscoresGEMMA(d,l,h,h_kv,dh,model)\n",
    "models['GEMMA1.1-7b'] = [l,d,h,h_kv,dh,S,N]"
   ]
  },
  {
   "cell_type": "code",
   "execution_count": 13,
   "metadata": {},
   "outputs": [],
   "source": [
    "'save'\n",
    "with open('../_data/fig_scores/GEMMA1-query-key-full.pkl', 'wb') as file:\n",
    "    pickle.dump(models, file)"
   ]
  },
  {
   "cell_type": "code",
   "execution_count": 14,
   "metadata": {},
   "outputs": [
    {
     "data": {
      "text/plain": [
       "(0.0, 1.0)"
      ]
     },
     "execution_count": 14,
     "metadata": {},
     "output_type": "execute_result"
    },
    {
     "data": {
      "image/png": "[encoded data removed]",
      "text/plain": [
       "<Figure size 500x400 with 1 Axes>"
      ]
     },
     "metadata": {},
     "output_type": "display_data"
    }
   ],
   "source": [
    "import matplotlib.pyplot as plt\n",
    "\n",
    "with open('../_data/fig_scores/GEMMA1-query-key-full.pkl', 'rb') as file:\n",
    "    models = pickle.load(file)\n",
    "\n",
    "SList = [models[key][-2].flatten() for key in list(models.keys())]\n",
    "names = list(models.keys())\n",
    "\n",
    "plt.figure(figsize=(5,4))\n",
    "\n",
    "for i, model in enumerate(SList):\n",
    "    \n",
    "    plt.scatter(i*np.ones(SList[i].size),(SList[i].flatten()**2),color='purple',alpha=.1)\n",
    "    plt.scatter(i,(SList[i].flatten()**2).mean(),color='mediumvioletred')\n",
    "    \n",
    "plt.grid(color = 'gray', linestyle = '--', linewidth = 0.5)\n",
    "plt.title('relative weight of S and N matrices')\n",
    "plt.ylabel('scores')\n",
    "plt.xticks(np.arange(len(names)),names)\n",
    "plt.xticks(rotation=70)\n",
    "plt.axhline(y=.5,color='k',linestyle='dashed')\n",
    "plt.ylim(0,1)"
   ]
  },
  {
   "cell_type": "code",
   "execution_count": null,
   "metadata": {},
   "outputs": [],
   "source": []
  }
 ],
 "metadata": {
  "kernelspec": {
   "display_name": "attention-geometry",
   "language": "python",
   "name": "python3"
  },
  "language_info": {
   "codemirror_mode": {
    "name": "ipython",
    "version": 3
   },
   "file_extension": ".py",
   "mimetype": "text/x-python",
   "name": "python",
   "nbconvert_exporter": "python",
   "pygments_lexer": "ipython3",
   "version": "3.11.5"
  }
 },
 "nbformat": 4,
 "nbformat_minor": 2
}
