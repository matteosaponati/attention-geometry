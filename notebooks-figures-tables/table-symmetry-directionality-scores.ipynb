{
 "cells": [
  {
   "cell_type": "code",
   "execution_count": 1,
   "metadata": {},
   "outputs": [],
   "source": [
    "from itertools import chain\n",
    "import pickle\n",
    "import numpy as np\n",
    "import os"
   ]
  },
  {
   "cell_type": "code",
   "execution_count": 2,
   "metadata": {},
   "outputs": [],
   "source": [
    "def get_table(language_models, mode = 'symmetry'):\n",
    "\n",
    "    table = {}\n",
    "\n",
    "    for m in language_models:\n",
    "\n",
    "        if os.path.isfile(f'../_results/language-models/{m}.pkl'):\n",
    "            dir = f'../_results/language-models/{m}.pkl'\n",
    "            with open(dir, 'rb') as file:\n",
    "                models = pickle.load(file)\n",
    "\n",
    "        for idx, key in enumerate(list(models.keys())):\n",
    "\n",
    "            if mode == 'symmetry':  scores = 2 * models[key][-3].flatten() - 1\n",
    "            elif mode == 'directionality': scores = -1 * models[key][-2].flatten()\n",
    "\n",
    "            score_median = np.median(scores)\n",
    "            score_q1 = score_median - np.percentile(scores, 25)\n",
    "            score_q2 = np.percentile(scores, 75) - score_median\n",
    "\n",
    "            table[key] = [score_median, score_q1, score_q2]\n",
    "\n",
    "    return table\n",
    "\n",
    "def print_table(table, mode):\n",
    "\n",
    "    MAX_NAME_LENGTH = 3000\n",
    "\n",
    "    medianList = [table[key][0] for key in list(table.keys())]\n",
    "    q1List = [table[key][1] for key in list(table.keys())]\n",
    "    q2List = [table[key][2] for key in list(table.keys())]\n",
    "    \n",
    "    split_point = len(medianList) // 2\n",
    "\n",
    "    latex_table = \"\"\"\\\\begin{table}\n",
    "    \\\\label{table:symmetry-score-models}\n",
    "    \\\\caption{Symmetry score for open source pretrained language models. All models are available on Huggingface \\\\citep{wolfHuggingFaceTransformersStateoftheart2020}.}\n",
    "    \\\\vspace{5pt}\n",
    "    \\\\centering\n",
    "    \\\\begin{tabular}{lcc|lcc}\n",
    "        \\\\toprule\n",
    "        \\\\textbf{Model} & \\\\textbf{Median} & \\\\textbf{Interquartile range} & \\\\textbf{Model} & \\\\textbf{Median} & \\\\textbf{Interquartile range} \\\\\\\\ \n",
    "        \\\\midrule\n",
    "    \"\"\"\n",
    "\n",
    "    for i in range(split_point):\n",
    "        name = list(table.keys())[i]\n",
    "        median = medianList[i]\n",
    "        q1 = q1List[i]\n",
    "        q2 = q2List[i]\n",
    "        \n",
    "        if len(name) > MAX_NAME_LENGTH:\n",
    "            name = name[-MAX_NAME_LENGTH:]\n",
    "        \n",
    "        if i + split_point < len(table):\n",
    "            corresponding_name = list(table.keys())[i + split_point]\n",
    "            \n",
    "            if len(corresponding_name) > MAX_NAME_LENGTH:\n",
    "                corresponding_name = corresponding_name[-MAX_NAME_LENGTH:]\n",
    "            \n",
    "            corresponding_median = medianList[i + split_point]\n",
    "            corresponding_q1 = q1List[i + split_point]\n",
    "            corresponding_q2 = q2List[i + split_point]\n",
    "        else:\n",
    "            corresponding_name = \"\"\n",
    "            corresponding_median = \"\"\n",
    "            corresponding_q1 = \"\"\n",
    "            corresponding_q2 = \"\"\n",
    "        \n",
    "        latex_table += f\"{name} & {round(median, 2)} & $\\\\pm$ [{round(q1, 2)}, {round(q2, 2)}] & {corresponding_name} & {round(corresponding_median, 2)} & $\\\\pm$ [{round(corresponding_q1, 2)}, {round(corresponding_q2, 2)}] \\\\\\\\ \\n\"\n",
    "\n",
    "    latex_table += \"\"\"    \\\\bottomrule\n",
    "    \\\\end{tabular}\n",
    "    \\\\end{table}\"\"\"\n",
    "\n",
    "    output_filename = f\"../_results/table-{mode}-scores-language.txt\"  \n",
    "\n",
    "    with open(output_filename, 'w') as file:\n",
    "        file.write(latex_table)\n",
    "    print(f\"LaTeX table saved to '{output_filename}'.\")"
   ]
  },
  {
   "cell_type": "code",
   "execution_count": 5,
   "metadata": {},
   "outputs": [
    {
     "name": "stdout",
     "output_type": "stream",
     "text": [
      "LaTeX table saved to '../_results/table-symmetry-scores-language.txt'.\n"
     ]
    }
   ],
   "source": [
    "language_models = ['BERT', 'ALBERT', 'ROBERTA', 'ModernBERT', 'GPT', 'GPT-neo', 'TinyGPT', 'LLAMA',\n",
    "                    'MISTRAL', 'MobileLLM', 'phi-1', 'phi-2', 'phi-3', 'iGPT', 'GIT',\n",
    "                    'HUBERT', 'SpeechT5Encoder', 'MusicGenEncoder', 'SpeechT5Decoder', 'MusicGenDecoder']\n",
    "mode = 'symmetry'\n",
    "\n",
    "table = get_table(language_models, mode)\n",
    "print_table(table, mode)"
   ]
  },
  {
   "cell_type": "code",
   "execution_count": 4,
   "metadata": {},
   "outputs": [
    {
     "name": "stdout",
     "output_type": "stream",
     "text": [
      "LaTeX table saved to '../_results/table-directionality-scores-language.txt'.\n"
     ]
    }
   ],
   "source": [
    "language_models = ['BERT', 'ALBERT', 'ROBERTA', 'ModernBERT', 'GPT', 'GPT-neo', 'TinyGPT', 'LLAMA',\n",
    "                    'MISTRAL', 'MobileLLM', 'phi-1', 'phi-2', 'phi-3', 'iGPT', 'GIT',\n",
    "                    'HUBERT', 'SpeechT5Encoder', 'MusicGenEncoder', 'SpeechT5Decoder', 'MusicGenDecoder']\n",
    "mode = 'directionality'\n",
    "\n",
    "table = get_table(language_models, mode)\n",
    "print_table(table, mode)"
   ]
  },
  {
   "cell_type": "markdown",
   "metadata": {},
   "source": []
  }
 ],
 "metadata": {
  "kernelspec": {
   "display_name": "attention-geometry",
   "language": "python",
   "name": "python3"
  },
  "language_info": {
   "codemirror_mode": {
    "name": "ipython",
    "version": 3
   },
   "file_extension": ".py",
   "mimetype": "text/x-python",
   "name": "python",
   "nbconvert_exporter": "python",
   "pygments_lexer": "ipython3",
   "version": "3.12.3"
  }
 },
 "nbformat": 4,
 "nbformat_minor": 2
}
