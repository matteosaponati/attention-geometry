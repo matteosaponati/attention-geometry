{
 "cells": [
  {
   "cell_type": "code",
   "execution_count": 33,
   "metadata": {},
   "outputs": [],
   "source": [
    "import pandas as pd\n",
    "\n",
    "input_file = '../_data/custom-models/symmetric-initialization-data.csv'\n",
    "output_file = '../_data/custom-models/symmetric-initialization-loss.csv'\n",
    "\n",
    "columns_of_interest = [\n",
    "    \"bert_small--encoder--jigsaw - train/loss\",\n",
    "    \"bert_small--encoder--jigsaw--symmetric-init - train/loss\",\n",
    "    \"bert_small--encoder--wikipedia - train/loss\",\n",
    "    \"bert_small--encoder--wikipedia--symmetric-init - train/loss\",\n",
    "    \"bert_small--encoder--red_pajama - train/loss\",\n",
    "    \"bert_small--encoder--red_pajama--symmetric-init - train/loss\",\n",
    "    \"bert--encoder--jigsaw - train/loss\",\n",
    "    \"bert--encoder--jigsaw--symmetric-init - train/loss\",\n",
    "    \"bert--encoder--wikipedia - train/loss\",\n",
    "    \"bert--encoder--wikipedia--symmetric-init - train/loss\",\n",
    "    \"bert--encoder--red_pajama - train/loss\",\n",
    "    \"bert--encoder--red_pajama--symmetric-init - train/loss\"\n",
    "]\n",
    "\n",
    "df = pd.read_csv(input_file)\n",
    "\n",
    "filtered_df = df[columns_of_interest]\n",
    "filtered_df.columns = [col.replace(\" - train/loss\", \"\") for col in filtered_df.columns]\n",
    "filtered_df.to_csv(output_file, index=False)"
   ]
  },
  {
   "cell_type": "code",
   "execution_count": 34,
   "metadata": {},
   "outputs": [
    {
     "name": "stdout",
     "output_type": "stream",
     "text": [
      "bert_small--encoder--jigsaw: [2.7822, 2.758, 0.259]\n",
      "bert_small--encoder--wikipedia: [0.9845, 0.8119, 0.729]\n",
      "bert_small--encoder--red_pajama: [1.1063, 0.9067, 0.6890000000000001]\n",
      "bert--encoder--jigsaw: [1.4195, 1.4303, 1.0]\n",
      "bert--encoder--wikipedia: [0.2561, 0.247, 0.19999999999999996]\n",
      "bert--encoder--red_pajama: [0.2973, 0.2738, 0.347]\n"
     ]
    }
   ],
   "source": [
    "index_dict = {}\n",
    "for col in filtered_df.columns:\n",
    "    if \"--symmetric-init\" not in col:\n",
    "        last_value = filtered_df[col].iloc[-1]\n",
    "        symmetric_col = col + \"--symmetric-init\"\n",
    "        if symmetric_col in filtered_df.columns:\n",
    "            index = (filtered_df[symmetric_col] < last_value).idxmax()\n",
    "            index_dict[col] =  [last_value, filtered_df[symmetric_col].iloc[-1], 1 - index / 1000, ]\n",
    "\n",
    "for key, value in index_dict.items():\n",
    "    print(f\"{key}: {value}\")"
   ]
  },
  {
   "cell_type": "code",
   "execution_count": null,
   "metadata": {},
   "outputs": [],
   "source": []
  }
 ],
 "metadata": {
  "kernelspec": {
   "display_name": "attention-geometry",
   "language": "python",
   "name": "python3"
  },
  "language_info": {
   "codemirror_mode": {
    "name": "ipython",
    "version": 3
   },
   "file_extension": ".py",
   "mimetype": "text/x-python",
   "name": "python",
   "nbconvert_exporter": "python",
   "pygments_lexer": "ipython3",
   "version": "3.12.3"
  }
 },
 "nbformat": 4,
 "nbformat_minor": 2
}
