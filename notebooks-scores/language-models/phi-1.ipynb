{
 "cells": [
  {
   "cell_type": "code",
   "execution_count": 3,
   "metadata": {},
   "outputs": [],
   "source": [
    "import pickle\n",
    "\n",
    "from transformers import AutoModel, AutoConfig\n",
    "from utils.funs import create_dict\n",
    "from utils.scores import get_scores"
   ]
  },
  {
   "cell_type": "code",
   "execution_count": 4,
   "metadata": {},
   "outputs": [
    {
     "name": "stdout",
     "output_type": "stream",
     "text": [
      "PhiModel(\n",
      "  (embed_tokens): Embedding(51200, 2048)\n",
      "  (layers): ModuleList(\n",
      "    (0-23): 24 x PhiDecoderLayer(\n",
      "      (self_attn): PhiAttention(\n",
      "        (q_proj): Linear(in_features=2048, out_features=2048, bias=True)\n",
      "        (k_proj): Linear(in_features=2048, out_features=2048, bias=True)\n",
      "        (v_proj): Linear(in_features=2048, out_features=2048, bias=True)\n",
      "        (dense): Linear(in_features=2048, out_features=2048, bias=True)\n",
      "      )\n",
      "      (mlp): PhiMLP(\n",
      "        (activation_fn): NewGELUActivation()\n",
      "        (fc1): Linear(in_features=2048, out_features=8192, bias=True)\n",
      "        (fc2): Linear(in_features=8192, out_features=2048, bias=True)\n",
      "      )\n",
      "      (input_layernorm): LayerNorm((2048,), eps=1e-05, elementwise_affine=True)\n",
      "      (resid_dropout): Dropout(p=0.0, inplace=False)\n",
      "    )\n",
      "  )\n",
      "  (rotary_emb): PhiRotaryEmbedding()\n",
      "  (embed_dropout): Dropout(p=0.0, inplace=False)\n",
      "  (final_layernorm): LayerNorm((2048,), eps=1e-05, elementwise_affine=True)\n",
      ")\n"
     ]
    }
   ],
   "source": [
    "model_name = 'microsoft/phi-1'\n",
    "config = AutoConfig.from_pretrained(model_name)\n",
    "model = AutoModel.from_pretrained(model_name)\n",
    "print(model)"
   ]
  },
  {
   "cell_type": "code",
   "execution_count": 9,
   "metadata": {},
   "outputs": [],
   "source": [
    "models, dir = create_dict('language-models', 'phi-1.pkl')\n",
    "\n",
    "path = [\"layers[\", \n",
    "        \"].self_attn.q_proj.weight\", \n",
    "        \"].self_attn.k_proj.weight\"]"
   ]
  },
  {
   "cell_type": "code",
   "execution_count": null,
   "metadata": {},
   "outputs": [],
   "source": [
    "model_name = 'microsoft/phi-1'\n",
    "config = AutoConfig.from_pretrained(model_name)\n",
    "model = AutoModel.from_pretrained(model_name)\n",
    "models = get_scores(models,\n",
    "                    model_name, model, config,\n",
    "                    path, download_model = True,\n",
    "                    attn_type = \"BERT\")\n",
    "\n",
    "model_name = 'microsoft/phi-1_5'\n",
    "config = AutoConfig.from_pretrained(model_name)\n",
    "model = AutoModel.from_pretrained(model_name)\n",
    "models = get_scores(models,\n",
    "                    model_name, model, config,\n",
    "                    path, download_model = True,\n",
    "                    attn_type = \"GPT\")"
   ]
  },
  {
   "cell_type": "code",
   "execution_count": null,
   "metadata": {},
   "outputs": [],
   "source": [
    "'save'\n",
    "with open(dir, 'wb') as file:\n",
    "    pickle.dump(models, file)"
   ]
  },
  {
   "cell_type": "code",
   "execution_count": null,
   "metadata": {},
   "outputs": [],
   "source": []
  }
 ],
 "metadata": {
  "kernelspec": {
   "display_name": "Python 3 (ipykernel)",
   "language": "python",
   "name": "python3"
  },
  "language_info": {
   "codemirror_mode": {
    "name": "ipython",
    "version": 3
   },
   "file_extension": ".py",
   "mimetype": "text/x-python",
   "name": "python",
   "nbconvert_exporter": "python",
   "pygments_lexer": "ipython3",
   "version": "3.10.14"
  }
 },
 "nbformat": 4,
 "nbformat_minor": 4
}
