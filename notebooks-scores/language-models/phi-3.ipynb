{
 "cells": [
  {
   "cell_type": "code",
   "execution_count": 1,
   "metadata": {},
   "outputs": [
    {
     "name": "stderr",
     "output_type": "stream",
     "text": [
      "/opt/homebrew/Caskroom/miniconda/base/envs/attention-geometry/lib/python3.12/site-packages/tqdm/auto.py:21: TqdmWarning: IProgress not found. Please update jupyter and ipywidgets. See https://ipywidgets.readthedocs.io/en/stable/user_install.html\n",
      "  from .autonotebook import tqdm as notebook_tqdm\n",
      "/Users/matteosaponati/Desktop/repos/attention-geometry/utils/funs.py:248: SyntaxWarning: invalid escape sequence '\\d'\n",
      "  return [int(text) if text.isdigit() else text.lower() for text in re.split('(\\d+)', s)]\n"
     ]
    }
   ],
   "source": [
    "import pickle\n",
    "from accelerate import init_empty_weights\n",
    "\n",
    "from transformers import AutoModel, AutoConfig, AutoModelForCausalLM\n",
    "from utils.funs import create_dict\n",
    "from utils.scores import get_scores"
   ]
  },
  {
   "cell_type": "code",
   "execution_count": 2,
   "metadata": {},
   "outputs": [],
   "source": [
    "models, dir = create_dict('language-models', 'phi-3.pkl')\n",
    "\n",
    "path = [\"layers[\", \n",
    "        \"].self_attn.qkv_proj.weight\"]"
   ]
  },
  {
   "cell_type": "code",
   "execution_count": 4,
   "metadata": {},
   "outputs": [
    {
     "ename": "OSError",
     "evalue": "AutoModel is designed to be instantiated using the `AutoModel.from_pretrained(pretrained_model_name_or_path)` or `AutoModel.from_config(config)` methods.",
     "output_type": "error",
     "traceback": [
      "\u001b[0;31m---------------------------------------------------------------------------\u001b[0m",
      "\u001b[0;31mOSError\u001b[0m                                   Traceback (most recent call last)",
      "Cell \u001b[0;32mIn[4], line 43\u001b[0m\n\u001b[1;32m     41\u001b[0m model_name \u001b[38;5;241m=\u001b[39m \u001b[38;5;124m'\u001b[39m\u001b[38;5;124mmicrosoft/Phi-3-medium-4k-instruct\u001b[39m\u001b[38;5;124m'\u001b[39m\n\u001b[1;32m     42\u001b[0m config \u001b[38;5;241m=\u001b[39m AutoConfig\u001b[38;5;241m.\u001b[39mfrom_pretrained(model_name)\n\u001b[0;32m---> 43\u001b[0m model \u001b[38;5;241m=\u001b[39m \u001b[43mAutoModel\u001b[49m\u001b[43m(\u001b[49m\u001b[43mconfig\u001b[49m\u001b[43m)\u001b[49m\n\u001b[1;32m     44\u001b[0m models \u001b[38;5;241m=\u001b[39m get_scores(models,\n\u001b[1;32m     45\u001b[0m                     model_name, model, config,\n\u001b[1;32m     46\u001b[0m                     path, download_model \u001b[38;5;241m=\u001b[39m \u001b[38;5;28;01mTrue\u001b[39;00m,\n\u001b[1;32m     47\u001b[0m                     attn_type \u001b[38;5;241m=\u001b[39m \u001b[38;5;124m\"\u001b[39m\u001b[38;5;124mBERT\u001b[39m\u001b[38;5;124m\"\u001b[39m)\n\u001b[1;32m     49\u001b[0m \u001b[38;5;66;03m# model_name = 'microsoft/Phi-3-medium-128k-instruct'\u001b[39;00m\n\u001b[1;32m     50\u001b[0m \u001b[38;5;66;03m# config = AutoConfig.from_pretrained(model_name)\u001b[39;00m\n\u001b[1;32m     51\u001b[0m \u001b[38;5;66;03m# model = AutoModel.from_pretrained(model_name)\u001b[39;00m\n\u001b[0;32m   (...)\u001b[0m\n\u001b[1;32m     54\u001b[0m \u001b[38;5;66;03m#                     path, download_model = False,\u001b[39;00m\n\u001b[1;32m     55\u001b[0m \u001b[38;5;66;03m#                     attn_type = \"BERT\")\u001b[39;00m\n",
      "File \u001b[0;32m/opt/homebrew/Caskroom/miniconda/base/envs/attention-geometry/lib/python3.12/site-packages/transformers/models/auto/auto_factory.py:412\u001b[0m, in \u001b[0;36m_BaseAutoModelClass.__init__\u001b[0;34m(self, *args, **kwargs)\u001b[0m\n\u001b[1;32m    411\u001b[0m \u001b[38;5;28;01mdef\u001b[39;00m\u001b[38;5;250m \u001b[39m\u001b[38;5;21m__init__\u001b[39m(\u001b[38;5;28mself\u001b[39m, \u001b[38;5;241m*\u001b[39margs, \u001b[38;5;241m*\u001b[39m\u001b[38;5;241m*\u001b[39mkwargs):\n\u001b[0;32m--> 412\u001b[0m     \u001b[38;5;28;01mraise\u001b[39;00m \u001b[38;5;167;01mEnvironmentError\u001b[39;00m(\n\u001b[1;32m    413\u001b[0m         \u001b[38;5;124mf\u001b[39m\u001b[38;5;124m\"\u001b[39m\u001b[38;5;132;01m{\u001b[39;00m\u001b[38;5;28mself\u001b[39m\u001b[38;5;241m.\u001b[39m\u001b[38;5;18m__class__\u001b[39m\u001b[38;5;241m.\u001b[39m\u001b[38;5;18m__name__\u001b[39m\u001b[38;5;132;01m}\u001b[39;00m\u001b[38;5;124m is designed to be instantiated \u001b[39m\u001b[38;5;124m\"\u001b[39m\n\u001b[1;32m    414\u001b[0m         \u001b[38;5;124mf\u001b[39m\u001b[38;5;124m\"\u001b[39m\u001b[38;5;124musing the `\u001b[39m\u001b[38;5;132;01m{\u001b[39;00m\u001b[38;5;28mself\u001b[39m\u001b[38;5;241m.\u001b[39m\u001b[38;5;18m__class__\u001b[39m\u001b[38;5;241m.\u001b[39m\u001b[38;5;18m__name__\u001b[39m\u001b[38;5;132;01m}\u001b[39;00m\u001b[38;5;124m.from_pretrained(pretrained_model_name_or_path)` or \u001b[39m\u001b[38;5;124m\"\u001b[39m\n\u001b[1;32m    415\u001b[0m         \u001b[38;5;124mf\u001b[39m\u001b[38;5;124m\"\u001b[39m\u001b[38;5;124m`\u001b[39m\u001b[38;5;132;01m{\u001b[39;00m\u001b[38;5;28mself\u001b[39m\u001b[38;5;241m.\u001b[39m\u001b[38;5;18m__class__\u001b[39m\u001b[38;5;241m.\u001b[39m\u001b[38;5;18m__name__\u001b[39m\u001b[38;5;132;01m}\u001b[39;00m\u001b[38;5;124m.from_config(config)` methods.\u001b[39m\u001b[38;5;124m\"\u001b[39m\n\u001b[1;32m    416\u001b[0m     )\n",
      "\u001b[0;31mOSError\u001b[0m: AutoModel is designed to be instantiated using the `AutoModel.from_pretrained(pretrained_model_name_or_path)` or `AutoModel.from_config(config)` methods."
     ]
    }
   ],
   "source": [
    "# model_name = 'microsoft/Phi-3-mini-4k-instruct'\n",
    "# config = AutoConfig.from_pretrained(model_name)\n",
    "# model = AutoModel.from_config(config)\n",
    "# models = get_scores(models,\n",
    "#                     model_name, model, config,\n",
    "#                     path, download_model = True,\n",
    "#                     attn_type = 'gpt-neox')\n",
    "\n",
    "# model_name = 'microsoft/Phi-3-mini-128k-instruct'\n",
    "# config = AutoConfig.from_pretrained(model_name)\n",
    "# model = AutoModel.from_pretrained(model_name)\n",
    "# models = get_scores(models,\n",
    "#                     model_name, model, config,\n",
    "#                     path, download_model = True,\n",
    "#                     attn_type = 'gpt-neox')\n",
    "\n",
    "# model_name = 'microsoft/Phi-3-mini-4k-instruct-gguf'\n",
    "# config = AutoConfig.from_pretrained(model_name)\n",
    "# model = AutoModel.from_pretrained(model_name)\n",
    "# models = get_scores(models,\n",
    "#                     model_name, model, config,\n",
    "#                     path, download_model = True,\n",
    "#                     attn_type = 'gpt-neox')\n",
    "\n",
    "# model_name = 'microsoft/Phi-3-small-8k-instruct'\n",
    "# config = AutoConfig.from_pretrained(model_name, trust_remote_code=True)\n",
    "# model = AutoModel.from_pretrained(model_name)\n",
    "# models = get_scores(models,\n",
    "#                     model_name, model, config,\n",
    "#                     path, download_model = False,\n",
    "#                     attn_type = 'gpt-neox')\n",
    "\n",
    "# model_name = 'microsoft/Phi-3-small-128k-instruct'\n",
    "# config = AutoConfig.from_pretrained(model_name)\n",
    "# model = AutoModel.from_pretrained(model_name)\n",
    "# models = get_scores(models,\n",
    "#                     model_name, model, config,\n",
    "#                     path, download_model = False,\n",
    "#                     attn_type = \"BERT\")\n",
    "\n",
    "# model_name = 'microsoft/Phi-3-medium-4k-instruct'\n",
    "# config = AutoConfig.from_pretrained(model_name)\n",
    "# model = AutoModel(config)\n",
    "# models = get_scores(models,\n",
    "#                     model_name, model, config,\n",
    "#                     path, download_model = True,\n",
    "#                     attn_type = \"BERT\")\n",
    "\n",
    "# model_name = 'microsoft/Phi-3-medium-128k-instruct'\n",
    "# config = AutoConfig.from_pretrained(model_name)\n",
    "# model = AutoModel.from_pretrained(model_name)\n",
    "# models = get_scores(models,\n",
    "#                     model_name, model, config,\n",
    "#                     path, download_model = False,\n",
    "#                     attn_type = \"BERT\")"
   ]
  },
  {
   "cell_type": "code",
   "execution_count": 10,
   "metadata": {},
   "outputs": [],
   "source": [
    "'save'\n",
    "with open(dir, 'wb') as file:\n",
    "    pickle.dump(models, file)"
   ]
  },
  {
   "cell_type": "code",
   "execution_count": null,
   "metadata": {},
   "outputs": [],
   "source": []
  }
 ],
 "metadata": {
  "kernelspec": {
   "display_name": "attention-geometry",
   "language": "python",
   "name": "python3"
  },
  "language_info": {
   "codemirror_mode": {
    "name": "ipython",
    "version": 3
   },
   "file_extension": ".py",
   "mimetype": "text/x-python",
   "name": "python",
   "nbconvert_exporter": "python",
   "pygments_lexer": "ipython3",
   "version": "3.12.3"
  }
 },
 "nbformat": 4,
 "nbformat_minor": 4
}
