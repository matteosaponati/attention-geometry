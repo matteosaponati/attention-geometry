{
 "cells": [
  {
   "cell_type": "code",
   "execution_count": 2,
   "metadata": {},
   "outputs": [],
   "source": [
    "import pickle\n",
    "from accelerate import init_empty_weights\n",
    "\n",
    "from transformers import AutoConfig, AutoModelForCausalLM\n",
    "from utils.funs import create_dict\n",
    "from utils.scores import get_scores"
   ]
  },
  {
   "cell_type": "code",
   "execution_count": 3,
   "metadata": {},
   "outputs": [],
   "source": [
    "models, dir = create_dict('language-models', 'MISTRAL.pkl')\n",
    "\n",
    "path = [\"model.layers.\", \n",
    "        \".self_attn.q_proj.weight\", \n",
    "        \".self_attn.k_proj.weight\"]"
   ]
  },
  {
   "cell_type": "code",
   "execution_count": null,
   "metadata": {},
   "outputs": [],
   "source": [
    "model_name = \"mistralai/Mistral-7B-v0.1\"\n",
    "config =  AutoConfig.from_pretrained(model_name)\n",
    "with init_empty_weights(): \n",
    "    model = AutoModelForCausalLM.from_config(config)\n",
    "models = get_scores(models,\n",
    "                    model_name, model, config,\n",
    "                    path, download_model = False,\n",
    "                    attn_type = \"grouped-attention\")\n",
    "\n",
    "model_name = \"mistralai/Mixtral-8x22B-v0.1\"\n",
    "config =  AutoConfig.from_pretrained(model_name)\n",
    "with init_empty_weights(): \n",
    "    model = AutoModelForCausalLM.from_config(config)\n",
    "models = get_scores(models,\n",
    "                    model_name, model, config,\n",
    "                    path, download_model = False,\n",
    "                    attn_type = \"grouped-attention\")"
   ]
  },
  {
   "cell_type": "code",
   "execution_count": 11,
   "metadata": {},
   "outputs": [],
   "source": [
    "'save'\n",
    "with open(dir, 'wb') as file:\n",
    "    pickle.dump(models, file)"
   ]
  },
  {
   "cell_type": "code",
   "execution_count": null,
   "metadata": {},
   "outputs": [],
   "source": []
  }
 ],
 "metadata": {
  "kernelspec": {
   "display_name": "attention-geometry",
   "language": "python",
   "name": "python3"
  },
  "language_info": {
   "codemirror_mode": {
    "name": "ipython",
    "version": 3
   },
   "file_extension": ".py",
   "mimetype": "text/x-python",
   "name": "python",
   "nbconvert_exporter": "python",
   "pygments_lexer": "ipython3",
   "version": "3.12.3"
  }
 },
 "nbformat": 4,
 "nbformat_minor": 2
}
