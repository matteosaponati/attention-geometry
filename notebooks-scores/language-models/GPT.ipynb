{
 "cells": [
  {
   "cell_type": "code",
   "execution_count": 1,
   "metadata": {},
   "outputs": [
    {
     "name": "stderr",
     "output_type": "stream",
     "text": [
      "/opt/homebrew/Caskroom/miniconda/base/envs/attention-geometry/lib/python3.12/site-packages/tqdm/auto.py:21: TqdmWarning: IProgress not found. Please update jupyter and ipywidgets. See https://ipywidgets.readthedocs.io/en/stable/user_install.html\n",
      "  from .autonotebook import tqdm as notebook_tqdm\n"
     ]
    }
   ],
   "source": [
    "import pickle\n",
    "\n",
    "from transformers import OpenAIGPTModel, GPT2Model, AutoModelForCausalLM, AutoConfig\n",
    "from utils.funs import create_dict\n",
    "from utils.scores import get_scores"
   ]
  },
  {
   "cell_type": "code",
   "execution_count": 2,
   "metadata": {},
   "outputs": [],
   "source": [
    "models, dir = create_dict('language-models', 'GPT.pkl')\n",
    "\n",
    "path = [\"h[\", \"].attn.c_attn.weight\"]"
   ]
  },
  {
   "cell_type": "code",
   "execution_count": 3,
   "metadata": {},
   "outputs": [
    {
     "name": "stdout",
     "output_type": "stream",
     "text": [
      "100% processing complete 12\n",
      "100% processing complete 12\n",
      "100% processing complete 24\n",
      "100% processing complete 36\n",
      "100% processing complete 48\n",
      "100% processing complete \n"
     ]
    }
   ],
   "source": [
    "'GPT 1 (l = 12, d = 768, h = 12 ; 110M parameters)'\n",
    "model_name = \"openai-gpt\"\n",
    "config = AutoConfig.from_pretrained(model_name)\n",
    "model = OpenAIGPTModel.from_pretrained(model_name)\n",
    "models = get_scores(models,\n",
    "                    model_name, model, config,\n",
    "                    path, download_model = True,\n",
    "                    attn_type = \"GPT\")\n",
    "\n",
    "'GPT2 (l = 12, d = 768, h = 12 ; 117M parameters)'\n",
    "model_name = 'gpt2'\n",
    "config = AutoConfig.from_pretrained(model_name)\n",
    "model = GPT2Model.from_pretrained(model_name)\n",
    "models = get_scores(models,\n",
    "                    model_name, model, config,\n",
    "                    path, download_model = True,\n",
    "                    attn_type = \"GPT\")\n",
    "\n",
    "'GPT2 medium (l = 24, d = 1024, h = 16 ; 345M parameters)'\n",
    "model_name = 'gpt2-medium'\n",
    "config = AutoConfig.from_pretrained(model_name)\n",
    "model = GPT2Model.from_pretrained(model_name)\n",
    "models = get_scores(models,\n",
    "                    model_name, model, config,\n",
    "                    path, download_model = True,\n",
    "                    attn_type = \"GPT\")\n",
    "\n",
    "'GPT2 large (l = 36, d = 1280, h = 20 ; 774M parameters)'\n",
    "model_name = 'gpt2-large'\n",
    "config = AutoConfig.from_pretrained(model_name)\n",
    "model = GPT2Model.from_pretrained(model_name)\n",
    "models = get_scores(models,\n",
    "                    model_name, model, config,\n",
    "                    path, download_model = True,\n",
    "                    attn_type = \"GPT\")\n",
    "\n",
    "'GPT2 xl (l = 36, d = 1280, h = 20 ; 774M parameters)'\n",
    "model_name = 'gpt2-xl'\n",
    "config = AutoConfig.from_pretrained(model_name)\n",
    "model = GPT2Model.from_pretrained(model_name)\n",
    "models = get_scores(models,\n",
    "                    model_name, model, config,\n",
    "                    path, download_model = True,\n",
    "                    attn_type = \"GPT\")\n",
    "\n",
    "path = [\"transformer.h[\", \"].attn.c_attn.weight\"]\n",
    "'DistillGPT2 base model (l = 6, d = 768, h = 12 ; tot num parameters 82M)'\n",
    "model_name = \"distilbert/distilgpt2\"\n",
    "config = AutoConfig.from_pretrained(model_name)\n",
    "model = AutoModelForCausalLM.from_pretrained(model_name)\n",
    "models = get_scores(models,\n",
    "                    model_name, model, config,\n",
    "                    path, download_model = True,\n",
    "                    attn_type = \"GPT\")"
   ]
  },
  {
   "cell_type": "code",
   "execution_count": 4,
   "metadata": {},
   "outputs": [],
   "source": [
    "'save'\n",
    "with open(dir, 'wb') as file:\n",
    "    pickle.dump(models, file)"
   ]
  },
  {
   "cell_type": "code",
   "execution_count": 4,
   "metadata": {},
   "outputs": [
    {
     "data": {
      "text/plain": [
       "[12,\n",
       " 768,\n",
       " 12,\n",
       " 64,\n",
       " array([0.42069742, 0.5616132 , 0.49258474, 0.56408685, 0.56221986,\n",
       "        0.53194255, 0.50834453, 0.51267791, 0.5340969 , 0.54047459,\n",
       "        0.53360599, 0.51101595]),\n",
       " array([-0.43079498,  0.26363304,  0.18154709,  0.28542316,  0.37109569,\n",
       "         0.25930387,  0.17999195,  0.25155771,  0.14817676,  0.09496732,\n",
       "         0.1125645 ,  0.05802089]),\n",
       " [85054464, 116534784]]"
      ]
     },
     "execution_count": 4,
     "metadata": {},
     "output_type": "execute_result"
    }
   ],
   "source": [
    "models['gpt1']"
   ]
  },
  {
   "cell_type": "code",
   "execution_count": null,
   "metadata": {},
   "outputs": [],
   "source": []
  }
 ],
 "metadata": {
  "kernelspec": {
   "display_name": "attention-geometry",
   "language": "python",
   "name": "python3"
  },
  "language_info": {
   "codemirror_mode": {
    "name": "ipython",
    "version": 3
   },
   "file_extension": ".py",
   "mimetype": "text/x-python",
   "name": "python",
   "nbconvert_exporter": "python",
   "pygments_lexer": "ipython3",
   "version": "3.12.3"
  }
 },
 "nbformat": 4,
 "nbformat_minor": 2
}
