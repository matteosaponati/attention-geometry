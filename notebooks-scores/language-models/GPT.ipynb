{
 "cells": [
  {
   "cell_type": "code",
   "execution_count": 1,
   "metadata": {},
   "outputs": [],
   "source": [
    "import pickle\n",
    "\n",
    "from transformers import OpenAIGPTModel, GPT2Model, AutoModelForCausalLM, AutoConfig\n",
    "from utils.funs import create_dict\n",
    "from utils.scores import get_scores"
   ]
  },
  {
   "cell_type": "code",
   "execution_count": 2,
   "metadata": {},
   "outputs": [],
   "source": [
    "models, dir = create_dict('language-models', 'GPT.pkl')\n",
    "\n",
    "path = [\"h[\", \"].attn.c_attn.weight\"]"
   ]
  },
  {
   "cell_type": "code",
   "execution_count": 3,
   "metadata": {},
   "outputs": [
    {
     "name": "stdout",
     "output_type": "stream",
     "text": [
      "100% processing complete 12\n",
      "100% processing complete 12\n",
      "100% processing complete 24\n",
      "100% processing complete 36\n",
      "100% processing complete 48\n",
      "100% processing complete \n"
     ]
    }
   ],
   "source": [
    "'GPT 1 (l = 12, d = 768, h = 12 ; 110M parameters)'\n",
    "model_name = \"openai-gpt\"\n",
    "config = AutoConfig.from_pretrained(model_name)\n",
    "model = OpenAIGPTModel.from_pretrained(model_name)\n",
    "models = get_scores(models,\n",
    "                    model_name, model, config,\n",
    "                    path, download_model = True,\n",
    "                    attn_type = \"GPT\")\n",
    "\n",
    "'GPT2 (l = 12, d = 768, h = 12 ; 117M parameters)'\n",
    "model_name = 'gpt2'\n",
    "config = AutoConfig.from_pretrained(model_name)\n",
    "model = GPT2Model.from_pretrained(model_name)\n",
    "models = get_scores(models,\n",
    "                    model_name, model, config,\n",
    "                    path, download_model = True,\n",
    "                    attn_type = \"GPT\")\n",
    "\n",
    "'GPT2 medium (l = 24, d = 1024, h = 16 ; 345M parameters)'\n",
    "model_name = 'gpt2-medium'\n",
    "config = AutoConfig.from_pretrained(model_name)\n",
    "model = GPT2Model.from_pretrained(model_name)\n",
    "models = get_scores(models,\n",
    "                    model_name, model, config,\n",
    "                    path, download_model = True,\n",
    "                    attn_type = \"GPT\")\n",
    "\n",
    "'GPT2 large (l = 36, d = 1280, h = 20 ; 774M parameters)'\n",
    "model_name = 'gpt2-large'\n",
    "config = AutoConfig.from_pretrained(model_name)\n",
    "model = GPT2Model.from_pretrained(model_name)\n",
    "models = get_scores(models,\n",
    "                    model_name, model, config,\n",
    "                    path, download_model = True,\n",
    "                    attn_type = \"GPT\")\n",
    "\n",
    "'GPT2 xl (l = 36, d = 1280, h = 20 ; 774M parameters)'\n",
    "model_name = 'gpt2-xl'\n",
    "config = AutoConfig.from_pretrained(model_name)\n",
    "model = GPT2Model.from_pretrained(model_name)\n",
    "models = get_scores(models,\n",
    "                    model_name, model, config,\n",
    "                    path, download_model = True,\n",
    "                    attn_type = \"GPT\")\n",
    "\n",
    "path = [\"transformer.h[\", \"].attn.c_attn.weight\"]\n",
    "'DistillGPT2 base model (l = 6, d = 768, h = 12 ; tot num parameters 82M)'\n",
    "model_name = \"distilbert/distilgpt2\"\n",
    "config = AutoConfig.from_pretrained(model_name)\n",
    "model = AutoModelForCausalLM.from_pretrained(model_name)\n",
    "models = get_scores(models,\n",
    "                    model_name, model, config,\n",
    "                    path, download_model = True,\n",
    "                    attn_type = \"GPT\")"
   ]
  },
  {
   "cell_type": "code",
   "execution_count": 4,
   "metadata": {},
   "outputs": [],
   "source": [
    "'save'\n",
    "with open(dir, 'wb') as file:\n",
    "    pickle.dump(models, file)"
   ]
  },
  {
   "cell_type": "code",
   "execution_count": null,
   "metadata": {},
   "outputs": [],
   "source": []
  }
 ],
 "metadata": {
  "kernelspec": {
   "display_name": "attention-geometry",
   "language": "python",
   "name": "python3"
  },
  "language_info": {
   "codemirror_mode": {
    "name": "ipython",
    "version": 3
   },
   "file_extension": ".py",
   "mimetype": "text/x-python",
   "name": "python",
   "nbconvert_exporter": "python",
   "pygments_lexer": "ipython3",
   "version": "3.11.5"
  }
 },
 "nbformat": 4,
 "nbformat_minor": 2
}
