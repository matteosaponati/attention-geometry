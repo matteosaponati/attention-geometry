{
 "cells": [
  {
   "cell_type": "code",
   "execution_count": 1,
   "metadata": {},
   "outputs": [
    {
     "name": "stderr",
     "output_type": "stream",
     "text": [
      "/opt/homebrew/Caskroom/miniconda/base/envs/attention-geometry/lib/python3.11/site-packages/tqdm/auto.py:21: TqdmWarning: IProgress not found. Please update jupyter and ipywidgets. See https://ipywidgets.readthedocs.io/en/stable/user_install.html\n",
      "  from .autonotebook import tqdm as notebook_tqdm\n"
     ]
    }
   ],
   "source": [
    "import pickle\n",
    "\n",
    "from transformers import AlbertModel, AutoConfig\n",
    "from utils.funs import create_dict\n",
    "from utils.scores import get_scores"
   ]
  },
  {
   "cell_type": "code",
   "execution_count": 2,
   "metadata": {},
   "outputs": [],
   "source": [
    "models, dir = create_dict('language-models', 'ALBERT.pkl')\n",
    "\n",
    "path = [\"encoder.albert_layer_groups[\", \n",
    "        \"].albert_layers[0].attention.query.weight\", \n",
    "        \"].albert_layers[0].attention.key.weight\"]"
   ]
  },
  {
   "cell_type": "code",
   "execution_count": 3,
   "metadata": {},
   "outputs": [
    {
     "name": "stdout",
     "output_type": "stream",
     "text": [
      "100% processing complete \n",
      "100% processing complete \n",
      "100% processing complete \n",
      "100% processing complete \n"
     ]
    }
   ],
   "source": [
    "'ALBERT base model (l = 12, d = 768, h = 12)'\n",
    "model_name = \"albert-base-v2\"\n",
    "config = AutoConfig.from_pretrained(model_name)\n",
    "model = AlbertModel.from_pretrained(model_name)\n",
    "config.num_hidden_layers = 1\n",
    "models = get_scores(models,\n",
    "                    model_name, model, config,\n",
    "                    path, download_model = True,\n",
    "                    attn_type = \"ALBERT\")\n",
    "\n",
    "'ALBERT large model (l = 24, d = 1024, h = 16)'\n",
    "model_name = \"albert-large-v2\"\n",
    "config = AutoConfig.from_pretrained(model_name)\n",
    "model = AlbertModel.from_pretrained(model_name)\n",
    "config.num_hidden_layers = 1\n",
    "models = get_scores(models,\n",
    "                    model_name, model, config,\n",
    "                    path, download_model = True,\n",
    "                    attn_type = \"ALBERT\")\n",
    "\n",
    "'ALBERT xlarge model (l = 24, d = 2048, h = 16)'\n",
    "model_name =\"albert-xlarge-v2\"\n",
    "config = AutoConfig.from_pretrained(model_name)\n",
    "model = AlbertModel.from_pretrained(model_name)\n",
    "config.num_hidden_layers = 1\n",
    "models = get_scores(models,\n",
    "                    model_name, model, config,\n",
    "                    path, download_model = True,\n",
    "                    attn_type = \"ALBERT\")\n",
    "\n",
    "'ALBERT xxlarge model (l = 12, d = 4096, h = 64)'\n",
    "model_name =\"albert-xxlarge-v2\"\n",
    "config = AutoConfig.from_pretrained(model_name)\n",
    "model = AlbertModel.from_pretrained(model_name)\n",
    "config.num_hidden_layers = 1\n",
    "models = get_scores(models,\n",
    "                    model_name, model, config,\n",
    "                    path, download_model = True,\n",
    "                    attn_type = \"ALBERT\")"
   ]
  },
  {
   "cell_type": "code",
   "execution_count": 4,
   "metadata": {},
   "outputs": [],
   "source": [
    "'save'\n",
    "with open(dir, 'wb') as file:\n",
    "    pickle.dump(models, file)"
   ]
  },
  {
   "cell_type": "code",
   "execution_count": null,
   "metadata": {},
   "outputs": [],
   "source": []
  }
 ],
 "metadata": {
  "kernelspec": {
   "display_name": "attention-geometry",
   "language": "python",
   "name": "python3"
  },
  "language_info": {
   "codemirror_mode": {
    "name": "ipython",
    "version": 3
   },
   "file_extension": ".py",
   "mimetype": "text/x-python",
   "name": "python",
   "nbconvert_exporter": "python",
   "pygments_lexer": "ipython3",
   "version": "3.11.5"
  }
 },
 "nbformat": 4,
 "nbformat_minor": 2
}
