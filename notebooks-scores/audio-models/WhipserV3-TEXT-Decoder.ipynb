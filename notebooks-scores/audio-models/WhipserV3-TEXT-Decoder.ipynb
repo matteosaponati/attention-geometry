{
 "cells": [
  {
   "cell_type": "code",
   "metadata": {
    "ExecuteTime": {
     "end_time": "2024-12-29T16:01:20.988675Z",
     "start_time": "2024-12-29T16:01:12.381889Z"
    }
   },
   "source": [
    "import pickle\n",
    "\n",
    "from transformers import AutoModel, AutoConfig\n",
    "from utils.funs import create_dict\n",
    "from utils.scores import get_scores"
   ],
   "outputs": [],
   "execution_count": 1
  },
  {
   "metadata": {
    "ExecuteTime": {
     "end_time": "2024-12-29T17:31:46.667390Z",
     "start_time": "2024-12-29T16:01:20.998839Z"
    }
   },
   "cell_type": "code",
   "source": [
    "model_name = \"openai/whisper-large-v3\"\n",
    "config = AutoConfig.from_pretrained(model_name)\n",
    "model = AutoModel.from_pretrained(model_name)\n",
    "print(model)"
   ],
   "outputs": [
    {
     "data": {
      "text/plain": [
       "config.json:   0%|          | 0.00/1.27k [00:00<?, ?B/s]"
      ],
      "application/vnd.jupyter.widget-view+json": {
       "version_major": 2,
       "version_minor": 0,
       "model_id": "51db750f8ad241288e23470a979a92e9"
      }
     },
     "metadata": {},
     "output_type": "display_data"
    },
    {
     "name": "stderr",
     "output_type": "stream",
     "text": [
      "2024-12-29 17:01:27.201017: I tensorflow/core/platform/cpu_feature_guard.cc:210] This TensorFlow binary is optimized to use available CPU instructions in performance-critical operations.\n",
      "To enable the following instructions: AVX2 AVX512F AVX512_VNNI FMA, in other operations, rebuild TensorFlow with the appropriate compiler flags.\n"
     ]
    },
    {
     "data": {
      "text/plain": [
       "model.safetensors:   0%|          | 0.00/3.09G [00:00<?, ?B/s]"
      ],
      "application/vnd.jupyter.widget-view+json": {
       "version_major": 2,
       "version_minor": 0,
       "model_id": "c041c1966042412eb9dbc027e235603b"
      }
     },
     "metadata": {},
     "output_type": "display_data"
    },
    {
     "name": "stdout",
     "output_type": "stream",
     "text": [
      "WhisperModel(\n",
      "  (encoder): WhisperEncoder(\n",
      "    (conv1): Conv1d(128, 1280, kernel_size=(3,), stride=(1,), padding=(1,))\n",
      "    (conv2): Conv1d(1280, 1280, kernel_size=(3,), stride=(2,), padding=(1,))\n",
      "    (embed_positions): Embedding(1500, 1280)\n",
      "    (layers): ModuleList(\n",
      "      (0-31): 32 x WhisperEncoderLayer(\n",
      "        (self_attn): WhisperSdpaAttention(\n",
      "          (k_proj): Linear(in_features=1280, out_features=1280, bias=False)\n",
      "          (v_proj): Linear(in_features=1280, out_features=1280, bias=True)\n",
      "          (q_proj): Linear(in_features=1280, out_features=1280, bias=True)\n",
      "          (out_proj): Linear(in_features=1280, out_features=1280, bias=True)\n",
      "        )\n",
      "        (self_attn_layer_norm): LayerNorm((1280,), eps=1e-05, elementwise_affine=True)\n",
      "        (activation_fn): GELUActivation()\n",
      "        (fc1): Linear(in_features=1280, out_features=5120, bias=True)\n",
      "        (fc2): Linear(in_features=5120, out_features=1280, bias=True)\n",
      "        (final_layer_norm): LayerNorm((1280,), eps=1e-05, elementwise_affine=True)\n",
      "      )\n",
      "    )\n",
      "    (layer_norm): LayerNorm((1280,), eps=1e-05, elementwise_affine=True)\n",
      "  )\n",
      "  (decoder): WhisperDecoder(\n",
      "    (embed_tokens): Embedding(51866, 1280, padding_idx=50256)\n",
      "    (embed_positions): WhisperPositionalEmbedding(448, 1280)\n",
      "    (layers): ModuleList(\n",
      "      (0-31): 32 x WhisperDecoderLayer(\n",
      "        (self_attn): WhisperSdpaAttention(\n",
      "          (k_proj): Linear(in_features=1280, out_features=1280, bias=False)\n",
      "          (v_proj): Linear(in_features=1280, out_features=1280, bias=True)\n",
      "          (q_proj): Linear(in_features=1280, out_features=1280, bias=True)\n",
      "          (out_proj): Linear(in_features=1280, out_features=1280, bias=True)\n",
      "        )\n",
      "        (activation_fn): GELUActivation()\n",
      "        (self_attn_layer_norm): LayerNorm((1280,), eps=1e-05, elementwise_affine=True)\n",
      "        (encoder_attn): WhisperSdpaAttention(\n",
      "          (k_proj): Linear(in_features=1280, out_features=1280, bias=False)\n",
      "          (v_proj): Linear(in_features=1280, out_features=1280, bias=True)\n",
      "          (q_proj): Linear(in_features=1280, out_features=1280, bias=True)\n",
      "          (out_proj): Linear(in_features=1280, out_features=1280, bias=True)\n",
      "        )\n",
      "        (encoder_attn_layer_norm): LayerNorm((1280,), eps=1e-05, elementwise_affine=True)\n",
      "        (fc1): Linear(in_features=1280, out_features=5120, bias=True)\n",
      "        (fc2): Linear(in_features=5120, out_features=1280, bias=True)\n",
      "        (final_layer_norm): LayerNorm((1280,), eps=1e-05, elementwise_affine=True)\n",
      "      )\n",
      "    )\n",
      "    (layer_norm): LayerNorm((1280,), eps=1e-05, elementwise_affine=True)\n",
      "  )\n",
      ")\n"
     ]
    }
   ],
   "execution_count": 2
  },
  {
   "cell_type": "code",
   "metadata": {},
   "source": [
    "models, dir = create_dict('audio-models', 'whisperv3-decoder.pkl')\n",
    "\n",
    "path = [\"decoder.layers[\", \n",
    "        \"].self_attn.q_proj.weight\", \n",
    "        \"].self_attn.k_proj.weight\"]"
   ],
   "outputs": [],
   "execution_count": null
  },
  {
   "metadata": {},
   "cell_type": "code",
   "source": "raise AttributeError(\"Are we also interested in cross attention?\")",
   "outputs": [],
   "execution_count": null
  },
  {
   "cell_type": "code",
   "metadata": {},
   "source": [
    "model_name = \"openai/whisper-large-v3\"\n",
    "config = AutoConfig.from_pretrained(model_name)\n",
    "model = AutoModel.from_pretrained(model_name)\n",
    "models = get_scores(models,\n",
    "                    model_name, model, config,\n",
    "                    path, download_model = True)\n"
   ],
   "outputs": [],
   "execution_count": null
  },
  {
   "cell_type": "code",
   "metadata": {},
   "source": [
    "'save'\n",
    "with open(dir, 'wb') as file:\n",
    "    pickle.dump(models, file)"
   ],
   "outputs": [],
   "execution_count": null
  },
  {
   "cell_type": "code",
   "metadata": {},
   "source": [],
   "outputs": [],
   "execution_count": null
  }
 ],
 "metadata": {
  "kernelspec": {
   "display_name": "attention-geometry",
   "language": "python",
   "name": "python3"
  },
  "language_info": {
   "codemirror_mode": {
    "name": "ipython",
    "version": 3
   },
   "file_extension": ".py",
   "mimetype": "text/x-python",
   "name": "python",
   "nbconvert_exporter": "python",
   "pygments_lexer": "ipython3",
   "version": "3.11.5"
  }
 },
 "nbformat": 4,
 "nbformat_minor": 2
}
