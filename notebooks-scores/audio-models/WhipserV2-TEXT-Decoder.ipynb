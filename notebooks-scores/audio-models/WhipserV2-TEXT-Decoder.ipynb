{
 "cells": [
  {
   "cell_type": "code",
   "metadata": {},
   "source": [
    "import pickle\n",
    "\n",
    "from transformers import AutoModel, AutoConfig\n",
    "from utils.funs import create_dict\n",
    "from utils.scores import get_scores"
   ],
   "outputs": [],
   "execution_count": 2
  },
  {
   "metadata": {
    "ExecuteTime": {
     "end_time": "2024-12-29T18:08:18.827256Z",
     "start_time": "2024-12-29T18:08:17.534055Z"
    }
   },
   "cell_type": "code",
   "source": [
    "model_name = \"openai/whisper-large-v2\"\n",
    "config = AutoConfig.from_pretrained(model_name)\n",
    "model = AutoModel.from_pretrained(model_name)\n",
    "print(model)"
   ],
   "outputs": [
    {
     "name": "stdout",
     "output_type": "stream",
     "text": [
      "WhisperModel(\n",
      "  (encoder): WhisperEncoder(\n",
      "    (conv1): Conv1d(80, 1280, kernel_size=(3,), stride=(1,), padding=(1,))\n",
      "    (conv2): Conv1d(1280, 1280, kernel_size=(3,), stride=(2,), padding=(1,))\n",
      "    (embed_positions): Embedding(1500, 1280)\n",
      "    (layers): ModuleList(\n",
      "      (0-31): 32 x WhisperEncoderLayer(\n",
      "        (self_attn): WhisperSdpaAttention(\n",
      "          (k_proj): Linear(in_features=1280, out_features=1280, bias=False)\n",
      "          (v_proj): Linear(in_features=1280, out_features=1280, bias=True)\n",
      "          (q_proj): Linear(in_features=1280, out_features=1280, bias=True)\n",
      "          (out_proj): Linear(in_features=1280, out_features=1280, bias=True)\n",
      "        )\n",
      "        (self_attn_layer_norm): LayerNorm((1280,), eps=1e-05, elementwise_affine=True)\n",
      "        (activation_fn): GELUActivation()\n",
      "        (fc1): Linear(in_features=1280, out_features=5120, bias=True)\n",
      "        (fc2): Linear(in_features=5120, out_features=1280, bias=True)\n",
      "        (final_layer_norm): LayerNorm((1280,), eps=1e-05, elementwise_affine=True)\n",
      "      )\n",
      "    )\n",
      "    (layer_norm): LayerNorm((1280,), eps=1e-05, elementwise_affine=True)\n",
      "  )\n",
      "  (decoder): WhisperDecoder(\n",
      "    (embed_tokens): Embedding(51865, 1280, padding_idx=50257)\n",
      "    (embed_positions): WhisperPositionalEmbedding(448, 1280)\n",
      "    (layers): ModuleList(\n",
      "      (0-31): 32 x WhisperDecoderLayer(\n",
      "        (self_attn): WhisperSdpaAttention(\n",
      "          (k_proj): Linear(in_features=1280, out_features=1280, bias=False)\n",
      "          (v_proj): Linear(in_features=1280, out_features=1280, bias=True)\n",
      "          (q_proj): Linear(in_features=1280, out_features=1280, bias=True)\n",
      "          (out_proj): Linear(in_features=1280, out_features=1280, bias=True)\n",
      "        )\n",
      "        (activation_fn): GELUActivation()\n",
      "        (self_attn_layer_norm): LayerNorm((1280,), eps=1e-05, elementwise_affine=True)\n",
      "        (encoder_attn): WhisperSdpaAttention(\n",
      "          (k_proj): Linear(in_features=1280, out_features=1280, bias=False)\n",
      "          (v_proj): Linear(in_features=1280, out_features=1280, bias=True)\n",
      "          (q_proj): Linear(in_features=1280, out_features=1280, bias=True)\n",
      "          (out_proj): Linear(in_features=1280, out_features=1280, bias=True)\n",
      "        )\n",
      "        (encoder_attn_layer_norm): LayerNorm((1280,), eps=1e-05, elementwise_affine=True)\n",
      "        (fc1): Linear(in_features=1280, out_features=5120, bias=True)\n",
      "        (fc2): Linear(in_features=5120, out_features=1280, bias=True)\n",
      "        (final_layer_norm): LayerNorm((1280,), eps=1e-05, elementwise_affine=True)\n",
      "      )\n",
      "    )\n",
      "    (layer_norm): LayerNorm((1280,), eps=1e-05, elementwise_affine=True)\n",
      "  )\n",
      ")\n"
     ]
    }
   ],
   "execution_count": 4
  },
  {
   "cell_type": "code",
   "metadata": {},
   "source": [
    "models, dir = create_dict('audio-models', 'whisperv2-decoder.pkl')\n",
    "\n",
    "path = [\"decoder.layers[\", \n",
    "        \"].self_attn.q_proj.weight\", \n",
    "        \"].self_attn.k_proj.weight\"]"
   ],
   "outputs": [],
   "execution_count": null
  },
  {
   "metadata": {},
   "cell_type": "code",
   "source": "raise AttributeError(\"Are we also interested in cross attention?\")",
   "outputs": [],
   "execution_count": null
  },
  {
   "cell_type": "code",
   "metadata": {},
   "source": [
    "model_name = \"openai/whisper-large-v2\"\n",
    "config = AutoConfig.from_pretrained(model_name)\n",
    "model = AutoModel.from_pretrained(model_name)\n",
    "models = get_scores(models,\n",
    "                    model_name, model, config,\n",
    "                    path, download_model = True)\n"
   ],
   "outputs": [],
   "execution_count": null
  },
  {
   "cell_type": "code",
   "metadata": {},
   "source": [
    "'save'\n",
    "with open(dir, 'wb') as file:\n",
    "    pickle.dump(models, file)"
   ],
   "outputs": [],
   "execution_count": null
  },
  {
   "cell_type": "code",
   "metadata": {},
   "source": [],
   "outputs": [],
   "execution_count": null
  }
 ],
 "metadata": {
  "kernelspec": {
   "display_name": "attention-geometry",
   "language": "python",
   "name": "python3"
  },
  "language_info": {
   "codemirror_mode": {
    "name": "ipython",
    "version": 3
   },
   "file_extension": ".py",
   "mimetype": "text/x-python",
   "name": "python",
   "nbconvert_exporter": "python",
   "pygments_lexer": "ipython3",
   "version": "3.11.5"
  }
 },
 "nbformat": 4,
 "nbformat_minor": 2
}
