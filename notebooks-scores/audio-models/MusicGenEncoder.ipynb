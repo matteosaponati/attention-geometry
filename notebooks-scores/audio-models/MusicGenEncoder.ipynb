{
 "cells": [
  {
   "cell_type": "code",
   "execution_count": 1,
   "metadata": {},
   "outputs": [
    {
     "name": "stderr",
     "output_type": "stream",
     "text": [
      "/opt/homebrew/Caskroom/miniconda/base/envs/attention-geometry/lib/python3.11/site-packages/tqdm/auto.py:21: TqdmWarning: IProgress not found. Please update jupyter and ipywidgets. See https://ipywidgets.readthedocs.io/en/stable/user_install.html\n",
      "  from .autonotebook import tqdm as notebook_tqdm\n"
     ]
    }
   ],
   "source": [
    "import pickle\n",
    "\n",
    "from transformers import MusicgenForConditionalGeneration, AutoModelForTextToWaveform, AutoConfig\n",
    "from utils.funs import create_dict\n",
    "from utils.scores import get_scores"
   ]
  },
  {
   "cell_type": "code",
   "execution_count": 5,
   "metadata": {},
   "outputs": [],
   "source": [
    "models, dir = create_dict('audio-models', 'MusicGenEncoder.pkl')\n",
    "\n",
    "path = [\"text_encoder.encoder.block[\", \n",
    "        \"].layer[0].SelfAttention.q.weight\", \n",
    "        \"].layer[0].SelfAttention.k.weight\"]"
   ]
  },
  {
   "cell_type": "code",
   "execution_count": 6,
   "metadata": {},
   "outputs": [
    {
     "name": "stderr",
     "output_type": "stream",
     "text": [
      "/opt/homebrew/Caskroom/miniconda/base/envs/attention-geometry/lib/python3.11/site-packages/transformers/models/encodec/modeling_encodec.py:124: UserWarning: To copy construct from a tensor, it is recommended to use sourceTensor.clone().detach() or sourceTensor.clone().detach().requires_grad_(True), rather than torch.tensor(sourceTensor).\n",
      "  self.register_buffer(\"padding_total\", torch.tensor(kernel_size - stride, dtype=torch.int64), persistent=False)\n"
     ]
    },
    {
     "name": "stdout",
     "output_type": "stream",
     "text": [
      "100% processing complete 12\n",
      "100% processing complete 12\n"
     ]
    },
    {
     "name": "stderr",
     "output_type": "stream",
     "text": [
      "/opt/homebrew/Caskroom/miniconda/base/envs/attention-geometry/lib/python3.11/site-packages/torch/_utils.py:831: UserWarning: TypedStorage is deprecated. It will be removed in the future and UntypedStorage will be the only storage class. This should only matter to you if you are using storages directly.  To access UntypedStorage directly, use tensor.untyped_storage() instead of tensor.storage()\n",
      "  return self.fget.__get__(instance, owner)()\n"
     ]
    },
    {
     "name": "stdout",
     "output_type": "stream",
     "text": [
      "100% processing complete 12\n",
      "100% processing complete 12\n"
     ]
    },
    {
     "name": "stderr",
     "output_type": "stream",
     "text": [
      "Loading checkpoint shards: 100%|██████████| 2/2 [00:00<00:00,  6.53it/s]\n"
     ]
    },
    {
     "name": "stdout",
     "output_type": "stream",
     "text": [
      "100% processing complete 12\n"
     ]
    },
    {
     "name": "stderr",
     "output_type": "stream",
     "text": [
      "Loading checkpoint shards: 100%|██████████| 2/2 [00:03<00:00,  1.56s/it]"
     ]
    },
    {
     "name": "stdout",
     "output_type": "stream",
     "text": [
      " 25% processing layer 3/12"
     ]
    },
    {
     "name": "stderr",
     "output_type": "stream",
     "text": [
      "\n"
     ]
    },
    {
     "name": "stdout",
     "output_type": "stream",
     "text": [
      "100% processing complete 12\n"
     ]
    }
   ],
   "source": [
    "model_name = \"facebook/musicgen-small\"\n",
    "config = AutoConfig.from_pretrained(model_name)\n",
    "config.num_hidden_layers = config.text_encoder.num_layers\n",
    "config.hidden_size = config.text_encoder.d_model\n",
    "config.num_attention_heads = config.text_encoder.num_heads\n",
    "model = MusicgenForConditionalGeneration.from_pretrained(model_name)\n",
    "models = get_scores(models,\n",
    "                    model_name, model, config,\n",
    "                    path, download_model = True)\n",
    "\n",
    "model_name = \"facebook/musicgen-stereo-small\"\n",
    "config = AutoConfig.from_pretrained(model_name)\n",
    "config.num_hidden_layers = config.text_encoder.num_layers\n",
    "config.hidden_size = config.text_encoder.d_model\n",
    "config.num_attention_heads = config.text_encoder.num_heads\n",
    "model = AutoModelForTextToWaveform.from_pretrained(model_name)\n",
    "models = get_scores(models,\n",
    "                    model_name, model, config,\n",
    "                    path, download_model = True)\n",
    "\n",
    "model_name = \"facebook/musicgen-medium\"\n",
    "config = AutoConfig.from_pretrained(model_name)\n",
    "config.num_hidden_layers = config.text_encoder.num_layers\n",
    "config.hidden_size = config.text_encoder.d_model\n",
    "config.num_attention_heads = config.text_encoder.num_heads\n",
    "model = MusicgenForConditionalGeneration.from_pretrained(model_name)\n",
    "models = get_scores(models,\n",
    "                    model_name, model, config,\n",
    "                    path, download_model = True)\n",
    "\n",
    "model_name = \"facebook/musicgen-stereo-medium\"\n",
    "config = AutoConfig.from_pretrained(model_name)\n",
    "config.num_hidden_layers = config.text_encoder.num_layers\n",
    "config.hidden_size = config.text_encoder.d_model\n",
    "config.num_attention_heads = config.text_encoder.num_heads\n",
    "model = AutoModelForTextToWaveform.from_pretrained(model_name)\n",
    "models = get_scores(models,\n",
    "                    model_name, model, config,\n",
    "                    path, download_model = True)\n",
    "\n",
    "model_name = \"facebook/musicgen-large\"\n",
    "config = AutoConfig.from_pretrained(model_name)\n",
    "config.num_hidden_layers = config.text_encoder.num_layers\n",
    "config.hidden_size = config.text_encoder.d_model\n",
    "config.num_attention_heads = config.text_encoder.num_heads\n",
    "model = MusicgenForConditionalGeneration.from_pretrained(model_name)\n",
    "models = get_scores(models,\n",
    "                    model_name, model, config,\n",
    "                    path, download_model = True)\n",
    "\n",
    "model_name = \"facebook/musicgen-stereo-large\"\n",
    "config = AutoConfig.from_pretrained(model_name)\n",
    "config.num_hidden_layers = config.text_encoder.num_layers\n",
    "config.hidden_size = config.text_encoder.d_model\n",
    "config.num_attention_heads = config.text_encoder.num_heads\n",
    "model = AutoModelForTextToWaveform.from_pretrained(model_name)\n",
    "models = get_scores(models,\n",
    "                    model_name, model, config,\n",
    "                    path, download_model = True)"
   ]
  },
  {
   "cell_type": "code",
   "execution_count": 7,
   "metadata": {},
   "outputs": [],
   "source": [
    "'save'\n",
    "with open(dir, 'wb') as file:\n",
    "    pickle.dump(models, file)"
   ]
  },
  {
   "cell_type": "code",
   "execution_count": null,
   "metadata": {},
   "outputs": [],
   "source": []
  }
 ],
 "metadata": {
  "kernelspec": {
   "display_name": "attention-geometry",
   "language": "python",
   "name": "python3"
  },
  "language_info": {
   "codemirror_mode": {
    "name": "ipython",
    "version": 3
   },
   "file_extension": ".py",
   "mimetype": "text/x-python",
   "name": "python",
   "nbconvert_exporter": "python",
   "pygments_lexer": "ipython3",
   "version": "3.12.3"
  }
 },
 "nbformat": 4,
 "nbformat_minor": 2
}
