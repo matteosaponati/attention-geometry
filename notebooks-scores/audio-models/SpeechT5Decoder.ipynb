{
 "cells": [
  {
   "cell_type": "code",
   "execution_count": 8,
   "metadata": {},
   "outputs": [],
   "source": [
    "import pickle\n",
    "\n",
    "from transformers import AutoModelForTextToSpectrogram, AutoConfig\n",
    "from utils.funs import create_dict\n",
    "from utils.scores import get_scores"
   ]
  },
  {
   "cell_type": "code",
   "execution_count": 9,
   "metadata": {},
   "outputs": [],
   "source": [
    "models, dir = create_dict('audio-models', 'SpeechT5Decoder.pkl')\n",
    "\n",
    "path = [\"speecht5.decoder.wrapped_decoder.layers[\", \n",
    "        \"].self_attn.q_proj.weight\", \n",
    "        \"].self_attn.k_proj.weight\"]"
   ]
  },
  {
   "cell_type": "code",
   "execution_count": 10,
   "metadata": {},
   "outputs": [
    {
     "name": "stdout",
     "output_type": "stream",
     "text": [
      "100% processing complete \n"
     ]
    },
    {
     "name": "stderr",
     "output_type": "stream",
     "text": [
      "Some weights of SpeechT5ForTextToSpeech were not initialized from the model checkpoint at microsoft/speecht5_asr and are newly initialized: ['speech_decoder_postnet.feat_out.bias', 'speech_decoder_postnet.feat_out.weight', 'speech_decoder_postnet.layers.0.batch_norm.bias', 'speech_decoder_postnet.layers.0.batch_norm.num_batches_tracked', 'speech_decoder_postnet.layers.0.batch_norm.running_mean', 'speech_decoder_postnet.layers.0.batch_norm.running_var', 'speech_decoder_postnet.layers.0.batch_norm.weight', 'speech_decoder_postnet.layers.0.conv.weight', 'speech_decoder_postnet.layers.1.batch_norm.bias', 'speech_decoder_postnet.layers.1.batch_norm.num_batches_tracked', 'speech_decoder_postnet.layers.1.batch_norm.running_mean', 'speech_decoder_postnet.layers.1.batch_norm.running_var', 'speech_decoder_postnet.layers.1.batch_norm.weight', 'speech_decoder_postnet.layers.1.conv.weight', 'speech_decoder_postnet.layers.2.batch_norm.bias', 'speech_decoder_postnet.layers.2.batch_norm.num_batches_tracked', 'speech_decoder_postnet.layers.2.batch_norm.running_mean', 'speech_decoder_postnet.layers.2.batch_norm.running_var', 'speech_decoder_postnet.layers.2.batch_norm.weight', 'speech_decoder_postnet.layers.2.conv.weight', 'speech_decoder_postnet.layers.3.batch_norm.bias', 'speech_decoder_postnet.layers.3.batch_norm.num_batches_tracked', 'speech_decoder_postnet.layers.3.batch_norm.running_mean', 'speech_decoder_postnet.layers.3.batch_norm.running_var', 'speech_decoder_postnet.layers.3.batch_norm.weight', 'speech_decoder_postnet.layers.3.conv.weight', 'speech_decoder_postnet.layers.4.batch_norm.bias', 'speech_decoder_postnet.layers.4.batch_norm.num_batches_tracked', 'speech_decoder_postnet.layers.4.batch_norm.running_mean', 'speech_decoder_postnet.layers.4.batch_norm.running_var', 'speech_decoder_postnet.layers.4.batch_norm.weight', 'speech_decoder_postnet.layers.4.conv.weight', 'speech_decoder_postnet.prob_out.bias', 'speech_decoder_postnet.prob_out.weight', 'speecht5.decoder.prenet.encode_positions.alpha', 'speecht5.decoder.prenet.final_layer.bias', 'speecht5.decoder.prenet.final_layer.weight', 'speecht5.decoder.prenet.layers.0.bias', 'speecht5.decoder.prenet.layers.0.weight', 'speecht5.decoder.prenet.layers.1.bias', 'speecht5.decoder.prenet.layers.1.weight', 'speecht5.decoder.prenet.speaker_embeds_layer.bias', 'speecht5.decoder.prenet.speaker_embeds_layer.weight', 'speecht5.encoder.prenet.embed_tokens.weight', 'speecht5.encoder.prenet.encode_positions.alpha']\n",
      "You should probably TRAIN this model on a down-stream task to be able to use it for predictions and inference.\n"
     ]
    },
    {
     "name": "stdout",
     "output_type": "stream",
     "text": [
      "100% processing complete \n"
     ]
    },
    {
     "name": "stderr",
     "output_type": "stream",
     "text": [
      "Some weights of SpeechT5ForTextToSpeech were not initialized from the model checkpoint at microsoft/speecht5_vc and are newly initialized: ['speecht5.encoder.prenet.embed_tokens.weight', 'speecht5.encoder.prenet.encode_positions.alpha']\n",
      "You should probably TRAIN this model on a down-stream task to be able to use it for predictions and inference.\n"
     ]
    },
    {
     "name": "stdout",
     "output_type": "stream",
     "text": [
      "100% processing complete \n"
     ]
    }
   ],
   "source": [
    "model_name = \"microsoft/speecht5_tts\"\n",
    "config = AutoConfig.from_pretrained(model_name)\n",
    "config.encoder_layers = config.speech_decoder_postnet_layers\n",
    "model = AutoModelForTextToSpectrogram.from_pretrained(model_name)\n",
    "models = get_scores(models,\n",
    "                    model_name, model, config,\n",
    "                    path, download_model = True)\n",
    "\n",
    "model_name = \"microsoft/speecht5_asr\"\n",
    "config = AutoConfig.from_pretrained(model_name)\n",
    "config.encoder_layers = config.speech_decoder_postnet_layers\n",
    "model = AutoModelForTextToSpectrogram.from_pretrained(model_name)\n",
    "models = get_scores(models,\n",
    "                    model_name, model, config,\n",
    "                    path, download_model = True)\n",
    "\n",
    "model_name = \"microsoft/speecht5_vc\"\n",
    "config = AutoConfig.from_pretrained(model_name)\n",
    "config.encoder_layers = config.speech_decoder_postnet_layers\n",
    "model = AutoModelForTextToSpectrogram.from_pretrained(model_name)\n",
    "models = get_scores(models,\n",
    "                    model_name, model, config,\n",
    "                    path, download_model = True)"
   ]
  },
  {
   "cell_type": "code",
   "execution_count": 11,
   "metadata": {},
   "outputs": [],
   "source": [
    "'save'\n",
    "with open(dir, 'wb') as file:\n",
    "    pickle.dump(models, file)"
   ]
  },
  {
   "cell_type": "code",
   "execution_count": null,
   "metadata": {},
   "outputs": [],
   "source": []
  }
 ],
 "metadata": {
  "kernelspec": {
   "display_name": "attention-geometry",
   "language": "python",
   "name": "python3"
  },
  "language_info": {
   "codemirror_mode": {
    "name": "ipython",
    "version": 3
   },
   "file_extension": ".py",
   "mimetype": "text/x-python",
   "name": "python",
   "nbconvert_exporter": "python",
   "pygments_lexer": "ipython3",
   "version": "3.12.3"
  }
 },
 "nbformat": 4,
 "nbformat_minor": 2
}
