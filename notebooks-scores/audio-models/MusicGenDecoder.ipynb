{
 "cells": [
  {
   "cell_type": "code",
   "execution_count": 1,
   "metadata": {},
   "outputs": [
    {
     "name": "stderr",
     "output_type": "stream",
     "text": [
      "/opt/homebrew/Caskroom/miniconda/base/envs/attention-geometry/lib/python3.11/site-packages/tqdm/auto.py:21: TqdmWarning: IProgress not found. Please update jupyter and ipywidgets. See https://ipywidgets.readthedocs.io/en/stable/user_install.html\n",
      "  from .autonotebook import tqdm as notebook_tqdm\n"
     ]
    }
   ],
   "source": [
    "import pickle\n",
    "\n",
    "from transformers import MusicgenForConditionalGeneration, AutoModelForTextToWaveform, AutoConfig\n",
    "from utils.funs import create_dict\n",
    "from utils.scores import get_scores"
   ]
  },
  {
   "cell_type": "code",
   "execution_count": 11,
   "metadata": {},
   "outputs": [],
   "source": [
    "models, dir = create_dict('audio-models', 'MusicGenDecoder.pkl')\n",
    "\n",
    "path = [\"decoder.model.decoder.layers[\", \n",
    "        \"].encoder_attn.q_proj.weight\", \n",
    "        \"].encoder_attn.k_proj.weight\"]"
   ]
  },
  {
   "cell_type": "code",
   "execution_count": 12,
   "metadata": {},
   "outputs": [
    {
     "name": "stdout",
     "output_type": "stream",
     "text": [
      "100% processing complete 24\n",
      "100% processing complete 24\n"
     ]
    },
    {
     "name": "stderr",
     "output_type": "stream",
     "text": [
      "/opt/homebrew/Caskroom/miniconda/base/envs/attention-geometry/lib/python3.11/site-packages/torch/_utils.py:831: UserWarning: TypedStorage is deprecated. It will be removed in the future and UntypedStorage will be the only storage class. This should only matter to you if you are using storages directly.  To access UntypedStorage directly, use tensor.untyped_storage() instead of tensor.storage()\n",
      "  return self.fget.__get__(instance, owner)()\n"
     ]
    },
    {
     "name": "stdout",
     "output_type": "stream",
     "text": [
      "100% processing complete 48\n",
      "100% processing complete 48\n"
     ]
    },
    {
     "name": "stderr",
     "output_type": "stream",
     "text": [
      "Downloading shards: 100%|██████████| 2/2 [05:01<00:00, 150.89s/it]\n",
      "Loading checkpoint shards: 100%|██████████| 2/2 [00:00<00:00,  4.77it/s]\n"
     ]
    },
    {
     "name": "stdout",
     "output_type": "stream",
     "text": [
      "100% processing complete 48\n"
     ]
    },
    {
     "name": "stderr",
     "output_type": "stream",
     "text": [
      "Downloading shards: 100%|██████████| 2/2 [03:01<00:00, 90.98s/it] \n",
      "Loading checkpoint shards: 100%|██████████| 2/2 [00:07<00:00,  3.82s/it]\n"
     ]
    },
    {
     "name": "stdout",
     "output_type": "stream",
     "text": [
      "100% processing complete 48\n"
     ]
    }
   ],
   "source": [
    "model_name = \"facebook/musicgen-small\"\n",
    "config = AutoConfig.from_pretrained(model_name)\n",
    "config.num_hidden_layers = config.decoder.num_hidden_layers\n",
    "config.hidden_size = config.decoder.hidden_size\n",
    "config.num_attention_heads = config.decoder.num_attention_heads\n",
    "model = MusicgenForConditionalGeneration.from_pretrained(model_name)\n",
    "models = get_scores(models,\n",
    "                    model_name, model, config,\n",
    "                    path, download_model = True)\n",
    "\n",
    "model_name = \"facebook/musicgen-stereo-small\"\n",
    "config = AutoConfig.from_pretrained(model_name)\n",
    "config.num_hidden_layers = config.decoder.num_hidden_layers\n",
    "config.hidden_size = config.decoder.hidden_size\n",
    "config.num_attention_heads = config.decoder.num_attention_heads\n",
    "model = AutoModelForTextToWaveform.from_pretrained(model_name)\n",
    "models = get_scores(models,\n",
    "                    model_name, model, config,\n",
    "                    path, download_model = True)\n",
    "\n",
    "model_name = \"facebook/musicgen-medium\"\n",
    "config = AutoConfig.from_pretrained(model_name)\n",
    "config.num_hidden_layers = config.decoder.num_hidden_layers\n",
    "config.hidden_size = config.decoder.hidden_size\n",
    "config.num_attention_heads = config.decoder.num_attention_heads\n",
    "model = MusicgenForConditionalGeneration.from_pretrained(model_name)\n",
    "models = get_scores(models,\n",
    "                    model_name, model, config,\n",
    "                    path, download_model = True)\n",
    "\n",
    "model_name = \"facebook/musicgen-stereo-medium\"\n",
    "config = AutoConfig.from_pretrained(model_name)\n",
    "config.num_hidden_layers = config.decoder.num_hidden_layers\n",
    "config.hidden_size = config.decoder.hidden_size\n",
    "config.num_attention_heads = config.decoder.num_attention_heads\n",
    "model = AutoModelForTextToWaveform.from_pretrained(model_name)\n",
    "models = get_scores(models,\n",
    "                    model_name, model, config,\n",
    "                    path, download_model = True)\n",
    "\n",
    "model_name = \"facebook/musicgen-large\"\n",
    "config = AutoConfig.from_pretrained(model_name)\n",
    "config.num_hidden_layers = config.decoder.num_hidden_layers\n",
    "config.hidden_size = config.decoder.hidden_size\n",
    "config.num_attention_heads = config.decoder.num_attention_heads\n",
    "model = MusicgenForConditionalGeneration.from_pretrained(model_name)\n",
    "models = get_scores(models,\n",
    "                    model_name, model, config,\n",
    "                    path, download_model = True)\n",
    "\n",
    "model_name = \"facebook/musicgen-stereo-large\"\n",
    "config = AutoConfig.from_pretrained(model_name)\n",
    "config.num_hidden_layers = config.decoder.num_hidden_layers\n",
    "config.hidden_size = config.decoder.hidden_size\n",
    "config.num_attention_heads = config.decoder.num_attention_heads\n",
    "model = AutoModelForTextToWaveform.from_pretrained(model_name)\n",
    "models = get_scores(models,\n",
    "                    model_name, model, config,\n",
    "                    path, download_model = True)"
   ]
  },
  {
   "cell_type": "code",
   "execution_count": 13,
   "metadata": {},
   "outputs": [],
   "source": [
    "'save'\n",
    "with open(dir, 'wb') as file:\n",
    "    pickle.dump(models, file)"
   ]
  },
  {
   "cell_type": "code",
   "execution_count": null,
   "metadata": {},
   "outputs": [],
   "source": []
  }
 ],
 "metadata": {
  "kernelspec": {
   "display_name": "attention-geometry",
   "language": "python",
   "name": "python3"
  },
  "language_info": {
   "codemirror_mode": {
    "name": "ipython",
    "version": 3
   },
   "file_extension": ".py",
   "mimetype": "text/x-python",
   "name": "python",
   "nbconvert_exporter": "python",
   "pygments_lexer": "ipython3",
   "version": "3.11.5"
  }
 },
 "nbformat": 4,
 "nbformat_minor": 2
}
