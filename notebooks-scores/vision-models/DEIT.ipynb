{
 "cells": [
  {
   "cell_type": "code",
   "execution_count": 9,
   "metadata": {
    "ExecuteTime": {
     "end_time": "2024-12-29T14:25:17.303438Z",
     "start_time": "2024-12-29T14:25:06.917794Z"
    }
   },
   "outputs": [],
   "source": [
    "import pickle\n",
    "\n",
    "from transformers import AutoModel, AutoConfig, AutoModelForImageClassification\n",
    "from utils.funs import create_dict\n",
    "from utils.scores import get_scores"
   ]
  },
  {
   "cell_type": "code",
   "execution_count": 11,
   "metadata": {},
   "outputs": [],
   "source": [
    "models, dir = create_dict('vision-models', 'DEIT.pkl')\n",
    "\n",
    "path = [\"vit.encoder.layer[\", \n",
    "        \"].attention.attention.query.weight\", \n",
    "        \"].attention.attention.key.weight\"]"
   ]
  },
  {
   "cell_type": "code",
   "execution_count": 13,
   "metadata": {},
   "outputs": [
    {
     "name": "stdout",
     "output_type": "stream",
     "text": [
      "100% processing complete 12\n",
      "100% processing complete 12\n",
      "100% processing complete 12\n"
     ]
    }
   ],
   "source": [
    "model_name = 'facebook/deit-tiny-patch16-224'\n",
    "config = AutoConfig.from_pretrained(model_name)\n",
    "model = AutoModelForImageClassification.from_pretrained(model_name)\n",
    "models = get_scores(models,\n",
    "                    model_name, model, config,\n",
    "                    path, download_model = True)\n",
    "\n",
    "model_name = 'facebook/deit-small-patch16-224'\n",
    "config = AutoConfig.from_pretrained(model_name)\n",
    "model = AutoModelForImageClassification.from_pretrained(model_name)\n",
    "models = get_scores(models,\n",
    "                    model_name, model, config,\n",
    "                    path, download_model = True)\n",
    "\n",
    "model_name = 'facebook/deit-base-patch16-224'\n",
    "config = AutoConfig.from_pretrained(model_name)\n",
    "model = AutoModelForImageClassification.from_pretrained(model_name)\n",
    "models = get_scores(models,\n",
    "                    model_name, model, config,\n",
    "                    path, download_model = True)"
   ]
  },
  {
   "cell_type": "code",
   "execution_count": 14,
   "metadata": {},
   "outputs": [],
   "source": [
    "'save'\n",
    "with open(dir, 'wb') as file:\n",
    "    pickle.dump(models, file)"
   ]
  },
  {
   "cell_type": "code",
   "execution_count": null,
   "metadata": {},
   "outputs": [],
   "source": []
  }
 ],
 "metadata": {
  "kernelspec": {
   "display_name": "attention-geometry",
   "language": "python",
   "name": "python3"
  },
  "language_info": {
   "codemirror_mode": {
    "name": "ipython",
    "version": 3
   },
   "file_extension": ".py",
   "mimetype": "text/x-python",
   "name": "python",
   "nbconvert_exporter": "python",
   "pygments_lexer": "ipython3",
   "version": "3.12.3"
  }
 },
 "nbformat": 4,
 "nbformat_minor": 2
}
