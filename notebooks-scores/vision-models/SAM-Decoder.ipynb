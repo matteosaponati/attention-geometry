{
 "cells": [
  {
   "cell_type": "code",
   "metadata": {
    "ExecuteTime": {
     "end_time": "2024-12-29T14:58:37.425499Z",
     "start_time": "2024-12-29T14:58:30.442108Z"
    }
   },
   "source": [
    "import pickle\n",
    "\n",
    "from transformers import AutoModel, AutoConfig\n",
    "from utils.funs import create_dict\n",
    "from utils.scores import get_scores"
   ],
   "outputs": [],
   "execution_count": 2
  },
  {
   "metadata": {
    "ExecuteTime": {
     "end_time": "2024-12-29T14:58:48.412375Z",
     "start_time": "2024-12-29T14:58:37.438713Z"
    }
   },
   "cell_type": "code",
   "source": [
    "model_name = 'facebook/sam-vit-base'\n",
    "config = AutoConfig.from_pretrained(model_name)\n",
    "model = AutoModel.from_pretrained(model_name)\n",
    "print(model)"
   ],
   "outputs": [
    {
     "name": "stderr",
     "output_type": "stream",
     "text": [
      "2024-12-29 15:58:42.464680: I tensorflow/core/platform/cpu_feature_guard.cc:210] This TensorFlow binary is optimized to use available CPU instructions in performance-critical operations.\n",
      "To enable the following instructions: AVX2 AVX512F AVX512_VNNI FMA, in other operations, rebuild TensorFlow with the appropriate compiler flags.\n"
     ]
    },
    {
     "name": "stdout",
     "output_type": "stream",
     "text": [
      "SamModel(\n",
      "  (shared_image_embedding): SamPositionalEmbedding()\n",
      "  (vision_encoder): SamVisionEncoder(\n",
      "    (patch_embed): SamPatchEmbeddings(\n",
      "      (projection): Conv2d(3, 768, kernel_size=(16, 16), stride=(16, 16))\n",
      "    )\n",
      "    (layers): ModuleList(\n",
      "      (0-11): 12 x SamVisionLayer(\n",
      "        (layer_norm1): LayerNorm((768,), eps=1e-06, elementwise_affine=True)\n",
      "        (attn): SamVisionAttention(\n",
      "          (qkv): Linear(in_features=768, out_features=2304, bias=True)\n",
      "          (proj): Linear(in_features=768, out_features=768, bias=True)\n",
      "        )\n",
      "        (layer_norm2): LayerNorm((768,), eps=1e-06, elementwise_affine=True)\n",
      "        (mlp): SamMLPBlock(\n",
      "          (lin1): Linear(in_features=768, out_features=3072, bias=True)\n",
      "          (lin2): Linear(in_features=3072, out_features=768, bias=True)\n",
      "          (act): GELUActivation()\n",
      "        )\n",
      "      )\n",
      "    )\n",
      "    (neck): SamVisionNeck(\n",
      "      (conv1): Conv2d(768, 256, kernel_size=(1, 1), stride=(1, 1), bias=False)\n",
      "      (layer_norm1): SamLayerNorm()\n",
      "      (conv2): Conv2d(256, 256, kernel_size=(3, 3), stride=(1, 1), padding=(1, 1), bias=False)\n",
      "      (layer_norm2): SamLayerNorm()\n",
      "    )\n",
      "  )\n",
      "  (prompt_encoder): SamPromptEncoder(\n",
      "    (shared_embedding): SamPositionalEmbedding()\n",
      "    (mask_embed): SamMaskEmbedding(\n",
      "      (activation): GELUActivation()\n",
      "      (conv1): Conv2d(1, 4, kernel_size=(2, 2), stride=(2, 2))\n",
      "      (conv2): Conv2d(4, 16, kernel_size=(2, 2), stride=(2, 2))\n",
      "      (conv3): Conv2d(16, 256, kernel_size=(1, 1), stride=(1, 1))\n",
      "      (layer_norm1): SamLayerNorm()\n",
      "      (layer_norm2): SamLayerNorm()\n",
      "    )\n",
      "    (no_mask_embed): Embedding(1, 256)\n",
      "    (point_embed): ModuleList(\n",
      "      (0-3): 4 x Embedding(1, 256)\n",
      "    )\n",
      "    (not_a_point_embed): Embedding(1, 256)\n",
      "  )\n",
      "  (mask_decoder): SamMaskDecoder(\n",
      "    (iou_token): Embedding(1, 256)\n",
      "    (mask_tokens): Embedding(4, 256)\n",
      "    (transformer): SamTwoWayTransformer(\n",
      "      (layers): ModuleList(\n",
      "        (0-1): 2 x SamTwoWayAttentionBlock(\n",
      "          (self_attn): SamAttention(\n",
      "            (q_proj): Linear(in_features=256, out_features=256, bias=True)\n",
      "            (k_proj): Linear(in_features=256, out_features=256, bias=True)\n",
      "            (v_proj): Linear(in_features=256, out_features=256, bias=True)\n",
      "            (out_proj): Linear(in_features=256, out_features=256, bias=True)\n",
      "          )\n",
      "          (layer_norm1): LayerNorm((256,), eps=1e-06, elementwise_affine=True)\n",
      "          (cross_attn_token_to_image): SamAttention(\n",
      "            (q_proj): Linear(in_features=256, out_features=128, bias=True)\n",
      "            (k_proj): Linear(in_features=256, out_features=128, bias=True)\n",
      "            (v_proj): Linear(in_features=256, out_features=128, bias=True)\n",
      "            (out_proj): Linear(in_features=128, out_features=256, bias=True)\n",
      "          )\n",
      "          (layer_norm2): LayerNorm((256,), eps=1e-06, elementwise_affine=True)\n",
      "          (mlp): SamMLPBlock(\n",
      "            (lin1): Linear(in_features=256, out_features=2048, bias=True)\n",
      "            (lin2): Linear(in_features=2048, out_features=256, bias=True)\n",
      "            (act): ReLU()\n",
      "          )\n",
      "          (layer_norm3): LayerNorm((256,), eps=1e-06, elementwise_affine=True)\n",
      "          (layer_norm4): LayerNorm((256,), eps=1e-06, elementwise_affine=True)\n",
      "          (cross_attn_image_to_token): SamAttention(\n",
      "            (q_proj): Linear(in_features=256, out_features=128, bias=True)\n",
      "            (k_proj): Linear(in_features=256, out_features=128, bias=True)\n",
      "            (v_proj): Linear(in_features=256, out_features=128, bias=True)\n",
      "            (out_proj): Linear(in_features=128, out_features=256, bias=True)\n",
      "          )\n",
      "        )\n",
      "      )\n",
      "      (final_attn_token_to_image): SamAttention(\n",
      "        (q_proj): Linear(in_features=256, out_features=128, bias=True)\n",
      "        (k_proj): Linear(in_features=256, out_features=128, bias=True)\n",
      "        (v_proj): Linear(in_features=256, out_features=128, bias=True)\n",
      "        (out_proj): Linear(in_features=128, out_features=256, bias=True)\n",
      "      )\n",
      "      (layer_norm_final_attn): LayerNorm((256,), eps=1e-05, elementwise_affine=True)\n",
      "    )\n",
      "    (upscale_conv1): ConvTranspose2d(256, 64, kernel_size=(2, 2), stride=(2, 2))\n",
      "    (upscale_conv2): ConvTranspose2d(64, 32, kernel_size=(2, 2), stride=(2, 2))\n",
      "    (upscale_layer_norm): SamLayerNorm()\n",
      "    (activation): GELU(approximate='none')\n",
      "    (output_hypernetworks_mlps): ModuleList(\n",
      "      (0-3): 4 x SamFeedForward(\n",
      "        (activation): ReLU()\n",
      "        (proj_in): Linear(in_features=256, out_features=256, bias=True)\n",
      "        (proj_out): Linear(in_features=256, out_features=32, bias=True)\n",
      "        (layers): ModuleList(\n",
      "          (0): Linear(in_features=256, out_features=256, bias=True)\n",
      "        )\n",
      "      )\n",
      "    )\n",
      "    (iou_prediction_head): SamFeedForward(\n",
      "      (activation): ReLU()\n",
      "      (proj_in): Linear(in_features=256, out_features=256, bias=True)\n",
      "      (proj_out): Linear(in_features=256, out_features=4, bias=True)\n",
      "      (layers): ModuleList(\n",
      "        (0): Linear(in_features=256, out_features=256, bias=True)\n",
      "      )\n",
      "    )\n",
      "  )\n",
      ")\n"
     ]
    }
   ],
   "execution_count": 3
  },
  {
   "cell_type": "code",
   "metadata": {
    "ExecuteTime": {
     "end_time": "2024-12-29T14:58:48.498862Z",
     "start_time": "2024-12-29T14:58:48.492974Z"
    }
   },
   "source": [
    "models, dir = create_dict('vision-models', 'SAM-Decoder.pkl')\n",
    "\n",
    "path = [\"mask_decoder.transformer.layers[\", \n",
    "        \"].self_attn.q_proj.weight\",\n",
    "        \"].self_attn.k_proj.weight\"]"
   ],
   "outputs": [],
   "execution_count": 4
  },
  {
   "metadata": {
    "ExecuteTime": {
     "end_time": "2024-12-29T14:59:44.030926Z",
     "start_time": "2024-12-29T14:59:44.000878Z"
    }
   },
   "cell_type": "code",
   "source": [
    "print(config.num_hidden_layers)\n",
    "raise NotImplementedError(\"Not implemented\")"
   ],
   "outputs": [
    {
     "ename": "AttributeError",
     "evalue": "'SamConfig' object has no attribute 'num_hidden_layers'",
     "output_type": "error",
     "traceback": [
      "\u001B[0;31m---------------------------------------------------------------------------\u001B[0m",
      "\u001B[0;31mAttributeError\u001B[0m                            Traceback (most recent call last)",
      "Cell \u001B[0;32mIn[6], line 1\u001B[0m\n\u001B[0;32m----> 1\u001B[0m \u001B[38;5;28mprint\u001B[39m(config\u001B[38;5;241m.\u001B[39mnum_hidden_layers)\n\u001B[1;32m      2\u001B[0m \u001B[38;5;28;01mraise\u001B[39;00m \u001B[38;5;167;01mNotImplementedError\u001B[39;00m(\u001B[38;5;124m\"\u001B[39m\u001B[38;5;124mNot implemented\u001B[39m\u001B[38;5;124m\"\u001B[39m)\n",
      "File \u001B[0;32m~/opt/anaconda3/envs/phd-playground/lib/python3.11/site-packages/transformers/configuration_utils.py:210\u001B[0m, in \u001B[0;36mPretrainedConfig.__getattribute__\u001B[0;34m(self, key)\u001B[0m\n\u001B[1;32m    208\u001B[0m \u001B[38;5;28;01mif\u001B[39;00m key \u001B[38;5;241m!=\u001B[39m \u001B[38;5;124m\"\u001B[39m\u001B[38;5;124mattribute_map\u001B[39m\u001B[38;5;124m\"\u001B[39m \u001B[38;5;129;01mand\u001B[39;00m key \u001B[38;5;129;01min\u001B[39;00m \u001B[38;5;28msuper\u001B[39m()\u001B[38;5;241m.\u001B[39m\u001B[38;5;21m__getattribute__\u001B[39m(\u001B[38;5;124m\"\u001B[39m\u001B[38;5;124mattribute_map\u001B[39m\u001B[38;5;124m\"\u001B[39m):\n\u001B[1;32m    209\u001B[0m     key \u001B[38;5;241m=\u001B[39m \u001B[38;5;28msuper\u001B[39m()\u001B[38;5;241m.\u001B[39m\u001B[38;5;21m__getattribute__\u001B[39m(\u001B[38;5;124m\"\u001B[39m\u001B[38;5;124mattribute_map\u001B[39m\u001B[38;5;124m\"\u001B[39m)[key]\n\u001B[0;32m--> 210\u001B[0m \u001B[38;5;28;01mreturn\u001B[39;00m \u001B[38;5;28msuper\u001B[39m()\u001B[38;5;241m.\u001B[39m\u001B[38;5;21m__getattribute__\u001B[39m(key)\n",
      "\u001B[0;31mAttributeError\u001B[0m: 'SamConfig' object has no attribute 'num_hidden_layers'"
     ]
    }
   ],
   "execution_count": 6
  },
  {
   "cell_type": "code",
   "metadata": {},
   "source": [
    "model_name = 'facebook/sam-vit-base'\n",
    "config = AutoConfig.from_pretrained(model_name)\n",
    "config.num_hidden_layers = 2\n",
    "config.hidden_size = 256\n",
    "config.num_attention_heads = 8\n",
    "model = AutoModel.from_pretrained(model_name)\n",
    "models = get_scores(models,\n",
    "                    model_name, model, config,\n",
    "                    path, download_model = True)\n",
    "\n",
    "model_name = 'facebook/sam-vit-large'\n",
    "config = AutoConfig.from_pretrained(model_name)\n",
    "config.num_hidden_layers = 2\n",
    "config.hidden_size = 256\n",
    "config.num_attention_heads = 8\n",
    "model = AutoModel.from_pretrained(model_name)\n",
    "models = get_scores(models,\n",
    "                    model_name, model, config,\n",
    "                    path, download_model = True)\n",
    "\n",
    "model_name = 'facebook/sam-vit-huge'\n",
    "config = AutoConfig.from_pretrained(model_name)\n",
    "config.num_hidden_layers = 2\n",
    "config.hidden_size = 256\n",
    "config.num_attention_heads = 8\n",
    "model = AutoModel.from_pretrained(model_name)\n",
    "models = get_scores(models,\n",
    "                    model_name, model, config,\n",
    "                    path, download_model = True)"
   ],
   "outputs": [],
   "execution_count": null
  },
  {
   "cell_type": "code",
   "metadata": {},
   "source": [
    "'save'\n",
    "with open(dir, 'wb') as file:\n",
    "    pickle.dump(models, file)"
   ],
   "outputs": [],
   "execution_count": null
  },
  {
   "cell_type": "code",
   "metadata": {},
   "source": [],
   "outputs": [],
   "execution_count": null
  },
  {
   "cell_type": "code",
   "metadata": {},
   "source": [],
   "outputs": [],
   "execution_count": null
  }
 ],
 "metadata": {
  "kernelspec": {
   "display_name": "attention-geometry",
   "language": "python",
   "name": "python3"
  },
  "language_info": {
   "codemirror_mode": {
    "name": "ipython",
    "version": 3
   },
   "file_extension": ".py",
   "mimetype": "text/x-python",
   "name": "python",
   "nbconvert_exporter": "python",
   "pygments_lexer": "ipython3",
   "version": "3.11.5"
  }
 },
 "nbformat": 4,
 "nbformat_minor": 2
}
