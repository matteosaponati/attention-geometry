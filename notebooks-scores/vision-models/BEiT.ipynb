{
 "cells": [
  {
   "cell_type": "code",
   "execution_count": 2,
   "metadata": {},
   "outputs": [],
   "source": [
    "import pickle\n",
    "\n",
    "from transformers import BeitForMaskedImageModeling, AutoModelForImageClassification, AutoConfig\n",
    "from utils.funs import create_dict\n",
    "from utils.scores import get_scores"
   ]
  },
  {
   "cell_type": "code",
   "execution_count": 8,
   "metadata": {},
   "outputs": [],
   "source": [
    "models, dir = create_dict('vision-models', 'BEiT.pkl')\n",
    "\n",
    "path = [\"beit.encoder.layer[\", \n",
    "        \"].attention.attention.query.weight\", \n",
    "        \"].attention.attention.key.weight\"]"
   ]
  },
  {
   "cell_type": "code",
   "execution_count": 9,
   "metadata": {},
   "outputs": [
    {
     "name": "stdout",
     "output_type": "stream",
     "text": [
      "100% processing complete 12\n",
      "100% processing complete 24\n",
      "100% processing complete 12\n",
      "100% processing complete 24\n",
      "100% processing complete 12\n",
      "100% processing complete 24\n",
      "100% processing complete 24\n"
     ]
    }
   ],
   "source": [
    "'BEiT base 16-224-pt22k'\n",
    "model_name = \"microsoft/beit-base-patch16-224-pt22k\"\n",
    "config = AutoConfig.from_pretrained(model_name)\n",
    "model = BeitForMaskedImageModeling.from_pretrained(model_name)\n",
    "models = get_scores(models,\n",
    "                    model_name, model, config,\n",
    "                    path, download_model = True,\n",
    "                    attn_type = \"BEiT\")\n",
    "\n",
    "'BEiT large 16-224-pt22k'\n",
    "model_name = \"microsoft/beit-large-patch16-224-pt22k\"\n",
    "config = AutoConfig.from_pretrained(model_name)\n",
    "model = BeitForMaskedImageModeling.from_pretrained(model_name)\n",
    "models = get_scores(models,\n",
    "                    model_name, model, config,\n",
    "                    path, download_model = True,\n",
    "                    attn_type = \"BEiT\")\n",
    "\n",
    "'BEiT base 16-224'\n",
    "model_name = \"microsoft/beit-base-patch16-224\"\n",
    "config = AutoConfig.from_pretrained(model_name)\n",
    "model = AutoModelForImageClassification.from_pretrained(model_name)\n",
    "models = get_scores(models,\n",
    "                    model_name, model, config,\n",
    "                    path, download_model = True,\n",
    "                    attn_type = \"BEiT\")\n",
    "\n",
    "'BEiT large 16-224'\n",
    "model_name = \"microsoft/beit-large-patch16-224\"\n",
    "config = AutoConfig.from_pretrained(model_name)\n",
    "model = AutoModelForImageClassification.from_pretrained(model_name)\n",
    "models = get_scores(models,\n",
    "                    model_name, model, config,\n",
    "                    path, download_model = True,\n",
    "                    attn_type = \"BEiT\")\n",
    "\n",
    "'BEiT base 16-384'\n",
    "model_name = \"microsoft/beit-base-patch16-384\"\n",
    "config = AutoConfig.from_pretrained(model_name)\n",
    "model = AutoModelForImageClassification.from_pretrained(model_name)\n",
    "models = get_scores(models,\n",
    "                    model_name, model, config,\n",
    "                    path, download_model = True,\n",
    "                    attn_type = \"BEiT\")\n",
    "\n",
    "'BEiT large 16-384'\n",
    "model_name = \"microsoft/beit-large-patch16-384\"\n",
    "config = AutoConfig.from_pretrained(model_name)\n",
    "model = AutoModelForImageClassification.from_pretrained(model_name)\n",
    "models = get_scores(models,\n",
    "                    model_name, model, config,\n",
    "                    path, download_model = True,\n",
    "                    attn_type = \"BEiT\")\n",
    "\n",
    "'BEiT large 16-512'\n",
    "model_name = \"microsoft/beit-large-patch16-512\"\n",
    "config = AutoConfig.from_pretrained(model_name)\n",
    "model = AutoModelForImageClassification.from_pretrained(model_name)\n",
    "models = get_scores(models,\n",
    "                    model_name, model, config,\n",
    "                    path, download_model = True,\n",
    "                    attn_type = \"BEiT\")"
   ]
  },
  {
   "cell_type": "code",
   "execution_count": 10,
   "metadata": {},
   "outputs": [],
   "source": [
    "'save'\n",
    "with open(dir, 'wb') as file:\n",
    "    pickle.dump(models, file)"
   ]
  },
  {
   "cell_type": "code",
   "execution_count": null,
   "metadata": {},
   "outputs": [],
   "source": []
  }
 ],
 "metadata": {
  "kernelspec": {
   "display_name": "attention-geometry",
   "language": "python",
   "name": "python3"
  },
  "language_info": {
   "codemirror_mode": {
    "name": "ipython",
    "version": 3
   },
   "file_extension": ".py",
   "mimetype": "text/x-python",
   "name": "python",
   "nbconvert_exporter": "python",
   "pygments_lexer": "ipython3",
   "version": "3.11.5"
  }
 },
 "nbformat": 4,
 "nbformat_minor": 2
}
